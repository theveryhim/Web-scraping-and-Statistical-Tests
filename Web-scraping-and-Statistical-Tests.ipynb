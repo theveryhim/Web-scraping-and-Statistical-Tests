{
 "cells": [
  {
   "cell_type": "markdown",
   "id": "4e44dda6-950b-49ef-b3ff-d04a40b32d83",
   "metadata": {},
   "source": [
    "# Import necessary packages"
   ]
  },
  {
   "cell_type": "code",
   "execution_count": 141,
   "id": "927cbf85-4e5e-479e-8f4f-efe061c57b6a",
   "metadata": {},
   "outputs": [],
   "source": [
    "import numpy as np\n",
    "import pandas as pd\n",
    "import matplotlib.pyplot as plt\n",
    "import seaborn as ss\n",
    "import re\n",
    "from bs4 import BeautifulSoup\n",
    "import sqlite3\n",
    "import requests\n",
    "from selenium import webdriver\n",
    "from selenium.webdriver.common.by import By\n",
    "from selenium.webdriver.common.keys import Keys\n",
    "from selenium.webdriver.chrome.service import Service\n",
    "from webdriver_manager.chrome import ChromeDriverManager\n",
    "from selenium.webdriver.support.ui import WebDriverWait\n",
    "from selenium.webdriver.support import expected_conditions as EC\n",
    "from selenium.webdriver.chrome.options import Options\n",
    "import time\n",
    "\n",
    "# ====================================\n",
    "# feel free to import any other package\n",
    "# ===================================="
   ]
  },
  {
   "cell_type": "markdown",
   "id": "4c972acb-1576-41b1-85e8-7a7cbd9497d4",
   "metadata": {},
   "source": [
    "# 1. NBA Leaders!"
   ]
  },
  {
   "cell_type": "markdown",
   "id": "e8065eef-4f56-4b29-b1ef-c1b764799513",
   "metadata": {},
   "source": [
    "The <b><a href=\"https://global.nba.com/\"> NBA official website</a></b> offers the latest news on players, teams, and playoffs for basketball fans. For this task, we'll focus solely on players from the 2024-2025 season. Our plan is to scrape the freely available data from the site and then analyze it statistically."
   ]
  },
  {
   "cell_type": "markdown",
   "id": "c3752b3a-00e2-4181-9012-03d3d27ac511",
   "metadata": {},
   "source": [
    "## 1.1 Crawling Season Leaders Data"
   ]
  },
  {
   "cell_type": "markdown",
   "id": "4ad57740",
   "metadata": {},
   "source": [
    "Inspect the webpage at https://global.nba.com/statistics/\n",
    "\n",
    "It contains the top 50 season leaders along with their statistics. The columns in the table represent the following :\n",
    "\n",
    "* RANK: The player's current ranking\n",
    "* PLAYER: The player's name\n",
    "* TEAM: The player's current team\n",
    "* G: Games played\n",
    "* GS: Games started\n",
    "* PPG: Points per game\n",
    "* RPG: Rebounds per game\n",
    "* APG: Assists per game\n",
    "* MPG: Minutes played per game\n",
    "* EFF: Efficiency rating, a measure of overall statistical contribution\n",
    "* FG%: Field goal percentage (how often a player makes a shot)\n",
    "* 3P%: 3-point field goal percentage\n",
    "* FT%: Free throw percentage\n",
    "* OFF: Offensive rebounds per game\n",
    "* DEF: Defensive rebounds per game\n",
    "* SPG: Steals per game\n",
    "* BPG: Blocks per game\n",
    "* TO: Turnovers per game\n",
    "* PF: Personal fouls per game\n",
    "* TO: Turnovers per game\n",
    "* PF: Personal fouls per game\n",
    "* PO: Points per game\n",
    "\n",
    "Using the `BeautifulSoup` package, scrape the data from this webpage. You must first scrape and save the data to a Python dictionary. To store the data, you will be using a SQLite database."
   ]
  },
  {
   "cell_type": "code",
   "execution_count": 28,
   "id": "50064430-97d2-4a93-9927-1a549c8ef719",
   "metadata": {},
   "outputs": [
    {
     "name": "stdout",
     "output_type": "stream",
     "text": [
      "(1, 'Giannis Antetokounmpo', 'MIL', 11, 11, 33.3, 12.1, 5.5, 35.5, 37.5, 61.6, 22.2, 61.0, 2.3, 9.8, 0.5, 1.4, 2.8, 3.2)\n",
      "(2, 'Anthony Davis', 'LAL', 10, 10, 30.2, 10.8, 2.8, 34.8, 34.5, 56.0, 40.0, 80.0, 2.1, 8.7, 1.2, 2.1, 2.3, 1.6)\n",
      "(3, 'Jayson Tatum', 'BOS', 13, 13, 30.2, 7.6, 5.6, 36.1, 30.2, 46.7, 37.8, 81.0, 0.5, 7.2, 1.5, 0.6, 2.9, 2.6)\n",
      "(4, 'LaMelo Ball', 'CHA', 11, 11, 29.9, 5.0, 6.3, 33.5, 24.6, 44.7, 37.5, 84.9, 1.0, 4.0, 1.4, 0.3, 4.5, 4.0)\n",
      "(5, 'Nikola Jokić', 'DEN', 10, 10, 29.7, 13.7, 11.7, 38.1, 44.2, 56.3, 56.4, 84.3, 4.5, 9.2, 1.7, 1.0, 4.1, 2.0)\n",
      "(6, 'Paolo Banchero', 'ORL', 5, 5, 29.0, 8.8, 5.6, 36.4, 28.6, 49.5, 34.4, 64.4, 2.4, 6.4, 0.6, 0.8, 2.2, 2.6)\n",
      "(7, 'Luka Dončić', 'DAL', 11, 11, 28.5, 8.1, 7.9, 37.9, 27.9, 41.9, 32.1, 79.2, 0.5, 7.6, 1.5, 0.4, 3.3, 3.2)\n",
      "(8, 'Shai Gilgeous-Alexander', 'OKC', 12, 12, 27.9, 5.5, 6.3, 33.2, 29.2, 49.8, 30.9, 88.9, 0.8, 4.8, 1.8, 1.2, 2.8, 1.7)\n",
      "(9, 'Anthony Edwards', 'MIN', 12, 12, 27.8, 5.2, 3.8, 36.6, 22.6, 46.2, 42.3, 73.2, 0.4, 4.8, 1.3, 0.6, 3.3, 2.0)\n",
      "(10, 'Kevin Durant', 'PHX', 9, 9, 27.6, 6.6, 3.4, 38.8, 27.4, 55.3, 42.9, 83.6, 0.2, 6.3, 0.8, 1.4, 3.3, 1.8)\n",
      "(11, 'Tyrese Maxey', 'PHI', 7, 7, 27.6, 3.0, 3.9, 39.7, 19.3, 40.6, 28.6, 82.2, 0.0, 3.0, 1.4, 0.6, 2.0, 2.9)\n",
      "(12, 'Karl Anthony Towns', 'NYK', 11, 11, 26.5, 12.2, 2.7, 33.9, 31.7, 53.6, 50.8, 82.3, 3.0, 9.2, 0.8, 0.8, 2.0, 3.4)\n",
      "(13, 'Damian Lillard', 'MIL', 10, 10, 26.0, 4.6, 6.6, 35.8, 25.1, 44.4, 34.8, 90.9, 0.8, 3.8, 1.0, 0.2, 2.7, 1.9)\n",
      "(14, 'Jaylen Brown', 'BOS', 9, 9, 25.4, 7.2, 3.7, 36.1, 22.0, 42.4, 29.5, 76.4, 1.6, 5.7, 1.2, 0.3, 2.2, 2.6)\n",
      "(15, 'Kyrie Irving', 'DAL', 11, 11, 25.2, 4.6, 4.9, 35.6, 26.1, 54.5, 54.1, 85.7, 1.2, 3.5, 1.5, 0.3, 1.9, 2.1)\n",
      "(16, 'Tyler Herro', 'MIA', 10, 10, 24.9, 5.2, 5.3, 33.5, 24.7, 50.9, 47.9, 82.9, 0.2, 5.0, 0.7, 0.2, 2.6, 2.5)\n",
      "(17, 'Norman Powell', 'LAC', 12, 12, 24.9, 3.4, 2.6, 34.3, 21.0, 50.5, 49.5, 83.3, 0.3, 3.1, 1.3, 0.3, 2.3, 2.3)\n",
      "(18, \"De'Aaron Fox\", 'SAC', 12, 12, 24.6, 5.3, 5.2, 36.8, 23.1, 48.7, 28.8, 86.2, 1.0, 4.3, 1.7, 0.1, 3.4, 2.9)\n",
      "(19, 'Jalen Brunson', 'NYK', 11, 11, 24.3, 2.9, 6.5, 34.5, 20.9, 46.3, 37.7, 81.8, 0.5, 2.5, 0.5, 0.0, 2.2, 2.1)\n",
      "(20, 'LeBron James', 'LAL', 11, 11, 24.3, 8.1, 9.4, 35.0, 30.7, 52.4, 45.9, 78.9, 0.5, 7.6, 0.6, 0.5, 3.1, 1.5)\n",
      "(21, 'Stephen Curry', 'GSW', 8, 8, 23.9, 4.8, 6.6, 29.1, 25.1, 48.1, 43.2, 93.9, 0.3, 4.5, 1.8, 0.6, 3.6, 1.4)\n",
      "(22, 'Trae Young', 'ATL', 11, 11, 23.9, 4.2, 11.5, 36.5, 24.4, 39.0, 33.3, 88.5, 1.0, 3.2, 1.3, 0.2, 4.5, 1.9)\n",
      "(23, 'Cade Cunningham', 'DET', 13, 13, 23.8, 7.2, 8.5, 36.8, 24.7, 45.6, 36.4, 83.0, 0.8, 6.4, 0.6, 1.1, 5.0, 2.6)\n",
      "(24, 'Cam Thomas', 'BKN', 12, 12, 23.8, 3.3, 3.1, 33.9, 17.6, 43.5, 36.4, 90.4, 0.3, 3.0, 0.8, 0.0, 2.8, 2.2)\n",
      "(25, 'Donovan Mitchell', 'CLE', 13, 13, 23.6, 4.2, 4.1, 30.9, 21.1, 46.4, 40.7, 85.4, 0.6, 3.5, 1.5, 0.2, 2.2, 2.2)\n",
      "(26, 'Zach LaVine', 'CHI', 9, 9, 23.4, 5.3, 3.8, 34.7, 21.9, 54.2, 42.6, 73.7, 0.3, 5.0, 0.9, 0.4, 3.7, 1.3)\n",
      "(27, 'Devin Booker', 'PHX', 12, 12, 23.3, 3.7, 6.8, 36.5, 22.8, 43.4, 34.0, 86.5, 1.3, 2.4, 1.2, 0.4, 1.8, 1.8)\n",
      "(28, 'DeMar DeRozan', 'SAC', 12, 12, 22.9, 4.1, 4.1, 36.5, 23.0, 52.6, 40.0, 85.9, 0.6, 3.5, 1.7, 0.7, 1.9, 1.3)\n",
      "(29, 'Zion Williamson', 'NOP', 6, 6, 22.7, 8.0, 5.3, 31.0, 21.3, 45.2, 33.3, 66.7, 2.7, 5.3, 0.7, 1.2, 3.7, 3.0)\n",
      "(30, 'Brandon Ingram', 'NOP', 12, 12, 22.5, 5.9, 5.1, 33.0, 20.8, 47.0, 35.4, 89.3, 1.2, 4.8, 0.8, 0.5, 3.7, 2.7)\n",
      "(31, 'Jaren Jackson Jr.', 'MEM', 10, 10, 22.5, 5.6, 1.0, 28.2, 21.6, 54.7, 39.2, 75.9, 1.1, 4.5, 1.5, 1.2, 2.1, 3.3)\n",
      "(32, 'Victor Wembanyama', 'SAS', 12, 12, 22.3, 10.2, 2.7, 31.3, 27.3, 47.1, 34.3, 87.2, 2.1, 8.1, 1.3, 3.8, 3.4, 2.0)\n",
      "(33, 'Jordan Poole', 'WAS', 10, 10, 22.2, 2.0, 4.4, 30.6, 18.9, 45.7, 44.4, 92.3, 0.3, 1.7, 2.3, 0.7, 3.5, 3.4)\n",
      "(34, 'Franz Wagner', 'ORL', 13, 13, 21.5, 5.2, 4.7, 29.8, 21.1, 47.1, 32.9, 83.3, 1.1, 4.1, 1.5, 0.2, 2.2, 2.0)\n",
      "(35, 'RJ Barrett', 'TOR', 9, 9, 21.3, 5.8, 5.7, 33.0, 17.8, 41.5, 31.6, 69.6, 0.8, 5.0, 1.1, 0.1, 3.6, 2.7)\n",
      "(36, 'Jalen Green', 'HOU', 12, 12, 20.8, 4.8, 3.1, 33.8, 15.4, 38.5, 34.5, 86.0, 0.5, 4.3, 0.8, 0.4, 2.7, 2.3)\n",
      "(37, 'Jalen Williams', 'OKC', 12, 12, 20.8, 6.3, 5.2, 32.2, 24.5, 51.3, 42.1, 77.8, 1.0, 5.3, 2.1, 0.9, 2.3, 2.8)\n",
      "(38, 'James Harden', 'LAC', 12, 12, 20.7, 8.2, 8.8, 34.8, 23.8, 36.2, 31.3, 85.4, 0.8, 7.3, 1.7, 0.8, 4.8, 2.4)\n",
      "(39, 'Nikola Vučević', 'CHI', 12, 12, 20.7, 10.2, 3.2, 32.4, 27.7, 59.1, 44.9, 85.7, 2.6, 7.6, 0.8, 0.8, 1.8, 2.5)\n",
      "(40, 'Ja Morant', 'MEM', 8, 8, 20.6, 5.0, 9.1, 27.9, 21.6, 44.8, 25.8, 83.3, 0.5, 4.5, 0.6, 0.3, 4.3, 1.8)\n",
      "(41, 'Darius Garland', 'CLE', 13, 13, 20.5, 2.2, 6.5, 29.8, 21.2, 53.4, 44.9, 89.3, 0.6, 1.5, 1.3, 0.3, 2.5, 2.5)\n",
      "(42, 'Pascal Siakam', 'IND', 11, 11, 20.5, 6.5, 4.3, 34.0, 23.7, 55.7, 47.2, 75.0, 1.7, 4.8, 0.7, 0.2, 1.4, 2.7)\n",
      "(43, 'Julius Randle', 'MIN', 12, 12, 20.2, 6.9, 4.2, 33.4, 21.2, 51.5, 38.0, 79.7, 2.2, 4.8, 0.6, 0.1, 2.8, 2.7)\n",
      "(44, 'Gradey Dick', 'TOR', 12, 12, 20.1, 2.6, 2.3, 32.4, 16.1, 44.8, 37.3, 88.5, 0.6, 2.0, 1.1, 0.4, 1.5, 2.2)\n",
      "(45, 'Domantas Sabonis', 'SAC', 12, 12, 19.9, 12.6, 6.8, 36.2, 31.9, 63.8, 44.4, 83.9, 2.9, 9.7, 0.7, 0.3, 3.3, 3.8)\n",
      "(46, 'Bennedict Mathurin', 'IND', 11, 6, 19.7, 6.6, 1.7, 30.8, 20.3, 53.4, 46.5, 81.4, 1.1, 5.5, 0.5, 0.1, 1.7, 2.6)\n",
      "(47, 'Coby White', 'CHI', 12, 12, 19.7, 3.6, 5.0, 33.8, 18.1, 43.6, 37.3, 86.7, 0.2, 3.4, 1.5, 0.2, 2.9, 2.6)\n",
      "(48, 'Scottie Barnes', 'TOR', 4, 4, 19.3, 7.8, 6.0, 33.5, 21.5, 46.0, 18.2, 73.9, 2.5, 5.3, 2.0, 0.5, 4.0, 3.0)\n",
      "(49, 'Dennis Schröder', 'BKN', 12, 12, 19.3, 3.0, 5.9, 34.6, 19.6, 49.1, 46.2, 84.6, 0.2, 2.8, 1.3, 0.0, 2.4, 2.6)\n",
      "(50, 'Jalen Johnson', 'ATL', 12, 12, 19.0, 10.2, 5.3, 36.7, 23.7, 45.5, 31.6, 70.4, 2.0, 8.2, 1.5, 0.9, 3.3, 2.7)\n"
     ]
    }
   ],
   "source": [
    "def create_sqlite_table(db_file='nba_leaders.db'):\n",
    "    conn = sqlite3.connect(db_file)\n",
    "    cursor = conn.cursor()\n",
    "\n",
    "    # ========================================================= #\n",
    "    cursor.execute(\"DROP TABLE IF EXISTS players\")\n",
    "    table = \"\"\"CREATE TABLE players (\n",
    "    RANK INTEGER,\n",
    "    PLAYER TEXT,\n",
    "    TEAM TEXT,\n",
    "    G INTEGER,\n",
    "    GS INTEGER,\n",
    "    PPG REAL,\n",
    "    RPG REAL,\n",
    "    APG REAL,\n",
    "    MPG REAL,\n",
    "    EFF REAL,\n",
    "    \"FG%\" REAL,\n",
    "    \"3P%\" REAL,\n",
    "    \"FT%\" REAL,\n",
    "    OFF REAL,\n",
    "    DEF REAL,\n",
    "    SPG REAL,\n",
    "    BPG REAL,\n",
    "    \"TO\" REAL,\n",
    "    PF REAL\n",
    "    );\n",
    "    \"\"\"\n",
    "    cursor.execute(table)\n",
    "    # ========================================================= #\n",
    "    \n",
    "    conn.commit()\n",
    "    conn.close()\n",
    "\n",
    "\n",
    "def scrape_nba_data(url):\n",
    "    # ========================================================= #\n",
    "    # Set up the Selenium driver (e.g., Chrome)\n",
    "    C_options = Options()   # Avoiding chrome opening\n",
    "    C_options.add_argument(\"--headless\")  # Run in headless mode\n",
    "    C_options.add_argument(\"--disable-gpu\")  # Disable GPU (optional but recommended)\n",
    "    C_options.add_argument(\"--no-sandbox\")  # Prevent issues on certain systems\n",
    "    C_options.add_argument(\"--disable-dev-shm-usage\")  # Avoid memory issues in Docker or VMs\n",
    "    driver = webdriver.Chrome(options=C_options)\n",
    "\n",
    "    driver.get(url)\n",
    "    # Wait for loading\n",
    "    time.sleep(10)\n",
    "    # cookie agreement\n",
    "    butt = driver.find_element(By.XPATH,'//button[@class=\"onetrust-close-btn-handler banner-close-button ot-close-link\"]')\n",
    "    butt.click()\n",
    "    time.sleep(10)\n",
    "    page_source = driver.page_source\n",
    "    soup = BeautifulSoup(page_source, \"html.parser\")\n",
    "\n",
    "    # Close the driver after scraping\n",
    "    driver.quit()\n",
    "    table = soup.find('tbody')\n",
    "    nba_stats =[]\n",
    "    for tr in table.findAll('tr'):  # tr: each player\n",
    "        text = [text for text in tr.text.splitlines() if text.strip()]\n",
    "        player_data = { # Assigning data\n",
    "                \"RANK\":text[0],\n",
    "                \"PLAYER\":text[1] + ' ' + text[2],\n",
    "                \"TEAM\":text[3],\n",
    "                \"G\":text[4],\n",
    "                \"GS\":text[5],\n",
    "                \"PPG\":text[6],\n",
    "                \"RPG\":text[7],\n",
    "                \"APG\":text[8],\n",
    "                \"MPG\":text[9],\n",
    "                \"EFF\":text[10],\n",
    "                \"FG%\": text[11],\n",
    "                \"3P%\": text[12],\n",
    "                \"FT%\": text[13],\n",
    "                \"OFF\": text[14],\n",
    "                \"DEF\": text[15],\n",
    "                \"SPG\": text[16],\n",
    "                \"BPG\": text[17],\n",
    "                \"TO\": text[18],\n",
    "                \"PF\": text[19],\n",
    "            }\n",
    "            # Append the player data dictionary to the list\n",
    "        nba_stats.append(player_data)\n",
    "    return nba_stats\n",
    "    # ========================================================= #\n",
    "\n",
    "\n",
    "def save_to_sqlite(data, db_file='nba_leaders.db'):\n",
    "    conn = sqlite3.connect(db_file)\n",
    "\n",
    "    # ========================================================= #\n",
    "    df = pd.DataFrame(data)\n",
    "    df.to_sql('players', conn, if_exists='append', index=False)\n",
    "    # ========================================================= #\n",
    "    \n",
    "    conn.commit()\n",
    "    conn.close()\n",
    "\n",
    "url = \"https://global.nba.com/statistics/\"\n",
    "data = scrape_nba_data(url)\n",
    "\n",
    "create_sqlite_table()\n",
    "\n",
    "save_to_sqlite(data)\n",
    "\n",
    "conn = sqlite3.connect('nba_leaders.db')\n",
    "cursor = conn.cursor()\n",
    "dummy = cursor.execute('''SELECT * FROM players''') \n",
    "for row in dummy: \n",
    "    print(row)"
   ]
  },
  {
   "cell_type": "markdown",
   "id": "6f992ad0-3a8a-41c5-b21c-352c875af469",
   "metadata": {},
   "source": [
    "## 1.2 Crawling Players Personal Information"
   ]
  },
  {
   "cell_type": "markdown",
   "id": "85b6950b-1168-4ee5-a453-d462d5288a41",
   "metadata": {},
   "source": [
    "Inspect the webpage at https://global.nba.com/playerindex/\n",
    "\n",
    "It provides personal information of all the players in the season along with the functionality to filter the players by name.\n",
    "\n",
    "To be able to filter the players in the webpage, you must perform the scraping using the package `Selenium`.\n",
    "\n",
    "Create another SQL table named **players_personal_info**. this one and the table in the previous questions must be related via a defined key."
   ]
  },
  {
   "cell_type": "code",
   "execution_count": 37,
   "id": "e6a4a51b-14ec-4e84-b1b6-48833d40aef3",
   "metadata": {},
   "outputs": [
    {
     "name": "stdout",
     "output_type": "stream",
     "text": [
      "('Precious Achiuwa', 'NYK', 'F', '6-8', '243 lbs', 4, 'Nigeria')\n",
      "('Steven Adams', 'HOU', 'C', '6-11', '265 lbs', 10, 'New Zealand')\n",
      "('Bam Adebayo', 'MIA', 'C-F', '6-9', '255 lbs', 7, 'United States')\n",
      "('Ochai Agbaji', 'TOR', 'G', '6-5', '215 lbs', 2, 'United States')\n",
      "('Santi Aldama', 'MEM', 'F-C', '7-0', '215 lbs', 3, 'Spain')\n",
      "('Trey Alexander', 'DEN', 'G', '6-4', '185 lbs', 0, 'United States')\n",
      "('Nickeil Alexander-Walker', 'MIN', 'G', '6-5', '205 lbs', 5, 'Canada')\n",
      "('Grayson Allen', 'PHX', 'G', '6-4', '198 lbs', 6, 'United States')\n",
      "('Jarrett Allen', 'CLE', 'C', '6-9', '243 lbs', 7, 'United States')\n",
      "('Jose Alvarado', 'NOP', 'G', '6-0', '179 lbs', 3, 'United States')\n",
      "('Kyle Anderson', 'GSW', 'F-G', '6-9', '230 lbs', 10, 'United States')\n",
      "('Giannis Antetokounmpo', 'MIL', 'F', '6-11', '243 lbs', 11, 'Greece')\n",
      "('Cole Anthony', 'ORL', 'G', '6-2', '185 lbs', 4, 'United States')\n",
      "('OG Anunoby', 'NYK', 'F-G', '6-7', '240 lbs', 7, 'United Kingdom')\n",
      "('Deni Avdija', 'POR', 'F', '6-9', '240 lbs', 4, 'Israel')\n",
      "('Deandre Ayton', 'POR', 'C', '7-0', '252 lbs', 6, 'Bahamas')\n",
      "('Marvin Bagley III', 'WAS', 'F', '6-10', '235 lbs', 6, 'United States')\n",
      "('Patrick Baldwin Jr.', 'WAS', 'F', '6-9', '220 lbs', 2, 'United States')\n",
      "('LaMelo Ball', 'CHA', 'G', '6-7', '180 lbs', 4, 'United States')\n",
      "('Lonzo Ball', 'CHI', 'G', '6-6', '190 lbs', 5, 'United States')\n",
      "('Mo Bamba', 'LAC', 'C', '7-0', '231 lbs', 6, 'United States')\n",
      "('Paolo Banchero', 'ORL', 'F', '6-10', '250 lbs', 2, 'United States')\n",
      "('Desmond Bane', 'MEM', 'G', '6-5', '215 lbs', 4, 'United States')\n",
      "('Dalano Banton', 'POR', 'F', '6-8', '203 lbs', 3, 'Canada')\n",
      "('Dominick Barlow', 'ATL', 'F', '6-8', '215 lbs', 2, 'United States')\n",
      "('Harrison Barnes', 'SAS', 'F', '6-8', '225 lbs', 12, 'United States')\n",
      "('Scottie Barnes', 'TOR', 'F-G', '6-7', '237 lbs', 3, 'United States')\n",
      "('RJ Barrett', 'TOR', 'F-G', '6-6', '214 lbs', 5, 'Canada')\n",
      "('Charles Bassey', 'SAS', 'C-F', '6-10', '230 lbs', 3, 'Nigeria')\n",
      "('Emoni Bates', 'CLE', 'F', '6-8', '170 lbs', 1, 'United States')\n",
      "('Jamison Battle', 'TOR', 'F', '6-7', '220 lbs', 0, 'United States')\n",
      "('Nicolas Batum', 'LAC', 'G-F', '6-8', '230 lbs', 16, 'France')\n",
      "('Bradley Beal', 'PHX', 'G', '6-4', '207 lbs', 12, 'United States')\n",
      "('Malik Beasley', 'DET', 'G', '6-4', '187 lbs', 8, 'United States')\n",
      "('MarJon Beauchamp', 'MIL', 'F', '6-7', '199 lbs', 2, 'United States')\n",
      "('Reece Beekman', 'GSW', 'G', '6-3', '190 lbs', 0, 'United States')\n",
      "('Saddiq Bey', 'WAS', 'G-F', '6-7', '215 lbs', 4, 'United States')\n",
      "('Goga Bitadze', 'ORL', 'C-F', '6-10', '250 lbs', 5, 'Georgia')\n",
      "('Anthony Black', 'ORL', 'G', '6-7', '200 lbs', 1, 'United States')\n",
      "('Bogdan Bogdanović', 'ATL', 'G', '6-5', '225 lbs', 7, 'Serbia')\n",
      "('Bojan Bogdanović', 'BKN', 'F', '6-7', '226 lbs', 10, 'Croatia')\n",
      "('Bol Bol', 'PHX', 'C-F', '7-3', '220 lbs', 5, 'Sudan')\n",
      "('Adem Bona', 'PHI', 'F', '6-10', '235 lbs', 0, 'Nigeria')\n",
      "('Devin Booker', 'PHX', 'G', '6-6', '206 lbs', 9, 'United States')\n",
      "('Brandon Boston Jr.', 'NOP', 'G', '6-6', '188 lbs', 3, 'United States')\n",
      "('Chris Boucher', 'TOR', 'F', '6-9', '200 lbs', 7, 'Saint Lucia')\n",
      "('Malaki Branham', 'SAS', 'F', '6-4', '180 lbs', 2, 'United States')\n",
      "('Christian Braun', 'DEN', 'G', '6-6', '220 lbs', 2, 'United States')\n",
      "('Jalen Bridges', 'PHX', 'F', '6-8', '225 lbs', 0, 'United States')\n",
      "('Mikal Bridges', 'NYK', 'G-F', '6-6', '209 lbs', 6, 'United States')\n",
      "('Miles Bridges', 'CHA', 'F', '6-7', '225 lbs', 5, 'United States')\n",
      "('Malcolm Brogdon', 'WAS', 'G', '6-4', '229 lbs', 8, 'United States')\n",
      "('Dillon Brooks', 'HOU', 'G-F', '6-6', '225 lbs', 7, 'Canada')\n",
      "('Bruce Brown', 'TOR', 'G-F', '6-4', '202 lbs', 6, 'United States')\n",
      "('Jaylen Brown', 'BOS', 'G-F', '6-6', '223 lbs', 8, 'United States')\n",
      "('Kobe Brown', 'LAC', 'F', '6-7', '250 lbs', 1, 'United States')\n",
      "('Jalen Brunson', 'NYK', 'G', '6-2', '190 lbs', 6, 'United States')\n",
      "('Thomas Bryant', 'MIA', 'C-F', '6-10', '248 lbs', 7, 'United States')\n",
      "('Kobe Bufkin', 'ATL', 'G', '6-4', '195 lbs', 1, 'United States')\n",
      "('Buie III', 'Boo Buie III', 'NYK', '6-2', '180 lbs', 0, 'United States')\n",
      "('Alec Burks', 'MIA', 'G', '6-5', '214 lbs', 13, 'United States')\n",
      "('Jared Butler', 'WAS', 'G', '6-3', '193 lbs', 3, 'United States')\n",
      "('Jimmy Butler', 'MIA', 'F', '6-7', '230 lbs', 13, 'United States')\n",
      "('Matas Buzelis', 'CHI', 'F', '6-10', '209 lbs', 0, 'United States')\n",
      "('Jamal Cain', 'NOP', 'F', '6-6', '191 lbs', 2, 'United States')\n",
      "('Kentavious Caldwell-Pope', 'ORL', 'G', '6-5', '204 lbs', 11, 'United States')\n",
      "('Toumani Camara', 'POR', 'F', '6-7', '229 lbs', 1, 'Belgium')\n",
      "('Clint Capela', 'ATL', 'C', '6-10', '256 lbs', 10, 'Switzerland')\n",
      "('Carlton Carrington', 'WAS', 'G', '6-4', '190 lbs', 0, 'United States')\n",
      "('Devin Carter', 'SAC', 'G', '6-2', '195 lbs', 0, 'United States')\n",
      "('Jevon Carter', 'CHI', 'G', '6-1', '200 lbs', 6, 'United States')\n",
      "('Wendell Carter Jr.', 'ORL', 'C-F', '6-10', '270 lbs', 6, 'United States')\n",
      "('D.J. Carton', 'TOR', 'G', '6-3', '200 lbs', 1, 'United States')\n",
      "('Alex Caruso', 'OKC', 'G', '6-5', '186 lbs', 7, 'United States')\n",
      "('Stephon Castle', 'SAS', 'G', '6-6', '215 lbs', 0, 'United States')\n",
      "('Colin Castleton', 'MEM', 'C', '6-10', '250 lbs', 1, 'United States')\n",
      "('Julian Champagnie', 'SAS', 'F', '6-7', '217 lbs', 2, 'United States')\n",
      "('Justin Champagnie', 'WAS', 'G-F', '6-6', '206 lbs', 3, 'United States')\n",
      "('Ulrich Chomche', 'TOR', 'C', '6-11', '235 lbs', 0, 'Cameroon')\n",
      "('Cam Christie', 'LAC', 'G', '6-6', '190 lbs', 0, 'United States')\n",
      "('Max Christie', 'LAL', 'G', '6-5', '190 lbs', 2, 'United States')\n",
      "('Josh Christopher', 'MIA', 'G', '6-4', '215 lbs', 2, 'United States')\n",
      "('Sidy Cissoko', 'SAS', 'G', '6-6', '200 lbs', 1, 'France')\n",
      "('Jaylen Clark', 'MIN', 'G', '6-4', '205 lbs', 0, 'United States')\n",
      "('Brandon Clarke', 'MEM', 'F', '6-8', '215 lbs', 5, 'Canada')\n",
      "('Jordan Clarkson', 'UTA', 'G', '6-3', '194 lbs', 10, 'United States')\n",
      "('Nic Claxton', 'BKN', 'C', '6-11', '215 lbs', 5, 'United States')\n",
      "('Donovan Clingan', 'POR', 'C', '7-2', '280 lbs', 0, 'United States')\n",
      "('Noah Clowney', 'BKN', 'F-C', '6-9', '210 lbs', 1, 'United States')\n",
      "('Amir Coffey', 'LAC', 'G-F', '6-7', '210 lbs', 5, 'United States')\n",
      "('Isaiah Collier', 'UTA', 'G', '6-3', '210 lbs', 0, 'United States')\n",
      "('John Collins', 'UTA', 'F-C', '6-9', '226 lbs', 7, 'United States')\n",
      "('Zach Collins', 'SAS', 'F-C', '6-11', '250 lbs', 6, 'United States')\n",
      "('Mike Conley', 'MIN', 'G', '6-0', '175 lbs', 17, 'United States')\n",
      "('Pat Connaughton', 'MIL', 'G', '6-5', '209 lbs', 9, 'United States')\n",
      "('Bilal Coulibaly', 'WAS', 'G', '6-8', '195 lbs', 1, 'France')\n",
      "('Ricky Council IV', 'PHI', 'G', '6-6', '207 lbs', 1, 'United States')\n",
      "('Torrey Craig', 'CHI', 'F', '6-5', '221 lbs', 7, 'United States')\n",
      "('Isaiah Crawford', 'SAC', 'F', '6-6', '220 lbs', 0, 'United States')\n",
      "('Cade Cunningham', 'DET', 'G', '6-6', '220 lbs', 3, 'United States')\n",
      "('Seth Curry', 'CHA', 'G', '6-1', '185 lbs', 10, 'United States')\n",
      "('Stephen Curry', 'GSW', 'G', '6-2', '185 lbs', 15, 'United States')\n",
      "('Cui Yongxi', 'BKN', 'F', '6-5', '190 lbs', 0, 'China')\n",
      "('Pacôme Dadiet', 'NYK', 'F', '6-8', '210 lbs', 0, 'France')\n",
      "('Dyson Daniels', 'ATL', 'G', '6-7', '199 lbs', 2, 'Australia')\n",
      "(\"N'Faly Dante\", 'HOU', 'C', '6-11', '230 lbs', 0, 'Mali')\n",
      "('Anthony Davis', 'LAL', 'F-C', '6-10', '253 lbs', 12, 'United States')\n",
      "('Johnny Davis', 'WAS', 'G', '6-4', '195 lbs', 2, 'United States')\n",
      "('JD Davison', 'BOS', 'G', '6-1', '195 lbs', 2, 'United States')\n",
      "('DeMar DeRozan', 'SAC', 'G-F', '6-6', '220 lbs', 15, 'United States')\n",
      "('Donte DiVincenzo', 'MIN', 'G', '6-4', '203 lbs', 6, 'United States')\n",
      "('Moussa Diabaté', 'CHA', 'F', '6-9', '210 lbs', 2, 'France')\n",
      "('Gradey Dick', 'TOR', 'G-F', '6-6', '200 lbs', 1, 'United States')\n",
      "('Ousmane Dieng', 'OKC', 'F', '6-9', '185 lbs', 2, 'France')\n",
      "('Rob Dillingham', 'MIN', 'G', '6-3', '175 lbs', 0, 'United States')\n",
      "('Spencer Dinwiddie', 'DAL', 'G', '6-5', '215 lbs', 10, 'United States')\n",
      "('Luka Dončić', 'DAL', 'F-G', '6-6', '230 lbs', 6, 'Slovenia')\n",
      "('Luguentz Dort', 'OKC', 'G', '6-4', '220 lbs', 5, 'Canada')\n",
      "('Ayo Dosunmu', 'CHI', 'G', '6-5', '200 lbs', 3, 'United States')\n",
      "('Jeff Dowtin Jr.', 'PHI', 'G', '6-3', '177 lbs', 3, 'United States')\n",
      "('PJ Dozier', 'MIN', 'G-F', '6-6', '205 lbs', 6, 'United States')\n",
      "('Andre Drummond', 'PHI', 'C', '6-11', '279 lbs', 12, 'United States')\n",
      "('Chris Duarte', 'CHI', 'G', '6-5', '190 lbs', 3, 'Dominican Republic')\n",
      "('Alex Ducas', 'OKC', 'G', '6-7', '220 lbs', 0, 'United States')\n",
      "('David Duke Jr.', 'SAS', 'G', '6-4', '204 lbs', 3, 'United States')\n",
      "('Kris Dunn', 'LAC', 'G', '6-3', '205 lbs', 8, 'United States')\n",
      "('Ryan Dunn', 'PHX', 'F', '6-8', '216 lbs', 0, 'United States')\n",
      "('Kevin Durant', 'PHX', 'F', '6-11', '240 lbs', 16, 'United States')\n",
      "('Jalen Duren', 'DET', 'C', '6-10', '250 lbs', 2, 'United States')\n",
      "('Tari Eason', 'HOU', 'F', '6-8', '215 lbs', 2, 'United States')\n",
      "('Zach Edey', 'MEM', 'C', '7-4', '305 lbs', 0, 'Canada')\n",
      "('Anthony Edwards', 'MIN', 'G', '6-4', '225 lbs', 4, 'United States')\n",
      "('Jesse Edwards', 'MIN', 'C', '7-0', '236 lbs', 0, 'Netherlands')\n",
      "('Justin Edwards', 'PHI', 'F', '6-7', '203 lbs', 0, 'United States')\n",
      "('Kessler Edwards', 'DAL', 'F', '6-7', '203 lbs', 3, 'United States')\n",
      "('Keon Ellis', 'SAC', 'G', '6-4', '175 lbs', 2, 'United States')\n",
      "('Joel Embiid', 'PHI', 'C-F', '7-0', '280 lbs', 8, 'Cameroon')\n",
      "('Drew Eubanks', 'UTA', 'F-C', '6-10', '245 lbs', 6, 'United States')\n",
      "('Danté Exum', 'DAL', 'G', '6-5', '214 lbs', 7, 'Australia')\n",
      "('Bruno Fernando', 'TOR', 'F-C', '6-9', '240 lbs', 5, 'Angola')\n",
      "('Kyle Filipowski', 'UTA', 'C', '6-11', '250 lbs', 0, 'United States')\n",
      "('Dorian Finney-Smith', 'BKN', 'F', '6-7', '220 lbs', 8, 'United States')\n",
      "('Adam Flagler', 'OKC', 'G', '6-3', '180 lbs', 1, 'United States')\n",
      "('Trentyn Flowers', 'LAC', 'F', '6-9', '185 lbs', 0, 'United States')\n",
      "('Simone Fontecchio', 'DET', 'F', '6-7', '209 lbs', 2, 'Italy')\n",
      "(\"De'Aaron Fox\", 'SAC', 'G', '6-3', '185 lbs', 7, 'United States')\n",
      "('Enrique Freeman', 'IND', 'F', '6-7', '206 lbs', 0, 'United States')\n",
      "('Johnny Furphy', 'IND', 'G', '6-9', '200 lbs', 0, 'Australia')\n",
      "('Daniel Gafford', 'DAL', 'F-C', '6-10', '265 lbs', 5, 'United States')\n",
      "('Darius Garland', 'CLE', 'G', '6-1', '192 lbs', 5, 'United States')\n",
      "('Luka Garza', 'MIN', 'C', '6-10', '243 lbs', 3, 'United States')\n",
      "('Keyonte George', 'UTA', 'G', '6-4', '185 lbs', 1, 'United States')\n",
      "('Kyshawn George', 'WAS', 'F', '6-8', '200 lbs', 0, 'Switzerland')\n",
      "('Paul George', 'PHI', 'F', '6-8', '220 lbs', 14, 'United States')\n",
      "('Taj Gibson', 'CHA', 'F', '6-9', '232 lbs', 15, 'United States')\n",
      "('Josh Giddey', 'CHI', 'G', '6-8', '216 lbs', 3, 'Australia')\n",
      "('Shai Gilgeous-Alexander', 'OKC', 'G', '6-6', '195 lbs', 6, 'Canada')\n",
      "('Anthony Gill', 'WAS', 'F', '6-8', '230 lbs', 4, 'United States')\n",
      "('Collin Gillespie', 'PHX', 'G', '6-1', '195 lbs', 1, 'United States')\n",
      "('Rudy Gobert', 'MIN', 'C', '7-1', '258 lbs', 11, 'France')\n",
      "('Aaron Gordon', 'DEN', 'F', '6-8', '235 lbs', 10, 'United States')\n",
      "('Eric Gordon', 'PHI', 'G', '6-3', '215 lbs', 16, 'United States')\n",
      "('Jazian Gortman', 'DAL', 'G', '6-2', '184 lbs', 0, 'United States')\n",
      "('Jerami Grant', 'POR', 'F', '6-7', '210 lbs', 10, 'United States')\n",
      "('AJ Green', 'MIL', 'G', '6-4', '190 lbs', 2, 'United States')\n",
      "('Draymond Green', 'GSW', 'F', '6-6', '230 lbs', 12, 'United States')\n",
      "('Jalen Green', 'HOU', 'G', '6-4', '186 lbs', 3, 'United States')\n",
      "('Javonte Green', 'NOP', 'G', '6-5', '205 lbs', 5, 'United States')\n",
      "('Jeff Green', 'HOU', 'F', '6-8', '235 lbs', 16, 'United States')\n",
      "('Josh Green', 'CHA', 'G', '6-5', '200 lbs', 4, 'Australia')\n",
      "('Quentin Grimes', 'DAL', 'G', '6-4', '210 lbs', 3, 'United States')\n",
      "('Mouhamed Gueye', 'ATL', 'F', '6-10', '210 lbs', 1, 'Senegal')\n",
      "('Rui Hachimura', 'LAL', 'F', '6-8', '230 lbs', 5, 'Japan')\n",
      "('Tyrese Haliburton', 'IND', 'G', '6-5', '185 lbs', 4, 'United States')\n",
      "('PJ Hall', 'DEN', 'C', '6-10', '245 lbs', 0, 'United States')\n",
      "('Tim Hardaway Jr.', 'DET', 'G-F', '6-5', '205 lbs', 11, 'United States')\n",
      "('James Harden', 'LAC', 'G', '6-5', '220 lbs', 15, 'United States')\n",
      "('Jaden Hardy', 'DAL', 'G', '6-3', '198 lbs', 2, 'United States')\n",
      "('Gary Harris', 'ORL', 'G', '6-4', '210 lbs', 10, 'United States')\n",
      "('Tobias Harris', 'DET', 'F', '6-8', '226 lbs', 13, 'United States')\n",
      "('Josh Hart', 'NYK', 'G', '6-4', '215 lbs', 7, 'United States')\n",
      "('Isaiah Hartenstein', 'OKC', 'C-F', '7-0', '250 lbs', 6, 'Germany')\n",
      "('Sam Hauser', 'BOS', 'F', '6-7', '217 lbs', 3, 'United States')\n",
      "('Jordan Hawkins', 'NOP', 'G', '6-5', '190 lbs', 1, 'United States')\n",
      "('Jaxson Hayes', 'LAL', 'C-F', '7-0', '220 lbs', 5, 'United States')\n",
      "('Scoot Henderson', 'POR', 'G', '6-3', '206 lbs', 1, 'United States')\n",
      "('Taylor Hendricks', 'UTA', 'F', '6-9', '215 lbs', 1, 'United States')\n",
      "('Tyler Herro', 'MIA', 'G', '6-5', '195 lbs', 5, 'United States')\n",
      "('Buddy Hield', 'GSW', 'G', '6-4', '220 lbs', 8, 'Bahamas')\n",
      "('Haywood Highsmith', 'MIA', 'F', '6-5', '220 lbs', 4, 'United States')\n",
      "('Aaron Holiday', 'HOU', 'G', '6-0', '185 lbs', 6, 'United States')\n",
      "('Jrue Holiday', 'BOS', 'G', '6-4', '205 lbs', 15, 'United States')\n",
      "('Ronald Holland II', 'DET', 'F', '6-8', '206 lbs', 0, 'United States')\n",
      "('Richaun Holmes', 'WAS', 'F', '6-9', '235 lbs', 9, 'United States')\n",
      "('DaRon Holmes II', 'DEN', 'F', '6-10', '225 lbs', 0, 'United States')\n",
      "('Chet Holmgren', 'OKC', 'C-F', '7-1', '208 lbs', 1, 'United States')\n",
      "('Jalen Hood-Schifino', 'LAL', 'G', '6-5', '215 lbs', 1, 'United States')\n",
      "('Al Horford', 'BOS', 'C-F', '6-9', '240 lbs', 17, 'Dominican Republic')\n",
      "('Talen Horton-Tucker', 'CHI', 'G', '6-4', '234 lbs', 5, 'United States')\n",
      "('Caleb Houstan', 'ORL', 'G', '6-8', '205 lbs', 2, 'Canada')\n",
      "('Jett Howard', 'ORL', 'G', '6-6', '215 lbs', 1, 'United States')\n",
      "('Kevin Huerter', 'SAC', 'G-F', '6-7', '198 lbs', 6, 'United States')\n",
      "('Jay Huff', 'MEM', 'C', '7-1', '240 lbs', 3, 'United States')\n",
      "('Ariel Hukporti', 'NYK', 'C', '6-11', '246 lbs', 0, 'Germany')\n",
      "(\"De'Andre Hunter\", 'ATL', 'F-G', '6-8', '221 lbs', 5, 'United States')\n",
      "('Bones Hyland', 'LAC', 'G', '6-2', '169 lbs', 3, 'United States')\n",
      "('Oso Ighodaro', 'PHX', 'F', '7-0', '235 lbs', 0, 'United States')\n",
      "('Joe Ingles', 'MIN', 'F-G', '6-8', '220 lbs', 10, 'Australia')\n",
      "('Brandon Ingram', 'NOP', 'F', '6-8', '190 lbs', 8, 'United States')\n",
      "('Harrison Ingram', 'SAS', 'F', '6-5', '230 lbs', 0, 'United States')\n",
      "('Kyrie Irving', 'DAL', 'G', '6-2', '195 lbs', 13, 'Australia')\n",
      "('Jonathan Isaac', 'ORL', 'F', '6-10', '230 lbs', 5, 'United States')\n",
      "('Jaden Ivey', 'DET', 'G', '6-4', '195 lbs', 2, 'United States')\n",
      "('GG Jackson', 'MEM', 'F', '6-9', '210 lbs', 1, 'United States')\n",
      "('Isaiah Jackson', 'IND', 'F', '6-9', '205 lbs', 3, 'United States')\n",
      "('Quenton Jackson', 'IND', 'G', '6-5', '173 lbs', 2, 'United States')\n",
      "('Reggie Jackson', 'PHI', 'G', '6-2', '208 lbs', 13, 'United States')\n",
      "('Andre Jackson Jr.', 'MIL', 'G', '6-6', '209 lbs', 1, 'United States')\n",
      "('Jaren Jackson Jr.', 'MEM', 'F-C', '6-10', '242 lbs', 6, 'United States')\n",
      "('Trayce Jackson-Davis', 'GSW', 'F', '6-9', '245 lbs', 1, 'United States')\n",
      "('Bronny James', 'LAL', 'G', '6-2', '210 lbs', 0, 'United States')\n",
      "('LeBron James', 'LAL', 'F', '6-9', '250 lbs', 21, 'United States')\n",
      "('Jaime Jaquez Jr.', 'MIA', 'G', '6-6', '225 lbs', 1, 'United States')\n",
      "('DaQuan Jeffries', 'CHA', 'G-F', '6-5', '222 lbs', 5, 'United States')\n",
      "('Trey Jemison', 'NOP', 'C', '6-10', '260 lbs', 1, 'United States')\n",
      "('Daniss Jenkins', 'DET', 'G', '6-3', '165 lbs', 0, 'United States')\n",
      "('Ty Jerome', 'CLE', 'G-F', '6-5', '195 lbs', 5, 'United States')\n",
      "('Isaiah Joe', 'OKC', 'G', '6-3', '165 lbs', 4, 'United States')\n",
      "('AJ Johnson', 'MIL', 'G', '6-5', '160 lbs', 0, 'United States')\n",
      "('Cameron Johnson', 'BKN', 'F', '6-8', '210 lbs', 5, 'United States')\n",
      "('Jalen Johnson', 'ATL', 'F', '6-8', '219 lbs', 3, 'United States')\n",
      "('James Johnson', 'IND', 'F', '6-7', '240 lbs', 15, 'United States')\n",
      "('Keldon Johnson', 'SAS', 'F-G', '6-5', '220 lbs', 5, 'United States')\n",
      "('Keon Johnson', 'BKN', 'G', '6-5', '185 lbs', 3, 'United States')\n",
      "('Keshad Johnson', 'MIA', 'F', '6-7', '225 lbs', 0, 'United States')\n",
      "('Nikola Jokić', 'DEN', 'C', '6-11', '284 lbs', 9, 'Serbia')\n",
      "('Colby Jones', 'SAC', 'G', '6-6', '207 lbs', 1, 'United States')\n",
      "('Dillon Jones', 'OKC', 'F', '6-5', '235 lbs', 0, 'United States')\n",
      "('Herbert Jones', 'NOP', 'F', '6-7', '206 lbs', 3, 'United States')\n",
      "('Isaac Jones', 'SAC', 'F', '6-9', '245 lbs', 0, 'United States')\n",
      "('Kai Jones', 'LAC', 'C-F', '6-11', '221 lbs', 2, 'Bahamas')\n",
      "('Mason Jones', 'SAC', 'G', '6-4', '200 lbs', 3, 'United States')\n",
      "('Spencer Jones', 'DEN', 'F', '6-7', '225 lbs', 0, 'United States')\n",
      "('Tre Jones', 'SAS', 'G', '6-1', '185 lbs', 4, 'United States')\n",
      "('Tyus Jones', 'PHX', 'G', '6-1', '196 lbs', 9, 'United States')\n",
      "('Derrick Jones Jr.', 'LAC', 'F', '6-6', '210 lbs', 8, 'United States')\n",
      "('DeAndre Jordan', 'DEN', 'C', '6-11', '265 lbs', 16, 'United States')\n",
      "('Cory Joseph', 'ORL', 'G', '6-2', '200 lbs', 13, 'Canada')\n",
      "('Nikola Jović', 'MIA', 'F', '6-10', '205 lbs', 2, 'Serbia')\n",
      "('Johnny Juzang', 'UTA', 'G', '6-5', '209 lbs', 2, 'United States')\n",
      "('Yuki Kawamura', 'MEM', 'G', '5-8', '159 lbs', 0, 'Japan')\n",
      "('Luke Kennard', 'MEM', 'G', '6-5', '206 lbs', 7, 'United States')\n",
      "('Walker Kessler', 'UTA', 'C', '7-0', '245 lbs', 2, 'United States')\n",
      "('Corey Kispert', 'WAS', 'F', '6-6', '224 lbs', 3, 'United States')\n",
      "('Maxi Kleber', 'DAL', 'F', '6-10', '240 lbs', 7, 'Germany')\n",
      "('Bobi Klintman', 'DET', 'F', '6-9', '225 lbs', 0, 'Sweden')\n",
      "('Dalton Knecht', 'LAL', 'F', '6-6', '215 lbs', 0, 'United States')\n",
      "('Tyler Kolek', 'NYK', 'G', '6-3', '195 lbs', 0, 'United States')\n",
      "('Christian Koloko', 'LAL', 'C', '7-0', '230 lbs', 1, 'Cameroon')\n",
      "('John Konchar', 'MEM', 'G', '6-5', '210 lbs', 5, 'United States')\n",
      "('Luke Kornet', 'BOS', 'C-F', '7-1', '250 lbs', 7, 'United States')\n",
      "('Vít Krejčí', 'ATL', 'G', '6-8', '195 lbs', 3, 'Czech Republic')\n",
      "('Jonathan Kuminga', 'GSW', 'F', '6-7', '225 lbs', 3, 'Democratic Republic of Congo')\n",
      "('Kyle Kuzma', 'WAS', 'F', '6-9', '221 lbs', 7, 'United States')\n",
      "('Jake LaRavia', 'MEM', 'F', '6-7', '235 lbs', 2, 'United States')\n",
      "('Zach LaVine', 'CHI', 'G', '6-5', '200 lbs', 10, 'United States')\n",
      "('Jock Landale', 'HOU', 'C', '6-11', '255 lbs', 3, 'Australia')\n",
      "('Pelle Larsson', 'MIA', 'G', '6-5', '215 lbs', 0, 'Sweden')\n",
      "('Caris LeVert', 'CLE', 'G', '6-6', '205 lbs', 8, 'United States')\n",
      "('Damion Lee', 'PHX', 'G-F', '6-6', '210 lbs', 6, 'United States')\n",
      "('Alex Len', 'SAC', 'C', '7-0', '250 lbs', 11, 'Ukraine')\n",
      "('Kawhi Leonard', 'LAC', 'F', '6-7', '225 lbs', 12, 'United States')\n",
      "('Malevy Leons', 'OKC', 'F', '6-9', '210 lbs', 0, 'Netherlands')\n",
      "('Maxwell Lewis', 'LAL', 'F', '6-7', '195 lbs', 1, 'United States')\n",
      "('E.J. Liddell', 'CHI', 'F', '6-6', '240 lbs', 1, 'United States')\n",
      "('Damian Lillard', 'MIL', 'G', '6-2', '195 lbs', 12, 'United States')\n",
      "('Dereck Lively II', 'DAL', 'C', '7-1', '230 lbs', 1, 'United States')\n",
      "('Chris Livingston', 'MIL', 'F', '6-6', '220 lbs', 1, 'United States')\n",
      "('Kevon Looney', 'GSW', 'F', '6-9', '222 lbs', 9, 'United States')\n",
      "('Brook Lopez', 'MIL', 'C', '7-1', '282 lbs', 16, 'United States')\n",
      "('Kevin Love', 'MIA', 'F-C', '6-8', '251 lbs', 16, 'United States')\n",
      "('Kyle Lowry', 'PHI', 'G', '6-0', '196 lbs', 18, 'United States')\n",
      "('Seth Lundy', 'ATL', 'G-F', '6-4', '220 lbs', 1, 'United States')\n",
      "('Trey Lyles', 'SAC', 'F', '6-9', '234 lbs', 9, 'Canada')\n",
      "('Sandro Mamukelashvili', 'SAS', 'F-C', '6-9', '240 lbs', 3, 'Georgia')\n",
      "('Terance Mann', 'LAC', 'G-F', '6-5', '215 lbs', 5, 'United States')\n",
      "('Tre Mann', 'CHA', 'G', '6-3', '178 lbs', 3, 'United States')\n",
      "('Lauri Markkanen', 'UTA', 'F-C', '7-0', '240 lbs', 7, 'Finland')\n",
      "('Naji Marshall', 'DAL', 'F', '6-6', '220 lbs', 4, 'United States')\n",
      "('Caleb Martin', 'PHI', 'F', '6-5', '205 lbs', 5, 'United States')\n",
      "('Cody Martin', 'CHA', 'F', '6-6', '205 lbs', 5, 'United States')\n",
      "('Jaylen Martin', 'BKN', 'G', '6-6', '216 lbs', 0, 'United States')\n",
      "('KJ Martin', 'PHI', 'F', '6-6', '215 lbs', 4, 'United States')\n",
      "('Tyrese Martin', 'BKN', 'F', '6-6', '215 lbs', 1, 'United States')\n",
      "('Garrison Mathews', 'ATL', 'G', '6-6', '215 lbs', 5, 'United States')\n",
      "('Bennedict Mathurin', 'IND', 'G-F', '6-5', '210 lbs', 2, 'Canada')\n",
      "('Karlo Matković', 'NOP', 'F-C', '6-10', '231 lbs', 0, 'Bosnia and Herzegovina')\n",
      "('Tyrese Maxey', 'PHI', 'G', '6-2', '200 lbs', 4, 'United States')\n",
      "('Miles McBride', 'NYK', 'G', '6-1', '195 lbs', 3, 'United States')\n",
      "('Jared McCain', 'PHI', 'G', '6-3', '195 lbs', 0, 'United States')\n",
      "('Mac McClung', 'ORL', 'G', '6-2', '185 lbs', 2, 'United States')\n",
      "('CJ McCollum', 'NOP', 'G', '6-3', '190 lbs', 11, 'United States')\n",
      "('T.J. McConnell', 'IND', 'G', '6-1', '190 lbs', 9, 'United States')\n",
      "('Kevin McCullar Jr.', 'NYK', 'G', '6-6', '210 lbs', 0, 'United States')\n",
      "('Jaden McDaniels', 'MIN', 'F', '6-9', '185 lbs', 4, 'United States')\n",
      "('Doug McDermott', 'SAC', 'F', '6-6', '225 lbs', 10, 'United States')\n",
      "('Bryce McGowens', 'POR', 'G', '6-6', '190 lbs', 2, 'United States')\n",
      "('Jordan McLaughlin', 'SAC', 'G', '6-0', '185 lbs', 5, 'United States')\n",
      "('Jack McVeigh', 'HOU', 'G-F', '6-8', '215 lbs', 0, 'Australia')\n",
      "(\"De'Anthony Melton\", 'GSW', 'G', '6-3', '200 lbs', 6, 'United States')\n",
      "('Sam Merrill', 'CLE', 'G', '6-4', '205 lbs', 4, 'United States')\n",
      "('Vasilije Micić', 'CHA', 'G', '6-3', '188 lbs', 1, 'Serbia')\n",
      "('Khris Middleton', 'MIL', 'F', '6-7', '222 lbs', 12, 'United States')\n",
      "('Brandon Miller', 'CHA', 'F', '6-7', '200 lbs', 1, 'United States')\n",
      "('Jordan Miller', 'LAC', 'G', '6-5', '194 lbs', 1, 'United States')\n",
      "('Leonard Miller', 'MIN', 'F', '6-10', '220 lbs', 1, 'Canada')\n",
      "('Patty Mills', 'UTA', 'G', '6-2', '180 lbs', 15, 'Australia')\n",
      "('Shake Milton', 'BKN', 'G', '6-5', '205 lbs', 6, 'United States')\n",
      "('Justin Minaya', 'POR', 'F', '6-5', '205 lbs', 2, 'United States')\n",
      "('Riley Minix', 'SAS', 'F', '6-7', '230 lbs', 0, 'United States')\n",
      "('Josh Minott', 'MIN', 'F', '6-8', '205 lbs', 2, 'United States')\n",
      "('Yves Missi', 'NOP', 'C', '6-11', '235 lbs', 0, 'Cameroon')\n",
      "('Ajay Mitchell', 'OKC', 'G', '6-5', '190 lbs', 0, 'Belgium')\n",
      "('Davion Mitchell', 'TOR', 'G', '6-0', '202 lbs', 3, 'United States')\n",
      "('Donovan Mitchell', 'CLE', 'G', '6-3', '215 lbs', 7, 'United States')\n",
      "('Evan Mobley', 'CLE', 'C', '6-11', '215 lbs', 3, 'United States')\n",
      "('Jonathan Mogbo', 'TOR', 'F', '6-9', '225 lbs', 0, 'United States')\n",
      "('Malik Monk', 'SAC', 'G', '6-3', '200 lbs', 7, 'United States')\n",
      "('Moses Moody', 'GSW', 'G', '6-5', '211 lbs', 3, 'United States')\n",
      "('Tazé Moore', 'POR', 'G', '6-5', '195 lbs', 1, 'United States')\n",
      "('Wendell Moore Jr.', 'DET', 'G', '6-5', '215 lbs', 2, 'United States')\n",
      "('Ja Morant', 'MEM', 'G', '6-2', '174 lbs', 5, 'United States')\n",
      "('Markieff Morris', 'DAL', 'F', '6-9', '245 lbs', 13, 'United States')\n",
      "('Monté Morris', 'PHX', 'G', '6-2', '183 lbs', 7, 'United States')\n",
      "('Larry Nance Jr.', 'ATL', 'F-C', '6-8', '245 lbs', 9, 'United States')\n",
      "('Andrew Nembhard', 'IND', 'G-F', '6-4', '191 lbs', 2, 'Canada')\n",
      "('Aaron Nesmith', 'IND', 'G-F', '6-6', '215 lbs', 4, 'United States')\n",
      "('Tristen Newton', 'IND', 'G', '6-5', '190 lbs', 0, 'United States')\n",
      "('Georges Niang', 'CLE', 'F', '6-7', '230 lbs', 8, 'United States')\n",
      "('Daishen Nix', 'MIN', 'G', '6-4', '238 lbs', 3, 'United States')\n",
      "('Zeke Nnaji', 'DEN', 'F-C', '6-9', '240 lbs', 4, 'United States')\n",
      "('Jaylen Nowell', 'NOP', 'G', '6-4', '201 lbs', 5, 'United States')\n",
      "('Jusuf Nurkić', 'PHX', 'C', '7-0', '290 lbs', 10, 'Bosnia and Herzegovina')\n",
      "(\"Royce O'Neale\", 'PHX', 'F', '6-6', '226 lbs', 7, 'United States')\n",
      "('Josh Okogie', 'PHX', 'G', '6-4', '213 lbs', 6, 'Nigeria')\n",
      "('Onyeka Okongwu', 'ATL', 'F-C', '6-10', '240 lbs', 4, 'United States')\n",
      "('Isaac Okoro', 'CLE', 'F-G', '6-5', '225 lbs', 4, 'United States')\n",
      "('Olivari', 'Quincy Olivari', 'LAL', 'G', '6-3', 0, 'United States')\n",
      "('Kelly Olynyk', 'TOR', 'F-C', '6-11', '240 lbs', 11, 'Canada')\n",
      "('Kelly Oubre Jr.', 'PHI', 'F-G', '6-8', '203 lbs', 9, 'United States')\n",
      "('Chris Paul', 'SAS', 'G', '6-0', '175 lbs', 19, 'United States')\n",
      "('Cameron Payne', 'NYK', 'G', '6-3', '183 lbs', 9, 'United States')\n",
      "('Gary Payton II', 'GSW', 'G', '6-2', '195 lbs', 8, 'United States')\n",
      "('Drew Peterson', 'BOS', 'F', '6-9', '205 lbs', 1, 'United States')\n",
      "('Julian Phillips', 'CHI', 'F', '6-8', '198 lbs', 1, 'United States')\n",
      "('Jalen Pickett', 'DEN', 'G', '6-2', '202 lbs', 1, 'United States')\n",
      "('Scotty Pippen Jr.', 'MEM', 'G', '6-1', '170 lbs', 2, 'United States')\n",
      "('Mason Plumlee', 'PHX', 'F-C', '6-10', '254 lbs', 11, 'United States')\n",
      "('Brandin Podziemski', 'GSW', 'G', '6-4', '205 lbs', 1, 'United States')\n",
      "('Jordan Poole', 'WAS', 'G', '6-4', '194 lbs', 5, 'United States')\n",
      "('Craig Porter Jr.', 'CLE', 'G', '6-1', '180 lbs', 1, 'United States')\n",
      "('Kevin Porter Jr.', 'LAC', 'G-F', '6-4', '203 lbs', 4, 'United States')\n",
      "('Michael Porter Jr.', 'DEN', 'F', '6-10', '218 lbs', 5, 'United States')\n",
      "('Bobby Portis', 'MIL', 'F', '6-10', '250 lbs', 9, 'United States')\n",
      "('Kristaps Porziņģis', 'BOS', 'F-C', '7-2', '240 lbs', 8, 'Latvia')\n",
      "('Quinten Post', 'GSW', 'C', '7-0', '238 lbs', 0, 'Netherlands')\n",
      "('Micah Potter', 'UTA', 'C', '6-9', '248 lbs', 3, 'United States')\n",
      "('Dwight Powell', 'DAL', 'F-C', '6-10', '240 lbs', 10, 'Canada')\n",
      "('Norman Powell', 'LAC', 'G', '6-4', '215 lbs', 9, 'United States')\n",
      "('Jason Preston', 'UTA', 'G', '6-3', '181 lbs', 2, 'United States')\n",
      "('Taurean Prince', 'MIL', 'F', '6-6', '218 lbs', 8, 'United States')\n",
      "('Payton Pritchard', 'BOS', 'G', '6-1', '195 lbs', 4, 'United States')\n",
      "('Olivier-Maxence Prosper', 'DAL', 'F', '6-7', '230 lbs', 1, 'Canada')\n",
      "('Jakob Pöltl', 'TOR', 'C', '7-0', '260 lbs', 8, 'Austria')\n",
      "('Trevelin Queen', 'ORL', 'G', '6-5', '190 lbs', 3, 'United States')\n",
      "('Neemias Queta', 'BOS', 'C', '7-0', '248 lbs', 3, 'Portugal')\n",
      "('Immanuel Quickley', 'TOR', 'G', '6-2', '190 lbs', 4, 'United States')\n",
      "('Lester Quinones', 'PHI', 'G', '6-4', '208 lbs', 2, 'United States')\n",
      "('Julius Randle', 'MIN', 'F-C', '6-9', '250 lbs', 10, 'United States')\n",
      "('Duop Reath', 'POR', 'C', '6-9', '245 lbs', 1, 'South Sudan')\n",
      "('Austin Reaves', 'LAL', 'G', '6-5', '197 lbs', 3, 'United States')\n",
      "('Cam Reddish', 'LAL', 'F-G', '6-7', '217 lbs', 5, 'United States')\n",
      "('Paul Reed', 'DET', 'F', '6-9', '210 lbs', 4, 'United States')\n",
      "('Antonio Reeves', 'NOP', 'G', '6-5', '205 lbs', 0, 'United States')\n",
      "('Naz Reid', 'MIN', 'C-F', '6-9', '264 lbs', 5, 'United States')\n",
      "('Jared Rhoden', 'CHA', 'G', '6-5', '210 lbs', 2, 'United States')\n",
      "('Nick Richards', 'CHA', 'C', '7-0', '245 lbs', 4, 'Jamaica')\n",
      "('Josh Richardson', 'MIA', 'G', '6-5', '200 lbs', 9, 'United States')\n",
      "('Zaccharie Risacher', 'ATL', 'F', '6-8', '200 lbs', 0, 'France')\n",
      "('Liam Robbins', 'MIL', 'C', '7-0', '250 lbs', 0, 'United States')\n",
      "('Duncan Robinson', 'MIA', 'F', '6-7', '215 lbs', 6, 'United States')\n",
      "('Mitchell Robinson', 'NYK', 'C-F', '7-0', '240 lbs', 6, 'United States')\n",
      "('Orlando Robinson', 'SAC', 'C', '6-10', '235 lbs', 2, 'United States')\n",
      "('Jeremiah Robinson-Earl', 'NOP', 'F', '6-8', '240 lbs', 3, 'United States')\n",
      "('David Roddy', 'ATL', 'F', '6-4', '255 lbs', 2, 'United States')\n",
      "('Ryan Rollins', 'MIL', 'G', '6-3', '180 lbs', 2, 'United States')\n",
      "('Terry Rozier', 'MIA', 'G', '6-1', '190 lbs', 9, 'United States')\n",
      "('Rayan Rupert', 'POR', 'G-F', '6-6', '195 lbs', 1, 'France')\n",
      "(\"D 'Angelo Russell\", 'LAL', 'G', '6-3', '193 lbs', 9, 'United States')\n",
      "('Matt Ryan', 'NYK', 'F', '6-6', '215 lbs', 3, 'United States')\n",
      "('Domantas Sabonis', 'SAC', 'F-C', '6-10', '240 lbs', 8, 'Lithuania')\n",
      "('Tidjane Salaün', 'CHA', 'F', '6-8', '207 lbs', 0, 'France')\n",
      "('Adama Sanogo', 'CHI', 'F', '6-9', '245 lbs', 1, 'Mali')\n",
      "('Gui Santos', 'GSW', 'F', '6-6', '185 lbs', 1, 'Brazil')\n",
      "('Alexandre Sarr', 'WAS', 'C', '7-0', '205 lbs', 0, 'France')\n",
      "('Marcus Sasser', 'DET', 'G', '6-2', '195 lbs', 1, 'United States')\n",
      "('Baylor Scheierman', 'BOS', 'G', '6-6', '205 lbs', 0, 'United States')\n",
      "('Dennis Schröder', 'BKN', 'G', '6-1', '175 lbs', 11, 'Germany')\n",
      "('Alperen Sengun', 'HOU', 'C', '6-11', '243 lbs', 3, 'Turkey')\n",
      "('Brice Sensabaugh', 'UTA', 'F', '6-5', '235 lbs', 1, 'United States')\n",
      "('Collin Sexton', 'UTA', 'G', '6-3', '190 lbs', 6, 'United States')\n",
      "('Terrence Shannon Jr.', 'MIN', 'G-F', '6-6', '215 lbs', 0, 'United States')\n",
      "(\"Day'Ron Sharpe\", 'BKN', 'C', '6-9', '265 lbs', 3, 'United States')\n",
      "('Shaedon Sharpe', 'POR', 'G', '6-5', '208 lbs', 2, 'Canada')\n",
      "('Jamal Shead', 'TOR', 'G', '6-1', '200 lbs', 0, 'United States')\n",
      "('Ben Sheppard', 'IND', 'G', '6-6', '190 lbs', 1, 'United States')\n",
      "('Reed Sheppard', 'HOU', 'G', '6-2', '185 lbs', 0, 'United States')\n",
      "('Pascal Siakam', 'IND', 'F', '6-8', '245 lbs', 8, 'Cameroon')\n",
      "('Ben Simmons', 'BKN', 'G-F', '6-10', '240 lbs', 6, 'Australia')\n",
      "('Anfernee Simons', 'POR', 'G', '6-3', '200 lbs', 6, 'United States')\n",
      "('K.J. Simpson', 'CHA', 'G', '6-0', '189 lbs', 0, 'United States')\n",
      "('Jericho Sims', 'NYK', 'C', '6-10', '250 lbs', 3, 'United States')\n",
      "('Marcus Smart', 'MEM', 'G', '6-3', '220 lbs', 10, 'United States')\n",
      "('Dru Smith', 'MIA', 'G', '6-2', '203 lbs', 2, 'United States')\n",
      "('Jalen Smith', 'CHI', 'F-C', '6-9', '215 lbs', 4, 'United States')\n",
      "('Tyler Smith', 'MIL', 'F', '6-9', '224 lbs', 0, 'United States')\n",
      "('Jabari Smith Jr.', 'HOU', 'F', '6-10', '220 lbs', 2, 'United States')\n",
      "('Nick Smith Jr.', 'CHA', 'G', '6-2', '185 lbs', 1, 'United States')\n",
      "('Jeremy Sochan', 'SAS', 'F', '6-8', '230 lbs', 2, 'Poland')\n",
      "('Cam Spencer', 'MEM', 'G', '6-4', '205 lbs', 0, 'United States')\n",
      "('Pat Spencer', 'GSW', 'G', '6-3', '205 lbs', 1, 'United States')\n",
      "('Jaden Springer', 'BOS', 'G', '6-4', '202 lbs', 3, 'United States')\n",
      "('DJ Steward', 'CHI', 'G', '6-2', '162 lbs', 0, 'United States')\n",
      "('Isaiah Stewart', 'DET', 'F-C', '6-8', '250 lbs', 4, 'United States')\n",
      "('Julian Strawther', 'DEN', 'G', '6-6', '205 lbs', 1, 'United States')\n",
      "('Max Strus', 'CLE', 'G-F', '6-5', '215 lbs', 5, 'United States')\n",
      "('Jalen Suggs', 'ORL', 'G', '6-5', '205 lbs', 3, 'United States')\n",
      "('Cole Swider', 'DET', 'F', '6-8', '220 lbs', 2, 'United States')\n",
      "(\"Jae'Sean Tate\", 'HOU', 'F', '6-4', '230 lbs', 4, 'United States')\n",
      "('Jayson Tatum', 'BOS', 'F-G', '6-8', '210 lbs', 7, 'United States')\n",
      "('Garrett Temple', 'TOR', 'G-F', '6-5', '195 lbs', 14, 'United States')\n",
      "('Dalen Terry', 'CHI', 'F', '6-7', '195 lbs', 2, 'United States')\n",
      "('Daniel Theis', 'NOP', 'F-C', '6-8', '245 lbs', 7, 'Germany')\n",
      "('Cam Thomas', 'BKN', 'G', '6-3', '210 lbs', 3, 'Japan')\n",
      "('Amen Thompson', 'HOU', 'G-F', '6-7', '200 lbs', 1, 'United States')\n",
      "('Ausar Thompson', 'DET', 'G-F', '6-6', '205 lbs', 1, 'United States')\n",
      "('Klay Thompson', 'DAL', 'G', '6-5', '220 lbs', 11, 'United States')\n",
      "('Tristan Thompson', 'CLE', 'C-F', '6-9', '254 lbs', 13, 'Canada')\n",
      "('JT Thor', 'CLE', 'F', '6-9', '203 lbs', 3, 'United States')\n",
      "('Matisse Thybulle', 'POR', 'G-F', '6-5', '201 lbs', 5, 'United States')\n",
      "('Xavier Tillman', 'BOS', 'F', '6-7', '245 lbs', 4, 'United States')\n",
      "('Nikola Topić', 'OKC', 'G', '6-6', '200 lbs', 0, 'Serbia')\n",
      "('Jacob Toppin', 'NYK', 'F', '6-8', '200 lbs', 1, 'United States')\n",
      "('Obi Toppin', 'IND', 'F', '6-9', '220 lbs', 4, 'United States')\n",
      "('Karl Anthony Towns', 'NYK', 'C-F', '7-0', '248 lbs', 9, 'United States')\n",
      "('Armel Traoré', 'LAL', 'F', '6-8', '215 lbs', 0, 'France')\n",
      "('Luke Travers', 'CLE', 'F', '6-7', '207 lbs', 0, 'Australia')\n",
      "('Gary Trent Jr.', 'MIL', 'G', '6-5', '204 lbs', 6, 'United States')\n",
      "('Oscar Tshiebwe', 'UTA', 'F-C', '6-8', '255 lbs', 1, 'Democratic Republic of Congo')\n",
      "('P.J. Tucker', 'LAC', 'F', '6-5', '245 lbs', 13, 'United States')\n",
      "('Myles Turner', 'IND', 'C-F', '6-11', '250 lbs', 9, 'United States')\n",
      "('Hunter Tyson', 'DEN', 'F', '6-8', '215 lbs', 1, 'United States')\n",
      "('Jaylon Tyson', 'CLE', 'G-F', '6-6', '215 lbs', 0, 'United States')\n",
      "('Stanley Umude', 'MIL', 'G', '6-6', '210 lbs', 2, 'United States')\n",
      "('Jonas Valančiūnas', 'WAS', 'C', '6-11', '265 lbs', 12, 'Lithuania')\n",
      "('Fred VanVleet', 'HOU', 'G', '6-0', '197 lbs', 8, 'United States')\n",
      "('Jarred Vanderbilt', 'LAL', 'F', '6-8', '214 lbs', 6, 'United States')\n",
      "('Devin Vassell', 'SAS', 'G-F', '6-5', '200 lbs', 4, 'United States')\n",
      "('Gabe Vincent', 'LAL', 'G', '6-2', '200 lbs', 5, 'United States')\n",
      "('Tristan Vukcevic', 'WAS', 'F', '6-10', '220 lbs', 1, 'Italy')\n",
      "('Nikola Vučević', 'CHI', 'C', '6-10', '260 lbs', 13, 'Montenegro')\n",
      "('Dean Wade', 'CLE', 'F-C', '6-9', '228 lbs', 5, 'United States')\n",
      "('Franz Wagner', 'ORL', 'F', '6-10', '220 lbs', 3, 'Germany')\n",
      "('Moritz Wagner', 'ORL', 'F-C', '6-11', '245 lbs', 6, 'Germany')\n",
      "('Jabari Walker', 'POR', 'F', '6-7', '237 lbs', 2, 'United States')\n",
      "('Jarace Walker', 'IND', 'F', '6-7', '235 lbs', 1, 'United States')\n",
      "('Cason Wallace', 'OKC', 'G', '6-3', '195 lbs', 1, 'United States')\n",
      "('Keaton Wallace', 'ATL', 'G', '6-3', '185 lbs', 0, 'United States')\n",
      "('Jordan Walsh', 'BOS', 'G', '6-6', '205 lbs', 1, 'United States')\n",
      "(\"Ja'Kobe Walter\", 'TOR', 'G', '6-5', '180 lbs', 0, 'United States')\n",
      "(\"Kel'el Ware\", 'MIA', 'C', '7-0', '230 lbs', 0, 'United States')\n",
      "('P.J. Washington', 'DAL', 'F', '6-6', '230 lbs', 5, 'United States')\n",
      "('TyTy Washington Jr.', 'PHX', 'G', '6-3', '195 lbs', 2, 'United States')\n",
      "('Lindy Waters III', 'GSW', 'F', '6-6', '210 lbs', 3, 'United States')\n",
      "('Trendon Watford', 'BKN', 'G-F', '6-8', '237 lbs', 3, 'United States')\n",
      "('Anton Watson', 'BOS', 'F', '6-8', '225 lbs', 0, 'United States')\n",
      "('Peyton Watson', 'DEN', 'G', '6-7', '200 lbs', 2, 'United States')\n",
      "('Wells', 'Jaylen Wells', 'MEM', 'F', '6-8', 0, 'United States')\n",
      "('Victor Wembanyama', 'SAS', 'F-C', '7-3', '235 lbs', 1, 'France')\n",
      "('Blake Wesley', 'SAS', 'G', '6-3', '185 lbs', 2, 'United States')\n",
      "('Russell Westbrook', 'DEN', 'G', '6-4', '200 lbs', 16, 'United States')\n",
      "('Coby White', 'CHI', 'G', '6-5', '195 lbs', 5, 'United States')\n",
      "('Derrick White', 'BOS', 'G', '6-4', '190 lbs', 7, 'United States')\n",
      "('Dariq Whitehead', 'BKN', 'G-F', '6-6', '220 lbs', 1, 'United States')\n",
      "('Cam Whitmore', 'HOU', 'F', '6-7', '230 lbs', 1, 'United States')\n",
      "('Aaron Wiggins', 'OKC', 'G', '6-5', '190 lbs', 3, 'United States')\n",
      "('Andrew Wiggins', 'GSW', 'F', '6-7', '197 lbs', 10, 'Canada')\n",
      "('Alondes Williams', 'DET', 'G', '6-4', '210 lbs', 2, 'United States')\n",
      "('Brandon Williams', 'DAL', 'G', '6-1', '190 lbs', 2, 'United States')\n",
      "('Cody Williams', 'UTA', 'F', '6-7', '190 lbs', 0, 'United States')\n",
      "('Grant Williams', 'CHA', 'F', '6-6', '236 lbs', 5, 'United States')\n",
      "('Jalen Williams', 'OKC', 'G-F', '6-5', '211 lbs', 2, 'United States')\n",
      "('Jaylin Williams', 'OKC', 'F', '6-9', '240 lbs', 2, 'United States')\n",
      "('Kenrich Williams', 'OKC', 'G-F', '6-6', '210 lbs', 6, 'United States')\n",
      "('Mark Williams', 'CHA', 'C', '7-0', '240 lbs', 2, 'United States')\n",
      "('Nate Williams', 'HOU', 'G', '6-5', '205 lbs', 2, 'United States')\n",
      "('Patrick Williams', 'CHI', 'F', '6-7', '215 lbs', 4, 'United States')\n",
      "('Ziaire Williams', 'BKN', 'F', '6-9', '185 lbs', 3, 'United States')\n",
      "('Robert Williams III', 'POR', 'C-F', '6-9', '249 lbs', 6, 'United States')\n",
      "('Vince Williams Jr.', 'MEM', 'G', '6-4', '205 lbs', 2, 'United States')\n",
      "('Zion Williamson', 'NOP', 'F', '6-6', '284 lbs', 4, 'United States')\n",
      "('Jalen Wilson', 'BKN', 'F', '6-6', '220 lbs', 1, 'United States')\n",
      "('James Wiseman', 'IND', 'C', '6-11', '240 lbs', 3, 'United States')\n",
      "('Christian Wood', 'LAL', 'F', '6-8', '214 lbs', 8, 'United States')\n",
      "('Delon Wright', 'MIL', 'G', '6-5', '185 lbs', 9, 'United States')\n",
      "('Guerschon Yabusele', 'PHI', 'F', '6-8', '265 lbs', 2, 'France')\n",
      "('Trae Young', 'ATL', 'G', '6-1', '164 lbs', 6, 'United States')\n",
      "('Cody Zeller', 'ATL', 'F-C', '6-11', '240 lbs', 11, 'United States')\n",
      "('Ivica Zubac', 'LAC', 'C', '7-0', '240 lbs', 8, 'Croatia')\n"
     ]
    }
   ],
   "source": [
    "def create_sqlite_table(db_file='players_personal_info.db'):\n",
    "    conn = sqlite3.connect(db_file)\n",
    "    cursor = conn.cursor()\n",
    "\n",
    "    # ========================================================= # PLAYER:KEY\n",
    "    cursor.execute(\"DROP TABLE IF EXISTS players\")\n",
    "    table = \"\"\"CREATE TABLE players (\n",
    "    PLAYER TEXT,\n",
    "    TEAM TEXT,\n",
    "    POS TEXT,\n",
    "    HT TEXT,\n",
    "    WT TEXT,\n",
    "    EXP INTEGER,\n",
    "    COUNTRY TEXT\n",
    "    );\n",
    "    \"\"\"\n",
    "    cursor.execute(table)\n",
    "    # ========================================================= #\n",
    "    \n",
    "    conn.commit()\n",
    "    conn.close()\n",
    "\n",
    "\n",
    "def scrape_nba_player_index(url):\n",
    "    \n",
    "    # ========================================================= #\n",
    "    C_options = Options()   # Avoiding chrome opening\n",
    "    C_options.add_argument(\"--headless\")  # Run in headless mode\n",
    "    C_options.add_argument(\"--disable-gpu\")  # Disable GPU (optional but recommended)\n",
    "    C_options.add_argument(\"--no-sandbox\")  # Prevent issues on certain systems\n",
    "    C_options.add_argument(\"--disable-dev-shm-usage\")  # Avoid memory issues in Docker or VMs\n",
    "    driver = webdriver.Chrome(options=C_options)\n",
    "\n",
    "    driver.get(url)\n",
    "    # Wait for loading\n",
    "    time.sleep(10)\n",
    "    # cookie agreement\n",
    "    butt = driver.find_element(By.XPATH,'//button[@class=\"onetrust-close-btn-handler banner-close-button ot-close-link\"]')\n",
    "    butt.click()\n",
    "    time.sleep(10)\n",
    "    data =[]\n",
    "    for i in np.arange(0,26):\n",
    "            #Parse with BeautifulSoup\n",
    "        if i!= 0:\n",
    "            butt = driver.find_element(By.XPATH,'//div[@class=\"active\"]/following-sibling::*[1]')\n",
    "            butt.click()\n",
    "            time.sleep(3)\n",
    "        page_source = driver.page_source\n",
    "        soup = BeautifulSoup(page_source, \"html.parser\")\n",
    "        table = soup.find('tbody')\n",
    "        for tr in table.findAll('tr'):  # each player\n",
    "            text = [text for text in tr.text.splitlines() if text.strip()]\n",
    "            # print(text)\n",
    "            player_data = { # Assigning data\n",
    "                    \"PLAYER\":text[-7],\n",
    "                    \"TEAM\":text[-6],\n",
    "                    \"POS\":text[-5],\n",
    "                    \"HT\":text[-4],\n",
    "                    \"WT\":text[-3],\n",
    "                    \"EXP\":text[-2],\n",
    "                    \"Country\":text[-1]\n",
    "                }\n",
    "                # Append the player data dictionary to the list\n",
    "            data.append(player_data)\n",
    "    driver.quit()\n",
    "    return data\n",
    "    # ========================================================= #\n",
    "\n",
    "\n",
    "def save_to_sqlite(data, db_file='players_personal_info.db'):\n",
    "    conn = sqlite3.connect(db_file)\n",
    "\n",
    "    # ========================================================= #\n",
    "    df = pd.DataFrame(data)\n",
    "    df.to_sql('players', conn, if_exists='append', index=False)\n",
    "    # ========================================================= #\n",
    "    \n",
    "    conn.commit()\n",
    "    conn.close()\n",
    "    \n",
    "url = 'https://global.nba.com/playerindex/'\n",
    "# data = scrape_nba_player_index(url)\n",
    "\n",
    "create_sqlite_table()\n",
    "\n",
    "save_to_sqlite(data)\n",
    "\n",
    "conn = sqlite3.connect('players_personal_info.db')\n",
    "cursor = conn.cursor()\n",
    "dummy = cursor.execute('''SELECT * FROM players''') \n",
    "for row in dummy: \n",
    "    print(row)\n"
   ]
  },
  {
   "cell_type": "markdown",
   "id": "199a6cfc-7acd-48e9-86bf-76d546047108",
   "metadata": {},
   "source": [
    "## 1.3 Find out the cause!"
   ]
  },
  {
   "cell_type": "markdown",
   "id": "16bb5f99-04db-491e-a449-fa1b840f25fc",
   "metadata": {},
   "source": [
    "Next, we'll explore the causal relationships between specific player attributes and their ranking within the top 50. Apply the techniques you learned in class, including propensity score matching, t-tests, and A-B testing, to analyze the following potential causations:\n",
    "\n",
    "* Does having African heritage contribute to better performance in the NBA?\n",
    "\n",
    "* Does height cause improved performance in the NBA?"
   ]
  },
  {
   "cell_type": "markdown",
   "id": "fb1bea4a",
   "metadata": {},
   "source": [
    "### 1.3.1: African heritage"
   ]
  },
  {
   "cell_type": "markdown",
   "id": "25e652ad",
   "metadata": {},
   "source": [
    "#### 1.3.1.1: Propensity score"
   ]
  },
  {
   "cell_type": "markdown",
   "id": "dc2c9d9f",
   "metadata": {},
   "source": [
    "##### 1.3.1.1.1 US as non-African heritage"
   ]
  },
  {
   "cell_type": "markdown",
   "id": "2086453d",
   "metadata": {},
   "source": [
    "###### 1.3.1.1.1.1:  Loading"
   ]
  },
  {
   "cell_type": "code",
   "execution_count": 9,
   "id": "1aad9a52",
   "metadata": {},
   "outputs": [
    {
     "name": "stdout",
     "output_type": "stream",
     "text": [
      "   RANK                 PLAYER TEAM   G  GS   PPG   RPG   APG   MPG   EFF  \\\n",
      "0     1  Giannis Antetokounmpo  MIL  11  11  33.3  12.1   5.5  35.5  37.5   \n",
      "1     2          Anthony Davis  LAL  10  10  30.2  10.8   2.8  34.8  34.5   \n",
      "2     3           Jayson Tatum  BOS  13  13  30.2   7.6   5.6  36.1  30.2   \n",
      "3     4            LaMelo Ball  CHA  11  11  29.9   5.0   6.3  33.5  24.6   \n",
      "4     5           Nikola Jokić  DEN  10  10  29.7  13.7  11.7  38.1  44.2   \n",
      "\n",
      "    FG%   3P%   FT%  OFF  DEF  SPG  BPG   TO   PF  \n",
      "0  61.6  22.2  61.0  2.3  9.8  0.5  1.4  2.8  3.2  \n",
      "1  56.0  40.0  80.0  2.1  8.7  1.2  2.1  2.3  1.6  \n",
      "2  46.7  37.8  81.0  0.5  7.2  1.5  0.6  2.9  2.6  \n",
      "3  44.7  37.5  84.9  1.0  4.0  1.4  0.3  4.5  4.0  \n",
      "4  56.3  56.4  84.3  4.5  9.2  1.7  1.0  4.1  2.0  \n",
      "             PLAYER TEAM  POS    HT       WT  EXP        COUNTRY\n",
      "0  Precious Achiuwa  NYK    F   6-8  243 lbs    4        Nigeria\n",
      "1      Steven Adams  HOU    C  6-11  265 lbs   10    New Zealand\n",
      "2       Bam Adebayo  MIA  C-F   6-9  255 lbs    7  United States\n",
      "3      Ochai Agbaji  TOR    G   6-5  215 lbs    2  United States\n",
      "4      Santi Aldama  MEM  F-C   7-0  215 lbs    3          Spain\n"
     ]
    }
   ],
   "source": [
    "import sqlite3\n",
    "import pandas as pd\n",
    "\n",
    "conn_leaders = sqlite3.connect('nba_leaders.db')\n",
    "nba_leaders = pd.read_sql_query(\"SELECT * FROM players\", conn_leaders)\n",
    "conn_leaders.close()\n",
    "\n",
    "conn_info = sqlite3.connect('players_personal_info.db')\n",
    "players_info = pd.read_sql_query(\"SELECT * FROM players\", conn_info)\n",
    "conn_info.close()\n",
    "\n",
    "print(nba_leaders.head())\n",
    "print(players_info.head())"
   ]
  },
  {
   "cell_type": "markdown",
   "id": "43101ade",
   "metadata": {},
   "source": [
    "###### 1.3.1.1.1.2: Merge the Tables"
   ]
  },
  {
   "cell_type": "code",
   "execution_count": 10,
   "id": "1c5dec4a",
   "metadata": {},
   "outputs": [
    {
     "name": "stdout",
     "output_type": "stream",
     "text": [
      "   RANK                 PLAYER TEAM_x   G  GS   PPG   RPG   APG   MPG   EFF  \\\n",
      "0     1  Giannis Antetokounmpo    MIL  11  11  33.3  12.1   5.5  35.5  37.5   \n",
      "1     2          Anthony Davis    LAL  10  10  30.2  10.8   2.8  34.8  34.5   \n",
      "2     3           Jayson Tatum    BOS  13  13  30.2   7.6   5.6  36.1  30.2   \n",
      "3     4            LaMelo Ball    CHA  11  11  29.9   5.0   6.3  33.5  24.6   \n",
      "4     5           Nikola Jokić    DEN  10  10  29.7  13.7  11.7  38.1  44.2   \n",
      "\n",
      "   ...  SPG  BPG   TO   PF  TEAM_y  POS    HT       WT  EXP        COUNTRY  \n",
      "0  ...  0.5  1.4  2.8  3.2     MIL    F  6-11  243 lbs   11         Greece  \n",
      "1  ...  1.2  2.1  2.3  1.6     LAL  F-C  6-10  253 lbs   12  United States  \n",
      "2  ...  1.5  0.6  2.9  2.6     BOS  F-G   6-8  210 lbs    7  United States  \n",
      "3  ...  1.4  0.3  4.5  4.0     CHA    G   6-7  180 lbs    4  United States  \n",
      "4  ...  1.7  1.0  4.1  2.0     DEN    C  6-11  284 lbs    9         Serbia  \n",
      "\n",
      "[5 rows x 25 columns]\n"
     ]
    }
   ],
   "source": [
    "merged_data = pd.merge(nba_leaders, players_info, on='PLAYER', how='inner')\n",
    "\n",
    "print(merged_data.head())"
   ]
  },
  {
   "cell_type": "markdown",
   "id": "c1000347",
   "metadata": {},
   "source": [
    "###### 1.3.1.1.1.3: African or not?"
   ]
  },
  {
   "cell_type": "code",
   "execution_count": 11,
   "id": "a3c7b510",
   "metadata": {},
   "outputs": [
    {
     "name": "stdout",
     "output_type": "stream",
     "text": [
      "    RANK         PLAYER TEAM_x   G  GS   PPG  RPG  APG   MPG   EFF  ...  BPG  \\\n",
      "41    42  Pascal Siakam    IND  11  11  20.5  6.5  4.3  34.0  23.7  ...  0.2   \n",
      "\n",
      "     TO   PF  TEAM_y  POS   HT       WT  EXP   COUNTRY African  \n",
      "41  1.4  2.7     IND    F  6-8  245 lbs    8  Cameroon       1  \n",
      "\n",
      "[1 rows x 26 columns]\n"
     ]
    }
   ],
   "source": [
    "african_countries = [ #Assuming US as non African\n",
    "    'Angola','Cameroon','Democratic Republic of Congo',\n",
    "    'Mali','Nigeria','Senegal','South Sudan','Sudan','Jamaica'\n",
    "]\n",
    "# Create binary variable 'African' \n",
    "merged_data['African'] = merged_data['COUNTRY'].apply(lambda x: 1 if x in african_countries else 0)\n",
    "\n",
    "print(merged_data[merged_data['African']==1])\n"
   ]
  },
  {
   "cell_type": "markdown",
   "id": "5628d1ac",
   "metadata": {},
   "source": [
    "###### 1.3.1.1.1.4: Confounders "
   ]
  },
  {
   "cell_type": "code",
   "execution_count": 12,
   "id": "80ddef05",
   "metadata": {},
   "outputs": [],
   "source": [
    "# Height\n",
    "merged_data['HT'] = merged_data['HT'].str.replace('-', '.', regex=False)\n",
    "merged_data['HT'] = merged_data['HT'].astype(float)\n",
    "# Weight\n",
    "merged_data['WT'] = merged_data['WT'].str.replace(' lbs', '', regex=False)\n",
    "merged_data['WT'] = merged_data['WT'].astype(float)"
   ]
  },
  {
   "cell_type": "markdown",
   "id": "da4a0a0e",
   "metadata": {},
   "source": [
    "###### 1.3.1.1.1.5:  Propensity Score Matching"
   ]
  },
  {
   "cell_type": "code",
   "execution_count": 13,
   "id": "9f7e01c6",
   "metadata": {},
   "outputs": [
    {
     "name": "stdout",
     "output_type": "stream",
     "text": [
      "Optimization terminated successfully.\n",
      "         Current function value: 0.100103\n",
      "         Iterations 8\n"
     ]
    }
   ],
   "source": [
    "from statsmodels.api import Logit\n",
    "from sklearn.neighbors import NearestNeighbors\n",
    "\n",
    "# Outcome (being in top 50) and confounders\n",
    "merged_data['top_50'] = merged_data['PLAYER'].isin(nba_leaders['PLAYER']).astype(int)\n",
    "confounders = ['HT', 'WT', 'EXP'] \n",
    "\n",
    "# Propensity scores using logistic regression\n",
    "ps_model = Logit(merged_data['African'], merged_data[confounders])\n",
    "ps_model = ps_model.fit()\n",
    "merged_data['propensity_score'] = ps_model.predict(merged_data[confounders])\n",
    "\n",
    "# Nearest neighbors matching on propensity score\n",
    "nn = NearestNeighbors(n_neighbors=1, metric='euclidean')\n",
    "treated = merged_data[merged_data['African'] == 1]\n",
    "control = merged_data[merged_data['African'] == 0]\n",
    "\n",
    "nn.fit(control[['propensity_score']])\n",
    "distances, indices = nn.kneighbors(treated[['propensity_score']])\n",
    "matched_control = control.iloc[indices.flatten()]\n",
    "\n",
    "# Combine matched treated and control data for analysis\n",
    "matched_data = pd.concat([treated, matched_control])\n"
   ]
  },
  {
   "cell_type": "markdown",
   "id": "e0daf8a1",
   "metadata": {},
   "source": [
    "###### 1.3.1.1.6: Analyze matched pairs "
   ]
  },
  {
   "cell_type": "code",
   "execution_count": 14,
   "id": "dac12370",
   "metadata": {},
   "outputs": [
    {
     "name": "stdout",
     "output_type": "stream",
     "text": [
      "Mean for African heritage group: 1.0\n",
      "Mean for non-African heritage group: 1.0\n",
      "Average treatment effect (ATE): 0.0\n"
     ]
    }
   ],
   "source": [
    "# Mean\n",
    "top_50_african = matched_data[matched_data['African'] == 1]['top_50'].mean()\n",
    "top_50_non_african = matched_data[matched_data['African'] == 0]['top_50'].mean()\n",
    "\n",
    "print(\"Mean for African heritage group:\", top_50_african)\n",
    "print(\"Mean for non-African heritage group:\", top_50_non_african)\n",
    "\n",
    "# Average treatment effect\n",
    "ate = top_50_african - top_50_non_african\n",
    "print(\"Average treatment effect (ATE):\", ate)\n"
   ]
  },
  {
   "cell_type": "markdown",
   "id": "67ac7034",
   "metadata": {},
   "source": [
    "##### 1.3.1.1.1: US as African heritage"
   ]
  },
  {
   "cell_type": "markdown",
   "id": "00181ec9",
   "metadata": {},
   "source": [
    "###### 1.3.1.1.1.1:  Loading"
   ]
  },
  {
   "cell_type": "code",
   "execution_count": 15,
   "id": "16de6044",
   "metadata": {},
   "outputs": [
    {
     "name": "stdout",
     "output_type": "stream",
     "text": [
      "   RANK                 PLAYER TEAM   G  GS   PPG   RPG   APG   MPG   EFF  \\\n",
      "0     1  Giannis Antetokounmpo  MIL  11  11  33.3  12.1   5.5  35.5  37.5   \n",
      "1     2          Anthony Davis  LAL  10  10  30.2  10.8   2.8  34.8  34.5   \n",
      "2     3           Jayson Tatum  BOS  13  13  30.2   7.6   5.6  36.1  30.2   \n",
      "3     4            LaMelo Ball  CHA  11  11  29.9   5.0   6.3  33.5  24.6   \n",
      "4     5           Nikola Jokić  DEN  10  10  29.7  13.7  11.7  38.1  44.2   \n",
      "\n",
      "    FG%   3P%   FT%  OFF  DEF  SPG  BPG   TO   PF  \n",
      "0  61.6  22.2  61.0  2.3  9.8  0.5  1.4  2.8  3.2  \n",
      "1  56.0  40.0  80.0  2.1  8.7  1.2  2.1  2.3  1.6  \n",
      "2  46.7  37.8  81.0  0.5  7.2  1.5  0.6  2.9  2.6  \n",
      "3  44.7  37.5  84.9  1.0  4.0  1.4  0.3  4.5  4.0  \n",
      "4  56.3  56.4  84.3  4.5  9.2  1.7  1.0  4.1  2.0  \n",
      "             PLAYER TEAM  POS    HT       WT  EXP        COUNTRY\n",
      "0  Precious Achiuwa  NYK    F   6-8  243 lbs    4        Nigeria\n",
      "1      Steven Adams  HOU    C  6-11  265 lbs   10    New Zealand\n",
      "2       Bam Adebayo  MIA  C-F   6-9  255 lbs    7  United States\n",
      "3      Ochai Agbaji  TOR    G   6-5  215 lbs    2  United States\n",
      "4      Santi Aldama  MEM  F-C   7-0  215 lbs    3          Spain\n"
     ]
    }
   ],
   "source": [
    "import sqlite3\n",
    "import pandas as pd\n",
    "\n",
    "conn_leaders = sqlite3.connect('nba_leaders.db')\n",
    "nba_leaders = pd.read_sql_query(\"SELECT * FROM players\", conn_leaders)\n",
    "conn_leaders.close()\n",
    "\n",
    "conn_info = sqlite3.connect('players_personal_info.db')\n",
    "players_info = pd.read_sql_query(\"SELECT * FROM players\", conn_info)\n",
    "conn_info.close()\n",
    "\n",
    "print(nba_leaders.head())\n",
    "print(players_info.head())"
   ]
  },
  {
   "cell_type": "markdown",
   "id": "d3e652fd",
   "metadata": {},
   "source": [
    "###### 1.3.1.1.1.2: Merge the Tables"
   ]
  },
  {
   "cell_type": "code",
   "execution_count": 16,
   "id": "84b9a2b4",
   "metadata": {},
   "outputs": [
    {
     "name": "stdout",
     "output_type": "stream",
     "text": [
      "   RANK                 PLAYER TEAM_x   G  GS   PPG   RPG   APG   MPG   EFF  \\\n",
      "0     1  Giannis Antetokounmpo    MIL  11  11  33.3  12.1   5.5  35.5  37.5   \n",
      "1     2          Anthony Davis    LAL  10  10  30.2  10.8   2.8  34.8  34.5   \n",
      "2     3           Jayson Tatum    BOS  13  13  30.2   7.6   5.6  36.1  30.2   \n",
      "3     4            LaMelo Ball    CHA  11  11  29.9   5.0   6.3  33.5  24.6   \n",
      "4     5           Nikola Jokić    DEN  10  10  29.7  13.7  11.7  38.1  44.2   \n",
      "\n",
      "   ...  SPG  BPG   TO   PF  TEAM_y  POS    HT       WT  EXP        COUNTRY  \n",
      "0  ...  0.5  1.4  2.8  3.2     MIL    F  6-11  243 lbs   11         Greece  \n",
      "1  ...  1.2  2.1  2.3  1.6     LAL  F-C  6-10  253 lbs   12  United States  \n",
      "2  ...  1.5  0.6  2.9  2.6     BOS  F-G   6-8  210 lbs    7  United States  \n",
      "3  ...  1.4  0.3  4.5  4.0     CHA    G   6-7  180 lbs    4  United States  \n",
      "4  ...  1.7  1.0  4.1  2.0     DEN    C  6-11  284 lbs    9         Serbia  \n",
      "\n",
      "[5 rows x 25 columns]\n"
     ]
    }
   ],
   "source": [
    "merged_data = pd.merge(nba_leaders, players_info, on='PLAYER', how='inner')\n",
    "\n",
    "print(merged_data.head())"
   ]
  },
  {
   "cell_type": "markdown",
   "id": "a8713a50",
   "metadata": {},
   "source": [
    "###### 1.3.1.1.1.3: African or not?"
   ]
  },
  {
   "cell_type": "code",
   "execution_count": 17,
   "id": "af910113",
   "metadata": {},
   "outputs": [
    {
     "name": "stdout",
     "output_type": "stream",
     "text": [
      "    RANK              PLAYER TEAM_x   G  GS   PPG   RPG   APG   MPG   EFF  \\\n",
      "1      2       Anthony Davis    LAL  10  10  30.2  10.8   2.8  34.8  34.5   \n",
      "2      3        Jayson Tatum    BOS  13  13  30.2   7.6   5.6  36.1  30.2   \n",
      "3      4         LaMelo Ball    CHA  11  11  29.9   5.0   6.3  33.5  24.6   \n",
      "5      6      Paolo Banchero    ORL   5   5  29.0   8.8   5.6  36.4  28.6   \n",
      "8      9     Anthony Edwards    MIN  12  12  27.8   5.2   3.8  36.6  22.6   \n",
      "9     10        Kevin Durant    PHX   9   9  27.6   6.6   3.4  38.8  27.4   \n",
      "10    11        Tyrese Maxey    PHI   7   7  27.6   3.0   3.9  39.7  19.3   \n",
      "11    12  Karl Anthony Towns    NYK  11  11  26.5  12.2   2.7  33.9  31.7   \n",
      "12    13      Damian Lillard    MIL  10  10  26.0   4.6   6.6  35.8  25.1   \n",
      "13    14        Jaylen Brown    BOS   9   9  25.4   7.2   3.7  36.1  22.0   \n",
      "15    16         Tyler Herro    MIA  10  10  24.9   5.2   5.3  33.5  24.7   \n",
      "16    17       Norman Powell    LAC  12  12  24.9   3.4   2.6  34.3  21.0   \n",
      "17    18        De'Aaron Fox    SAC  12  12  24.6   5.3   5.2  36.8  23.1   \n",
      "18    19       Jalen Brunson    NYK  11  11  24.3   2.9   6.5  34.5  20.9   \n",
      "19    20        LeBron James    LAL  11  11  24.3   8.1   9.4  35.0  30.7   \n",
      "20    21       Stephen Curry    GSW   8   8  23.9   4.8   6.6  29.1  25.1   \n",
      "21    22          Trae Young    ATL  11  11  23.9   4.2  11.5  36.5  24.4   \n",
      "22    23     Cade Cunningham    DET  13  13  23.8   7.2   8.5  36.8  24.7   \n",
      "24    25    Donovan Mitchell    CLE  13  13  23.6   4.2   4.1  30.9  21.1   \n",
      "25    26         Zach LaVine    CHI   9   9  23.4   5.3   3.8  34.7  21.9   \n",
      "26    27        Devin Booker    PHX  12  12  23.3   3.7   6.8  36.5  22.8   \n",
      "27    28       DeMar DeRozan    SAC  12  12  22.9   4.1   4.1  36.5  23.0   \n",
      "28    29     Zion Williamson    NOP   6   6  22.7   8.0   5.3  31.0  21.3   \n",
      "29    30      Brandon Ingram    NOP  12  12  22.5   5.9   5.1  33.0  20.8   \n",
      "30    31   Jaren Jackson Jr.    MEM  10  10  22.5   5.6   1.0  28.2  21.6   \n",
      "32    33        Jordan Poole    WAS  10  10  22.2   2.0   4.4  30.6  18.9   \n",
      "35    36         Jalen Green    HOU  12  12  20.8   4.8   3.1  33.8  15.4   \n",
      "36    37      Jalen Williams    OKC  12  12  20.8   6.3   5.2  32.2  24.5   \n",
      "37    38        James Harden    LAC  12  12  20.7   8.2   8.8  34.8  23.8   \n",
      "39    40           Ja Morant    MEM   8   8  20.6   5.0   9.1  27.9  21.6   \n",
      "40    41      Darius Garland    CLE  13  13  20.5   2.2   6.5  29.8  21.2   \n",
      "41    42       Pascal Siakam    IND  11  11  20.5   6.5   4.3  34.0  23.7   \n",
      "42    43       Julius Randle    MIN  12  12  20.2   6.9   4.2  33.4  21.2   \n",
      "43    44         Gradey Dick    TOR  12  12  20.1   2.6   2.3  32.4  16.1   \n",
      "46    47          Coby White    CHI  12  12  19.7   3.6   5.0  33.8  18.1   \n",
      "47    48      Scottie Barnes    TOR   4   4  19.3   7.8   6.0  33.5  21.5   \n",
      "49    50       Jalen Johnson    ATL  12  12  19.0  10.2   5.3  36.7  23.7   \n",
      "\n",
      "    ...  BPG   TO   PF  TEAM_y  POS    HT       WT  EXP        COUNTRY African  \n",
      "1   ...  2.1  2.3  1.6     LAL  F-C  6-10  253 lbs   12  United States       1  \n",
      "2   ...  0.6  2.9  2.6     BOS  F-G   6-8  210 lbs    7  United States       1  \n",
      "3   ...  0.3  4.5  4.0     CHA    G   6-7  180 lbs    4  United States       1  \n",
      "5   ...  0.8  2.2  2.6     ORL    F  6-10  250 lbs    2  United States       1  \n",
      "8   ...  0.6  3.3  2.0     MIN    G   6-4  225 lbs    4  United States       1  \n",
      "9   ...  1.4  3.3  1.8     PHX    F  6-11  240 lbs   16  United States       1  \n",
      "10  ...  0.6  2.0  2.9     PHI    G   6-2  200 lbs    4  United States       1  \n",
      "11  ...  0.8  2.0  3.4     NYK  C-F   7-0  248 lbs    9  United States       1  \n",
      "12  ...  0.2  2.7  1.9     MIL    G   6-2  195 lbs   12  United States       1  \n",
      "13  ...  0.3  2.2  2.6     BOS  G-F   6-6  223 lbs    8  United States       1  \n",
      "15  ...  0.2  2.6  2.5     MIA    G   6-5  195 lbs    5  United States       1  \n",
      "16  ...  0.3  2.3  2.3     LAC    G   6-4  215 lbs    9  United States       1  \n",
      "17  ...  0.1  3.4  2.9     SAC    G   6-3  185 lbs    7  United States       1  \n",
      "18  ...  0.0  2.2  2.1     NYK    G   6-2  190 lbs    6  United States       1  \n",
      "19  ...  0.5  3.1  1.5     LAL    F   6-9  250 lbs   21  United States       1  \n",
      "20  ...  0.6  3.6  1.4     GSW    G   6-2  185 lbs   15  United States       1  \n",
      "21  ...  0.2  4.5  1.9     ATL    G   6-1  164 lbs    6  United States       1  \n",
      "22  ...  1.1  5.0  2.6     DET    G   6-6  220 lbs    3  United States       1  \n",
      "24  ...  0.2  2.2  2.2     CLE    G   6-3  215 lbs    7  United States       1  \n",
      "25  ...  0.4  3.7  1.3     CHI    G   6-5  200 lbs   10  United States       1  \n",
      "26  ...  0.4  1.8  1.8     PHX    G   6-6  206 lbs    9  United States       1  \n",
      "27  ...  0.7  1.9  1.3     SAC  G-F   6-6  220 lbs   15  United States       1  \n",
      "28  ...  1.2  3.7  3.0     NOP    F   6-6  284 lbs    4  United States       1  \n",
      "29  ...  0.5  3.7  2.7     NOP    F   6-8  190 lbs    8  United States       1  \n",
      "30  ...  1.2  2.1  3.3     MEM  F-C  6-10  242 lbs    6  United States       1  \n",
      "32  ...  0.7  3.5  3.4     WAS    G   6-4  194 lbs    5  United States       1  \n",
      "35  ...  0.4  2.7  2.3     HOU    G   6-4  186 lbs    3  United States       1  \n",
      "36  ...  0.9  2.3  2.8     OKC  G-F   6-5  211 lbs    2  United States       1  \n",
      "37  ...  0.8  4.8  2.4     LAC    G   6-5  220 lbs   15  United States       1  \n",
      "39  ...  0.3  4.3  1.8     MEM    G   6-2  174 lbs    5  United States       1  \n",
      "40  ...  0.3  2.5  2.5     CLE    G   6-1  192 lbs    5  United States       1  \n",
      "41  ...  0.2  1.4  2.7     IND    F   6-8  245 lbs    8       Cameroon       1  \n",
      "42  ...  0.1  2.8  2.7     MIN  F-C   6-9  250 lbs   10  United States       1  \n",
      "43  ...  0.4  1.5  2.2     TOR  G-F   6-6  200 lbs    1  United States       1  \n",
      "46  ...  0.2  2.9  2.6     CHI    G   6-5  195 lbs    5  United States       1  \n",
      "47  ...  0.5  4.0  3.0     TOR  F-G   6-7  237 lbs    3  United States       1  \n",
      "49  ...  0.9  3.3  2.7     ATL    F   6-8  219 lbs    3  United States       1  \n",
      "\n",
      "[37 rows x 26 columns]\n"
     ]
    }
   ],
   "source": [
    "african_countries = [ #Assuming US as non African\n",
    "    'Angola','Cameroon','Democratic Republic of Congo','United States',\n",
    "    'Mali','Nigeria','Senegal','South Sudan','Sudan','Jamaica'\n",
    "]\n",
    "# Create binary variable 'African' \n",
    "merged_data['African'] = merged_data['COUNTRY'].apply(lambda x: 1 if x in african_countries else 0)\n",
    "\n",
    "print(merged_data[merged_data['African']==1])\n"
   ]
  },
  {
   "cell_type": "markdown",
   "id": "d16812d7",
   "metadata": {},
   "source": [
    "###### 1.3.1.1.1.4: Confounders "
   ]
  },
  {
   "cell_type": "code",
   "execution_count": 18,
   "id": "7db23923",
   "metadata": {},
   "outputs": [],
   "source": [
    "# Height\n",
    "merged_data['HT'] = merged_data['HT'].str.replace('-', '.', regex=False)\n",
    "merged_data['HT'] = merged_data['HT'].astype(float)\n",
    "# Weight\n",
    "merged_data['WT'] = merged_data['WT'].str.replace(' lbs', '', regex=False)\n",
    "merged_data['WT'] = merged_data['WT'].astype(float)"
   ]
  },
  {
   "cell_type": "markdown",
   "id": "cdb39aee",
   "metadata": {},
   "source": [
    "###### 1.3.1.1.1.5:  Propensity Score Matching"
   ]
  },
  {
   "cell_type": "code",
   "execution_count": null,
   "id": "bd0d0d96",
   "metadata": {},
   "outputs": [],
   "source": [
    "from statsmodels.api import Logit\n",
    "from sklearn.neighbors import NearestNeighbors\n",
    "\n",
    "# Outcome (being in top 50) and confounders\n",
    "merged_data['top_50'] = merged_data['PLAYER'].isin(nba_leaders['PLAYER']).astype(int)\n",
    "confounders = ['HT', 'WT', 'EXP'] \n",
    "\n",
    "# Propensity scores using logistic regression\n",
    "ps_model = Logit(merged_data['African'], merged_data[confounders])\n",
    "ps_model = ps_model.fit()\n",
    "merged_data['propensity_score'] = ps_model.predict(merged_data[confounders])\n",
    "\n",
    "# Nearest neighbors matching on propensity score\n",
    "nn = NearestNeighbors(n_neighbors=1, metric='euclidean')\n",
    "treated = merged_data[merged_data['African'] == 1]\n",
    "control = merged_data[merged_data['African'] == 0]\n",
    "\n",
    "nn.fit(control[['propensity_score']])\n",
    "distances, indices = nn.kneighbors(treated[['propensity_score']])\n",
    "matched_control = control.iloc[indices.flatten()]\n",
    "\n",
    "# Combine matched treated and control data for analysis\n",
    "matched_data = pd.concat([treated, matched_control])"
   ]
  },
  {
   "cell_type": "code",
   "execution_count": 26,
   "id": "792da596",
   "metadata": {},
   "outputs": [
    {
     "data": {
      "image/png": "[encoded data removed]",
      "text/plain": [
       "<Figure size 1200x400 with 2 Axes>"
      ]
     },
     "metadata": {},
     "output_type": "display_data"
    }
   ],
   "source": [
    "fig, axs = plt.subplots(1, 2, figsize=(12, 4))\n",
    "\n",
    "# Plotting the first histogram\n",
    "axs[0].hist(treated['propensity_score'], bins=10, edgecolor='black', alpha=0.7)\n",
    "axs[0].set_title('African propensity_score')\n",
    "axs[0].set_xlabel('Value')\n",
    "axs[0].set_ylabel('Frequency')\n",
    "axs[0].set_xlim(0, 1)\n",
    "axs[0].grid(axis='y', alpha=0.75)\n",
    "\n",
    "# Plotting the second histogram\n",
    "axs[1].hist(control['propensity_score'], bins=10, edgecolor='black', alpha=0.7)\n",
    "axs[1].set_title('Non-African propensity_score')\n",
    "axs[1].set_xlabel('Value')\n",
    "axs[1].set_ylabel('Frequency')\n",
    "axs[1].set_xlim(0, 1)\n",
    "axs[1].grid(axis='y', alpha=0.75)\n",
    "\n",
    "# Show the plot\n",
    "plt.tight_layout()\n",
    "plt.show()\n"
   ]
  },
  {
   "cell_type": "markdown",
   "id": "39c75ea0",
   "metadata": {},
   "source": [
    "###### 1.3.1.1.6: Analyze matched pairs "
   ]
  },
  {
   "cell_type": "code",
   "execution_count": 28,
   "id": "096491c5",
   "metadata": {},
   "outputs": [
    {
     "name": "stdout",
     "output_type": "stream",
     "text": [
      "Mean for African heritage group: 0.5\n",
      "Mean for non-African heritage group: nan\n",
      "Average treatment effect (ATE): nan\n"
     ]
    }
   ],
   "source": [
    "# Mean\n",
    "top_50_african = matched_data[matched_data['top_50'] == 1]['African'].mean()\n",
    "top_50_non_african = matched_data[matched_data['top_50'] == 0]['African'].mean()\n",
    "\n",
    "print(\"Mean for African heritage group:\", top_50_african)\n",
    "print(\"Mean for non-African heritage group:\", top_50_non_african)\n",
    "\n",
    "# Average treatment effect\n",
    "ate = top_50_african - top_50_non_african\n",
    "print(\"Average treatment effect (ATE):\", ate)\n"
   ]
  },
  {
   "cell_type": "markdown",
   "id": "c23cb5f6",
   "metadata": {},
   "source": [
    "#### 1.3.1.2: t-test: US Included"
   ]
  },
  {
   "cell_type": "markdown",
   "id": "0230b126",
   "metadata": {},
   "source": [
    "##### 1.3.1.2.1:  Loading"
   ]
  },
  {
   "cell_type": "code",
   "execution_count": 29,
   "id": "f3e39063",
   "metadata": {},
   "outputs": [
    {
     "name": "stdout",
     "output_type": "stream",
     "text": [
      "   RANK                 PLAYER TEAM   G  GS   PPG   RPG   APG   MPG   EFF  \\\n",
      "0     1  Giannis Antetokounmpo  MIL  11  11  33.3  12.1   5.5  35.5  37.5   \n",
      "1     2          Anthony Davis  LAL  10  10  30.2  10.8   2.8  34.8  34.5   \n",
      "2     3           Jayson Tatum  BOS  13  13  30.2   7.6   5.6  36.1  30.2   \n",
      "3     4            LaMelo Ball  CHA  11  11  29.9   5.0   6.3  33.5  24.6   \n",
      "4     5           Nikola Jokić  DEN  10  10  29.7  13.7  11.7  38.1  44.2   \n",
      "\n",
      "    FG%   3P%   FT%  OFF  DEF  SPG  BPG   TO   PF  \n",
      "0  61.6  22.2  61.0  2.3  9.8  0.5  1.4  2.8  3.2  \n",
      "1  56.0  40.0  80.0  2.1  8.7  1.2  2.1  2.3  1.6  \n",
      "2  46.7  37.8  81.0  0.5  7.2  1.5  0.6  2.9  2.6  \n",
      "3  44.7  37.5  84.9  1.0  4.0  1.4  0.3  4.5  4.0  \n",
      "4  56.3  56.4  84.3  4.5  9.2  1.7  1.0  4.1  2.0  \n",
      "             PLAYER TEAM  POS    HT       WT  EXP        COUNTRY\n",
      "0  Precious Achiuwa  NYK    F   6-8  243 lbs    4        Nigeria\n",
      "1      Steven Adams  HOU    C  6-11  265 lbs   10    New Zealand\n",
      "2       Bam Adebayo  MIA  C-F   6-9  255 lbs    7  United States\n",
      "3      Ochai Agbaji  TOR    G   6-5  215 lbs    2  United States\n",
      "4      Santi Aldama  MEM  F-C   7-0  215 lbs    3          Spain\n"
     ]
    }
   ],
   "source": [
    "import sqlite3\n",
    "import pandas as pd\n",
    "\n",
    "conn_leaders = sqlite3.connect('nba_leaders.db')\n",
    "nba_leaders = pd.read_sql_query(\"SELECT * FROM players\", conn_leaders)\n",
    "conn_leaders.close()\n",
    "\n",
    "conn_info = sqlite3.connect('players_personal_info.db')\n",
    "players_info = pd.read_sql_query(\"SELECT * FROM players\", conn_info)\n",
    "conn_info.close()\n",
    "\n",
    "print(nba_leaders.head())\n",
    "print(players_info.head())"
   ]
  },
  {
   "cell_type": "markdown",
   "id": "90000b05",
   "metadata": {},
   "source": [
    "##### 1.3.1.2.2: Merge the Tables"
   ]
  },
  {
   "cell_type": "code",
   "execution_count": 30,
   "id": "283ffa2f",
   "metadata": {},
   "outputs": [
    {
     "name": "stdout",
     "output_type": "stream",
     "text": [
      "   RANK                 PLAYER TEAM_x     G    GS   PPG   RPG   APG   MPG  \\\n",
      "0   1.0  Giannis Antetokounmpo    MIL  11.0  11.0  33.3  12.1   5.5  35.5   \n",
      "1   2.0          Anthony Davis    LAL  10.0  10.0  30.2  10.8   2.8  34.8   \n",
      "2   3.0           Jayson Tatum    BOS  13.0  13.0  30.2   7.6   5.6  36.1   \n",
      "3   4.0            LaMelo Ball    CHA  11.0  11.0  29.9   5.0   6.3  33.5   \n",
      "4   5.0           Nikola Jokić    DEN  10.0  10.0  29.7  13.7  11.7  38.1   \n",
      "\n",
      "    EFF  ...  SPG  BPG   TO   PF  TEAM_y  POS    HT       WT  EXP  \\\n",
      "0  37.5  ...  0.5  1.4  2.8  3.2     MIL    F  6-11  243 lbs   11   \n",
      "1  34.5  ...  1.2  2.1  2.3  1.6     LAL  F-C  6-10  253 lbs   12   \n",
      "2  30.2  ...  1.5  0.6  2.9  2.6     BOS  F-G   6-8  210 lbs    7   \n",
      "3  24.6  ...  1.4  0.3  4.5  4.0     CHA    G   6-7  180 lbs    4   \n",
      "4  44.2  ...  1.7  1.0  4.1  2.0     DEN    C  6-11  284 lbs    9   \n",
      "\n",
      "         COUNTRY  \n",
      "0         Greece  \n",
      "1  United States  \n",
      "2  United States  \n",
      "3  United States  \n",
      "4         Serbia  \n",
      "\n",
      "[5 rows x 25 columns]\n"
     ]
    }
   ],
   "source": [
    "merged_data = pd.merge(nba_leaders, players_info, on='PLAYER', how='outer')\n",
    "\n",
    "print(merged_data.head())"
   ]
  },
  {
   "cell_type": "markdown",
   "id": "c69a005c",
   "metadata": {},
   "source": [
    "##### 1.3.1.2.3: African or not?"
   ]
  },
  {
   "cell_type": "code",
   "execution_count": 32,
   "id": "bb9fc019",
   "metadata": {},
   "outputs": [
    {
     "name": "stdout",
     "output_type": "stream",
     "text": [
      "     RANK           PLAYER TEAM_x     G    GS   PPG   RPG  APG   MPG   EFF  \\\n",
      "1     2.0    Anthony Davis    LAL  10.0  10.0  30.2  10.8  2.8  34.8  34.5   \n",
      "2     3.0     Jayson Tatum    BOS  13.0  13.0  30.2   7.6  5.6  36.1  30.2   \n",
      "3     4.0      LaMelo Ball    CHA  11.0  11.0  29.9   5.0  6.3  33.5  24.6   \n",
      "5     6.0   Paolo Banchero    ORL   5.0   5.0  29.0   8.8  5.6  36.4  28.6   \n",
      "8     9.0  Anthony Edwards    MIN  12.0  12.0  27.8   5.2  3.8  36.6  22.6   \n",
      "..    ...              ...    ...   ...   ...   ...   ...  ...   ...   ...   \n",
      "512   NaN     Jalen Wilson    NaN   NaN   NaN   NaN   NaN  NaN   NaN   NaN   \n",
      "513   NaN    James Wiseman    NaN   NaN   NaN   NaN   NaN  NaN   NaN   NaN   \n",
      "514   NaN   Christian Wood    NaN   NaN   NaN   NaN   NaN  NaN   NaN   NaN   \n",
      "515   NaN     Delon Wright    NaN   NaN   NaN   NaN   NaN  NaN   NaN   NaN   \n",
      "517   NaN      Cody Zeller    NaN   NaN   NaN   NaN   NaN  NaN   NaN   NaN   \n",
      "\n",
      "     ...  BPG   TO   PF  TEAM_y  POS    HT       WT  EXP        COUNTRY  \\\n",
      "1    ...  2.1  2.3  1.6     LAL  F-C  6-10  253 lbs   12  United States   \n",
      "2    ...  0.6  2.9  2.6     BOS  F-G   6-8  210 lbs    7  United States   \n",
      "3    ...  0.3  4.5  4.0     CHA    G   6-7  180 lbs    4  United States   \n",
      "5    ...  0.8  2.2  2.6     ORL    F  6-10  250 lbs    2  United States   \n",
      "8    ...  0.6  3.3  2.0     MIN    G   6-4  225 lbs    4  United States   \n",
      "..   ...  ...  ...  ...     ...  ...   ...      ...  ...            ...   \n",
      "512  ...  NaN  NaN  NaN     BKN    F   6-6  220 lbs    1  United States   \n",
      "513  ...  NaN  NaN  NaN     IND    C  6-11  240 lbs    3  United States   \n",
      "514  ...  NaN  NaN  NaN     LAL    F   6-8  214 lbs    8  United States   \n",
      "515  ...  NaN  NaN  NaN     MIL    G   6-5  185 lbs    9  United States   \n",
      "517  ...  NaN  NaN  NaN     ATL  F-C  6-11  240 lbs   11  United States   \n",
      "\n",
      "    African  \n",
      "1         1  \n",
      "2         1  \n",
      "3         1  \n",
      "5         1  \n",
      "8         1  \n",
      "..      ...  \n",
      "512       1  \n",
      "513       1  \n",
      "514       1  \n",
      "515       1  \n",
      "517       1  \n",
      "\n",
      "[416 rows x 26 columns]\n"
     ]
    }
   ],
   "source": [
    "african_countries = [ #Assuming US as non African\n",
    "    'Angola','Cameroon','Democratic Republic of Congo','United States',\n",
    "    'Mali','Nigeria','Senegal','South Sudan','Sudan','Jamaica'\n",
    "]\n",
    "# Create binary variable 'African' \n",
    "merged_data['African'] = merged_data['COUNTRY'].apply(lambda x: 1 if x in african_countries else 0)\n",
    "\n",
    "print(merged_data[merged_data['African']==1])\n"
   ]
  },
  {
   "cell_type": "markdown",
   "id": "a789a7b9",
   "metadata": {},
   "source": [
    "##### 1.3.1.2.4: Perfoming t-test"
   ]
  },
  {
   "cell_type": "code",
   "execution_count": 33,
   "id": "86fa4cda",
   "metadata": {},
   "outputs": [
    {
     "name": "stdout",
     "output_type": "stream",
     "text": [
      "T-Statistic: -1.0432036447552817\n",
      "P-Value: 0.2986388187689363\n",
      "# of top_50 for African heritage players: 37\n",
      "# of top_50 for non-African heritage players: 13\n",
      "Total # of African heritage players: 416\n",
      "Total # of non-African heritage players: 103\n"
     ]
    }
   ],
   "source": [
    "from scipy.stats import ttest_ind\n",
    "\n",
    "merged_data['top_50'] = merged_data['PLAYER'].isin(nba_leaders['PLAYER']).astype(int)\n",
    "# Split data into two groups based on African heritage\n",
    "group_african = merged_data[merged_data['African'] == 1]['top_50']\n",
    "group_non_african = merged_data[merged_data['African'] == 0]['top_50']\n",
    "\n",
    "# Perform an independent t-test\n",
    "t_stat, p_value = ttest_ind(group_african, group_non_african, equal_var=False)\n",
    "\n",
    "# Print the results\n",
    "print(f\"T-Statistic: {t_stat}\")\n",
    "print(f\"P-Value: {p_value}\")\n",
    "\n",
    "print(\"# of top_50 for African heritage players:\", group_african.sum())\n",
    "print(\"# of top_50 for non-African heritage players:\", group_non_african.sum())\n",
    "print(\"Total # of African heritage players:\", group_african.__len__())\n",
    "print(\"Total # of non-African heritage players:\", group_non_african.__len__())"
   ]
  },
  {
   "cell_type": "markdown",
   "id": "b7361515",
   "metadata": {},
   "source": [
    "##### 1.3.1.2.5: Interpreting the results"
   ]
  },
  {
   "cell_type": "markdown",
   "id": "611b294d",
   "metadata": {},
   "source": [
    "1. **T-Statistic**: `-1.0432`\n",
    "   - The negative value suggests that the mean probability of being in the top 50 is **lower** for African heritage players compared to non-African heritage players.\n",
    "\n",
    "2. **P-Value**: `0.299`\n",
    "   - The p-value is well above the typical significance threshold of `0.05`, meaning that the difference is **not statistically significant**.\n",
    "   - This suggests that any observed difference in proportions could be due to chance.\n",
    "   - The lack of statistical significance ($p = 0.299$) means that we cannot confidently conclude that African heritage is associated with a different likelihood of being in the top 50.\n",
    "\n",
    "3. **Proportions**:\n",
    "   - **African Heritage Players in Top 50**: $ \\frac{37}{416} \\approx 8.9\\% $\n",
    "   - **Non-African Heritage Players in Top 50**: $ \\frac{13}{103} \\approx 12.6\\% $\n",
    "\n",
    "   While the proportion of non-African heritage players in the top 50 is slightly higher, the statistical tests do not indicate a significant difference.\n"
   ]
  },
  {
   "cell_type": "markdown",
   "id": "9e63914b",
   "metadata": {},
   "source": [
    "#### 1.3.1.3: A-B testing: US Included "
   ]
  },
  {
   "cell_type": "markdown",
   "id": "462fb3d3",
   "metadata": {},
   "source": [
    "##### 1.3.1.2.1:  Loading"
   ]
  },
  {
   "cell_type": "code",
   "execution_count": 34,
   "id": "0267ea6d",
   "metadata": {},
   "outputs": [
    {
     "name": "stdout",
     "output_type": "stream",
     "text": [
      "   RANK                 PLAYER TEAM   G  GS   PPG   RPG   APG   MPG   EFF  \\\n",
      "0     1  Giannis Antetokounmpo  MIL  11  11  33.3  12.1   5.5  35.5  37.5   \n",
      "1     2          Anthony Davis  LAL  10  10  30.2  10.8   2.8  34.8  34.5   \n",
      "2     3           Jayson Tatum  BOS  13  13  30.2   7.6   5.6  36.1  30.2   \n",
      "3     4            LaMelo Ball  CHA  11  11  29.9   5.0   6.3  33.5  24.6   \n",
      "4     5           Nikola Jokić  DEN  10  10  29.7  13.7  11.7  38.1  44.2   \n",
      "\n",
      "    FG%   3P%   FT%  OFF  DEF  SPG  BPG   TO   PF  \n",
      "0  61.6  22.2  61.0  2.3  9.8  0.5  1.4  2.8  3.2  \n",
      "1  56.0  40.0  80.0  2.1  8.7  1.2  2.1  2.3  1.6  \n",
      "2  46.7  37.8  81.0  0.5  7.2  1.5  0.6  2.9  2.6  \n",
      "3  44.7  37.5  84.9  1.0  4.0  1.4  0.3  4.5  4.0  \n",
      "4  56.3  56.4  84.3  4.5  9.2  1.7  1.0  4.1  2.0  \n",
      "             PLAYER TEAM  POS    HT       WT  EXP        COUNTRY\n",
      "0  Precious Achiuwa  NYK    F   6-8  243 lbs    4        Nigeria\n",
      "1      Steven Adams  HOU    C  6-11  265 lbs   10    New Zealand\n",
      "2       Bam Adebayo  MIA  C-F   6-9  255 lbs    7  United States\n",
      "3      Ochai Agbaji  TOR    G   6-5  215 lbs    2  United States\n",
      "4      Santi Aldama  MEM  F-C   7-0  215 lbs    3          Spain\n"
     ]
    }
   ],
   "source": [
    "import sqlite3\n",
    "import pandas as pd\n",
    "\n",
    "conn_leaders = sqlite3.connect('nba_leaders.db')\n",
    "nba_leaders = pd.read_sql_query(\"SELECT * FROM players\", conn_leaders)\n",
    "conn_leaders.close()\n",
    "\n",
    "conn_info = sqlite3.connect('players_personal_info.db')\n",
    "players_info = pd.read_sql_query(\"SELECT * FROM players\", conn_info)\n",
    "conn_info.close()\n",
    "\n",
    "print(nba_leaders.head())\n",
    "print(players_info.head())"
   ]
  },
  {
   "cell_type": "markdown",
   "id": "2de00d06",
   "metadata": {},
   "source": [
    "##### 1.3.1.2.2: Merge the Tables"
   ]
  },
  {
   "cell_type": "code",
   "execution_count": null,
   "id": "ef98b70f",
   "metadata": {},
   "outputs": [
    {
     "name": "stdout",
     "output_type": "stream",
     "text": [
      "   RANK                 PLAYER TEAM_x     G    GS   PPG   RPG   APG   MPG  \\\n",
      "0   1.0  Giannis Antetokounmpo    MIL  11.0  11.0  33.3  12.1   5.5  35.5   \n",
      "1   2.0          Anthony Davis    LAL  10.0  10.0  30.2  10.8   2.8  34.8   \n",
      "2   3.0           Jayson Tatum    BOS  13.0  13.0  30.2   7.6   5.6  36.1   \n",
      "3   4.0            LaMelo Ball    CHA  11.0  11.0  29.9   5.0   6.3  33.5   \n",
      "4   5.0           Nikola Jokić    DEN  10.0  10.0  29.7  13.7  11.7  38.1   \n",
      "\n",
      "    EFF  ...  SPG  BPG   TO   PF  TEAM_y  POS    HT       WT  EXP  \\\n",
      "0  37.5  ...  0.5  1.4  2.8  3.2     MIL    F  6-11  243 lbs   11   \n",
      "1  34.5  ...  1.2  2.1  2.3  1.6     LAL  F-C  6-10  253 lbs   12   \n",
      "2  30.2  ...  1.5  0.6  2.9  2.6     BOS  F-G   6-8  210 lbs    7   \n",
      "3  24.6  ...  1.4  0.3  4.5  4.0     CHA    G   6-7  180 lbs    4   \n",
      "4  44.2  ...  1.7  1.0  4.1  2.0     DEN    C  6-11  284 lbs    9   \n",
      "\n",
      "         COUNTRY  \n",
      "0         Greece  \n",
      "1  United States  \n",
      "2  United States  \n",
      "3  United States  \n",
      "4         Serbia  \n",
      "\n",
      "[5 rows x 25 columns]\n"
     ]
    }
   ],
   "source": [
    "merged_data = pd.merge(nba_leaders, players_info, on='PLAYER', how='outer')\n",
    "\n",
    "print(merged_data.head())"
   ]
  },
  {
   "cell_type": "markdown",
   "id": "fd5c4c7b",
   "metadata": {},
   "source": [
    "##### 1.3.1.2.3: African or not?"
   ]
  },
  {
   "cell_type": "code",
   "execution_count": 35,
   "id": "168fad34",
   "metadata": {},
   "outputs": [
    {
     "name": "stdout",
     "output_type": "stream",
     "text": [
      "     RANK           PLAYER TEAM_x     G    GS   PPG   RPG  APG   MPG   EFF  \\\n",
      "1     2.0    Anthony Davis    LAL  10.0  10.0  30.2  10.8  2.8  34.8  34.5   \n",
      "2     3.0     Jayson Tatum    BOS  13.0  13.0  30.2   7.6  5.6  36.1  30.2   \n",
      "3     4.0      LaMelo Ball    CHA  11.0  11.0  29.9   5.0  6.3  33.5  24.6   \n",
      "5     6.0   Paolo Banchero    ORL   5.0   5.0  29.0   8.8  5.6  36.4  28.6   \n",
      "8     9.0  Anthony Edwards    MIN  12.0  12.0  27.8   5.2  3.8  36.6  22.6   \n",
      "..    ...              ...    ...   ...   ...   ...   ...  ...   ...   ...   \n",
      "512   NaN     Jalen Wilson    NaN   NaN   NaN   NaN   NaN  NaN   NaN   NaN   \n",
      "513   NaN    James Wiseman    NaN   NaN   NaN   NaN   NaN  NaN   NaN   NaN   \n",
      "514   NaN   Christian Wood    NaN   NaN   NaN   NaN   NaN  NaN   NaN   NaN   \n",
      "515   NaN     Delon Wright    NaN   NaN   NaN   NaN   NaN  NaN   NaN   NaN   \n",
      "517   NaN      Cody Zeller    NaN   NaN   NaN   NaN   NaN  NaN   NaN   NaN   \n",
      "\n",
      "     ...   TO   PF  TEAM_y  POS    HT       WT  EXP        COUNTRY  African  \\\n",
      "1    ...  2.3  1.6     LAL  F-C  6-10  253 lbs   12  United States        1   \n",
      "2    ...  2.9  2.6     BOS  F-G   6-8  210 lbs    7  United States        1   \n",
      "3    ...  4.5  4.0     CHA    G   6-7  180 lbs    4  United States        1   \n",
      "5    ...  2.2  2.6     ORL    F  6-10  250 lbs    2  United States        1   \n",
      "8    ...  3.3  2.0     MIN    G   6-4  225 lbs    4  United States        1   \n",
      "..   ...  ...  ...     ...  ...   ...      ...  ...            ...      ...   \n",
      "512  ...  NaN  NaN     BKN    F   6-6  220 lbs    1  United States        1   \n",
      "513  ...  NaN  NaN     IND    C  6-11  240 lbs    3  United States        1   \n",
      "514  ...  NaN  NaN     LAL    F   6-8  214 lbs    8  United States        1   \n",
      "515  ...  NaN  NaN     MIL    G   6-5  185 lbs    9  United States        1   \n",
      "517  ...  NaN  NaN     ATL  F-C  6-11  240 lbs   11  United States        1   \n",
      "\n",
      "    top_50  \n",
      "1        1  \n",
      "2        1  \n",
      "3        1  \n",
      "5        1  \n",
      "8        1  \n",
      "..     ...  \n",
      "512      0  \n",
      "513      0  \n",
      "514      0  \n",
      "515      0  \n",
      "517      0  \n",
      "\n",
      "[416 rows x 27 columns]\n"
     ]
    }
   ],
   "source": [
    "african_countries = [ #Assuming US as non African\n",
    "    'Angola','Cameroon','Democratic Republic of Congo','United States',\n",
    "    'Mali','Nigeria','Senegal','South Sudan','Sudan','Jamaica'\n",
    "]\n",
    "# Create binary variable 'African' \n",
    "merged_data['African'] = merged_data['COUNTRY'].apply(lambda x: 1 if x in african_countries else 0)\n",
    "\n",
    "print(merged_data[merged_data['African']==1])\n"
   ]
  },
  {
   "cell_type": "markdown",
   "id": "5c3659fa",
   "metadata": {},
   "source": [
    "##### 1.3.1.3.4: Perfoming A/B-test"
   ]
  },
  {
   "cell_type": "markdown",
   "id": "40256273",
   "metadata": {},
   "source": [
    "**Define Hypotheses**\n",
    "\n",
    "- **Null Hypothesis (H₀):** There is no difference in the probability of being in the top 50 between players of African heritage and non-African heritage.  \n",
    "  $\n",
    "  \\mu_{\\text{African}} = \\mu_{\\text{Non-African}}\n",
    "  $\n",
    "\n",
    "- **Alternative Hypothesis (H₁):** There is a difference in the probabilities between the two groups.  \n",
    "  $\n",
    "  \\mu_{\\text{African}} \\neq \\mu_{\\text{Non-African}}\n",
    "  $\n"
   ]
  },
  {
   "cell_type": "code",
   "execution_count": null,
   "id": "8161ccbe",
   "metadata": {},
   "outputs": [
    {
     "name": "stdout",
     "output_type": "stream",
     "text": [
      "T-Statistic: -1.0432036447552817\n",
      "P-Value: 0.2986388187689363\n"
     ]
    }
   ],
   "source": [
    "from scipy.stats import ttest_ind\n",
    "\n",
    "merged_data['top_50'] = merged_data['PLAYER'].isin(nba_leaders['PLAYER']).astype(int)\n",
    "african_top_50 = len(merged_data[(merged_data['African']==1) & (merged_data['top_50']==1)])\n",
    "african_total = len(merged_data[merged_data['African']==1])\n",
    "non_african_top_50 = len(merged_data[(merged_data['African']==0) & (merged_data['top_50']==1)])\n",
    "non_african_total = len(merged_data[merged_data['African']==0])\n",
    "\n",
    "# Proportions (probability of being in top 50)\n",
    "prop_african = african_top_50 / african_total  \n",
    "prop_non_african = non_african_top_50 / non_african_total  \n",
    "\n",
    "# Simulate data as binary (1 for top_50, 0 for not_top_50)\n",
    "african_data = np.concatenate([np.ones(african_top_50), np.zeros(african_total - african_top_50)])\n",
    "non_african_data = np.concatenate([np.ones(non_african_top_50), np.zeros(non_african_total - non_african_top_50)])\n",
    "\n",
    "# Perform t-test\n",
    "t_stat, p_value = ttest_ind(african_data, non_african_data, equal_var=False)  \n",
    "\n",
    "print(f\"T-Statistic: {t_stat}\")\n",
    "print(f\"P-Value: {p_value}\")\n"
   ]
  },
  {
   "cell_type": "markdown",
   "id": "3b87746c",
   "metadata": {},
   "source": [
    "##### 1.3.1.3.5: Interpreting the results"
   ]
  },
  {
   "cell_type": "markdown",
   "id": "9b0abd6c",
   "metadata": {},
   "source": [
    "1. **T-Statistic**: `-1.0432`\n",
    "   - The negative value indicates that the mean probability of being in the top 50 is **lower** for players of African heritage compared to players of non-African heritage.\n",
    "   - However, the magnitude of the t-statistic is small, suggesting only a modest difference.\n",
    "\n",
    "2. **P-Value**: `0.2986`\n",
    "   - The p-value is much larger than the common significance threshold (\\(p < 0.05\\)), so the result is **not statistically significant**.\n",
    "   - This means we fail to reject the null hypothesis, indicating that there is **no evidence of a meaningful difference** in the likelihood of being in the top 50 between the two groups.\n"
   ]
  },
  {
   "cell_type": "markdown",
   "id": "83731b22",
   "metadata": {},
   "source": [
    "### 1.3.2: Height effect"
   ]
  },
  {
   "cell_type": "markdown",
   "id": "e144c7cb",
   "metadata": {},
   "source": [
    "#### 1.3.2.1: Propensity score"
   ]
  },
  {
   "cell_type": "markdown",
   "id": "97fbb382",
   "metadata": {},
   "source": [
    "##### 1.3.2.1.1:  Loading"
   ]
  },
  {
   "cell_type": "code",
   "execution_count": 25,
   "id": "9da8e8d6",
   "metadata": {},
   "outputs": [
    {
     "name": "stdout",
     "output_type": "stream",
     "text": [
      "   RANK                 PLAYER TEAM   G  GS   PPG   RPG   APG   MPG   EFF  \\\n",
      "0     1  Giannis Antetokounmpo  MIL  11  11  33.3  12.1   5.5  35.5  37.5   \n",
      "1     2          Anthony Davis  LAL  10  10  30.2  10.8   2.8  34.8  34.5   \n",
      "2     3           Jayson Tatum  BOS  13  13  30.2   7.6   5.6  36.1  30.2   \n",
      "3     4            LaMelo Ball  CHA  11  11  29.9   5.0   6.3  33.5  24.6   \n",
      "4     5           Nikola Jokić  DEN  10  10  29.7  13.7  11.7  38.1  44.2   \n",
      "\n",
      "    FG%   3P%   FT%  OFF  DEF  SPG  BPG   TO   PF  \n",
      "0  61.6  22.2  61.0  2.3  9.8  0.5  1.4  2.8  3.2  \n",
      "1  56.0  40.0  80.0  2.1  8.7  1.2  2.1  2.3  1.6  \n",
      "2  46.7  37.8  81.0  0.5  7.2  1.5  0.6  2.9  2.6  \n",
      "3  44.7  37.5  84.9  1.0  4.0  1.4  0.3  4.5  4.0  \n",
      "4  56.3  56.4  84.3  4.5  9.2  1.7  1.0  4.1  2.0  \n",
      "             PLAYER TEAM  POS    HT       WT  EXP        COUNTRY\n",
      "0  Precious Achiuwa  NYK    F   6-8  243 lbs    4        Nigeria\n",
      "1      Steven Adams  HOU    C  6-11  265 lbs   10    New Zealand\n",
      "2       Bam Adebayo  MIA  C-F   6-9  255 lbs    7  United States\n",
      "3      Ochai Agbaji  TOR    G   6-5  215 lbs    2  United States\n",
      "4      Santi Aldama  MEM  F-C   7-0  215 lbs    3          Spain\n"
     ]
    }
   ],
   "source": [
    "import sqlite3\n",
    "import pandas as pd\n",
    "\n",
    "conn_leaders = sqlite3.connect('nba_leaders.db')\n",
    "nba_leaders = pd.read_sql_query(\"SELECT * FROM players\", conn_leaders)\n",
    "conn_leaders.close()\n",
    "\n",
    "conn_info = sqlite3.connect('players_personal_info.db')\n",
    "players_info = pd.read_sql_query(\"SELECT * FROM players\", conn_info)\n",
    "conn_info.close()\n",
    "\n",
    "print(nba_leaders.head())\n",
    "print(players_info.head())"
   ]
  },
  {
   "cell_type": "markdown",
   "id": "512384f5",
   "metadata": {},
   "source": [
    "##### 1.3.2.1.2: Merge the Tables"
   ]
  },
  {
   "cell_type": "code",
   "execution_count": 26,
   "id": "55be5e06",
   "metadata": {},
   "outputs": [
    {
     "name": "stdout",
     "output_type": "stream",
     "text": [
      "   RANK                 PLAYER TEAM_x     G    GS   PPG   RPG   APG   MPG  \\\n",
      "0   1.0  Giannis Antetokounmpo    MIL  11.0  11.0  33.3  12.1   5.5  35.5   \n",
      "1   2.0          Anthony Davis    LAL  10.0  10.0  30.2  10.8   2.8  34.8   \n",
      "2   3.0           Jayson Tatum    BOS  13.0  13.0  30.2   7.6   5.6  36.1   \n",
      "3   4.0            LaMelo Ball    CHA  11.0  11.0  29.9   5.0   6.3  33.5   \n",
      "4   5.0           Nikola Jokić    DEN  10.0  10.0  29.7  13.7  11.7  38.1   \n",
      "\n",
      "    EFF  ...  SPG  BPG   TO   PF  TEAM_y  POS    HT       WT  EXP  \\\n",
      "0  37.5  ...  0.5  1.4  2.8  3.2     MIL    F  6-11  243 lbs   11   \n",
      "1  34.5  ...  1.2  2.1  2.3  1.6     LAL  F-C  6-10  253 lbs   12   \n",
      "2  30.2  ...  1.5  0.6  2.9  2.6     BOS  F-G   6-8  210 lbs    7   \n",
      "3  24.6  ...  1.4  0.3  4.5  4.0     CHA    G   6-7  180 lbs    4   \n",
      "4  44.2  ...  1.7  1.0  4.1  2.0     DEN    C  6-11  284 lbs    9   \n",
      "\n",
      "         COUNTRY  \n",
      "0         Greece  \n",
      "1  United States  \n",
      "2  United States  \n",
      "3  United States  \n",
      "4         Serbia  \n",
      "\n",
      "[5 rows x 25 columns]\n"
     ]
    }
   ],
   "source": [
    "merged_data = pd.merge(nba_leaders, players_info, on='PLAYER', how='outer')\n",
    "\n",
    "print(merged_data.head())"
   ]
  },
  {
   "cell_type": "markdown",
   "id": "09b1e03a",
   "metadata": {},
   "source": [
    "##### 1.3.2.1.3: Binary Treatment Variable for Height + Preprocess"
   ]
  },
  {
   "cell_type": "code",
   "execution_count": 28,
   "id": "404967df",
   "metadata": {},
   "outputs": [],
   "source": [
    "from scipy.stats import ttest_ind\n",
    "# Preprocess\n",
    "# Height\n",
    "merged_data['HT'] = merged_data['HT'].str.replace('-', '.', regex=False)\n",
    "merged_data['HT'] = pd.to_numeric(merged_data['HT'], errors='coerce')  # Convert to numeric, setting non-numeric values to NaN\n",
    "merged_data = merged_data.dropna(subset=['HT']) \n",
    "merged_data['HT'] = merged_data['HT'].astype(float)\n",
    "# Weight\n",
    "merged_data['WT'] = merged_data['WT'].str.replace(' lbs', '', regex=False)\n",
    "merged_data['WT'] = merged_data['WT'].astype(float)\n",
    "merged_data = merged_data.dropna(subset=['HT']) \n",
    "merged_data['HT'] = merged_data['HT'].astype(float)\n",
    "merged_data['top_50'] = merged_data['PLAYER'].isin(nba_leaders['PLAYER']).astype(int)"
   ]
  },
  {
   "cell_type": "code",
   "execution_count": 29,
   "id": "b84c48eb",
   "metadata": {},
   "outputs": [],
   "source": [
    "mean = merged_data['HT'].mean()\n",
    "merged_data['tall'] = (merged_data['HT'] >= mean).astype(int)"
   ]
  },
  {
   "cell_type": "markdown",
   "id": "7d0a21aa",
   "metadata": {},
   "source": [
    "##### 1.3.2.1.4: Estimate Propensity Scores"
   ]
  },
  {
   "cell_type": "code",
   "execution_count": 30,
   "id": "01e2fb99",
   "metadata": {},
   "outputs": [],
   "source": [
    "from sklearn.linear_model import LogisticRegression\n",
    "from sklearn.model_selection import train_test_split\n",
    "\n",
    "# Define treatment and confounders\n",
    "X = merged_data[['EXP', 'WT']]  # Confounders\n",
    "y = merged_data['tall']  # Treatment variable\n",
    "\n",
    "# Logistic regression to estimate propensity scores\n",
    "log_reg = LogisticRegression()\n",
    "log_reg.fit(X, y)\n",
    "\n",
    "# Add propensity scores to the DataFrame\n",
    "merged_data['propensity_score'] = log_reg.predict_proba(X)[:, 1]\n"
   ]
  },
  {
   "cell_type": "markdown",
   "id": "eb61a7a8",
   "metadata": {},
   "source": [
    "##### 1.3.2.1.5: Perform Matching"
   ]
  },
  {
   "cell_type": "code",
   "execution_count": 31,
   "id": "5ba9b19d",
   "metadata": {},
   "outputs": [],
   "source": [
    "from sklearn.neighbors import NearestNeighbors\n",
    "\n",
    "# Separate treated (tall) and control (short) groups\n",
    "treated = merged_data[merged_data['tall'] == 1]\n",
    "control = merged_data[merged_data['tall'] == 0]\n",
    "\n",
    "# Nearest neighbor matching based on propensity scores\n",
    "nn = NearestNeighbors(n_neighbors=1)\n",
    "nn.fit(control[['propensity_score']])\n",
    "distances, indices = nn.kneighbors(treated[['propensity_score']])\n",
    "\n",
    "# Get matched controls\n",
    "matched_control = control.iloc[indices.flatten()]\n",
    "\n",
    "# Combine treated and matched controls\n",
    "matched_data = pd.concat([treated, matched_control])\n"
   ]
  },
  {
   "cell_type": "markdown",
   "id": "b4636d57",
   "metadata": {},
   "source": [
    "##### 1.3.2.1.6: Analyze the Matched Data"
   ]
  },
  {
   "cell_type": "code",
   "execution_count": 32,
   "id": "7a4a20ad",
   "metadata": {},
   "outputs": [
    {
     "name": "stdout",
     "output_type": "stream",
     "text": [
      "T-Statistic: -0.48813677587508436\n",
      "P-Value: 0.6256687681367705\n",
      "Mean Top 50 Rate (Tall): 0.076\n",
      "Mean Top 50 Rate (Short): 0.088\n"
     ]
    }
   ],
   "source": [
    "from scipy.stats import ttest_ind\n",
    "\n",
    "# Outcome variable: top_50\n",
    "top_50_treated = matched_data[matched_data['tall'] == 1]['top_50']\n",
    "top_50_control = matched_data[matched_data['tall'] == 0]['top_50']\n",
    "\n",
    "# Perform t-test\n",
    "t_stat, p_value = ttest_ind(top_50_treated, top_50_control, equal_var=False)\n",
    "\n",
    "# Print results\n",
    "print(f\"T-Statistic: {t_stat}\")\n",
    "print(f\"P-Value: {p_value}\")\n",
    "print(f\"Mean Top 50 Rate (Tall): {top_50_treated.mean()}\")\n",
    "print(f\"Mean Top 50 Rate (Short): {top_50_control.mean()}\")\n"
   ]
  },
  {
   "cell_type": "markdown",
   "id": "0291ac46",
   "metadata": {},
   "source": [
    "##### 1.3.2.1.7: Interpreting the results"
   ]
  },
  {
   "cell_type": "markdown",
   "id": "9b357347",
   "metadata": {},
   "source": [
    "   - **Results**:\n",
    "      - **T-Statistic**: `-0.4881`\n",
    "      - **P-Value**: `0.6257`\n",
    "      - **Mean Top 50 Rate (Tall)**: `0.076`\n",
    "      - **Mean Top 50 Rate (Short)**: `0.088`\n",
    "\n",
    "   - **Interpretation**:\n",
    "      - The p-value (\\(p = 0.6257\\)) is much greater than 0.05, indicating that the difference in the likelihood of being in the top 50 between tall and short players is **not statistically significant**.\n",
    "      - The small difference in mean top 50 rates (0.076 for tall vs. 0.088 for short) further supports this conclusion.\n",
    "\n",
    "   - **Conclusion**:\n",
    "      - After controlling for confounders using PSM, height does not appear to have a meaningful effect on the likelihood of being in the top 50 players.\n",
    "      - These results suggest that height alone is not a significant factor in determining top player performance.\n"
   ]
  },
  {
   "cell_type": "markdown",
   "id": "d2241267",
   "metadata": {},
   "source": [
    "#### 1.3.2.2: t-test"
   ]
  },
  {
   "cell_type": "markdown",
   "id": "4e77a9e0",
   "metadata": {},
   "source": [
    "##### 1.3.2.2.1:  Loading"
   ]
  },
  {
   "cell_type": "code",
   "execution_count": 15,
   "id": "83808da0",
   "metadata": {},
   "outputs": [
    {
     "name": "stdout",
     "output_type": "stream",
     "text": [
      "   RANK                 PLAYER TEAM   G  GS   PPG   RPG   APG   MPG   EFF  \\\n",
      "0     1  Giannis Antetokounmpo  MIL  11  11  33.3  12.1   5.5  35.5  37.5   \n",
      "1     2          Anthony Davis  LAL  10  10  30.2  10.8   2.8  34.8  34.5   \n",
      "2     3           Jayson Tatum  BOS  13  13  30.2   7.6   5.6  36.1  30.2   \n",
      "3     4            LaMelo Ball  CHA  11  11  29.9   5.0   6.3  33.5  24.6   \n",
      "4     5           Nikola Jokić  DEN  10  10  29.7  13.7  11.7  38.1  44.2   \n",
      "\n",
      "    FG%   3P%   FT%  OFF  DEF  SPG  BPG   TO   PF  \n",
      "0  61.6  22.2  61.0  2.3  9.8  0.5  1.4  2.8  3.2  \n",
      "1  56.0  40.0  80.0  2.1  8.7  1.2  2.1  2.3  1.6  \n",
      "2  46.7  37.8  81.0  0.5  7.2  1.5  0.6  2.9  2.6  \n",
      "3  44.7  37.5  84.9  1.0  4.0  1.4  0.3  4.5  4.0  \n",
      "4  56.3  56.4  84.3  4.5  9.2  1.7  1.0  4.1  2.0  \n",
      "             PLAYER TEAM  POS    HT       WT  EXP        COUNTRY\n",
      "0  Precious Achiuwa  NYK    F   6-8  243 lbs    4        Nigeria\n",
      "1      Steven Adams  HOU    C  6-11  265 lbs   10    New Zealand\n",
      "2       Bam Adebayo  MIA  C-F   6-9  255 lbs    7  United States\n",
      "3      Ochai Agbaji  TOR    G   6-5  215 lbs    2  United States\n",
      "4      Santi Aldama  MEM  F-C   7-0  215 lbs    3          Spain\n"
     ]
    }
   ],
   "source": [
    "import sqlite3\n",
    "import pandas as pd\n",
    "\n",
    "conn_leaders = sqlite3.connect('nba_leaders.db')\n",
    "nba_leaders = pd.read_sql_query(\"SELECT * FROM players\", conn_leaders)\n",
    "conn_leaders.close()\n",
    "\n",
    "conn_info = sqlite3.connect('players_personal_info.db')\n",
    "players_info = pd.read_sql_query(\"SELECT * FROM players\", conn_info)\n",
    "conn_info.close()\n",
    "\n",
    "print(nba_leaders.head())\n",
    "print(players_info.head())"
   ]
  },
  {
   "cell_type": "markdown",
   "id": "0a9a137c",
   "metadata": {},
   "source": [
    "##### 1.3.2.2.2: Merge the Tables"
   ]
  },
  {
   "cell_type": "code",
   "execution_count": 16,
   "id": "46b585d0",
   "metadata": {},
   "outputs": [
    {
     "name": "stdout",
     "output_type": "stream",
     "text": [
      "   RANK                 PLAYER TEAM_x     G    GS   PPG   RPG   APG   MPG  \\\n",
      "0   1.0  Giannis Antetokounmpo    MIL  11.0  11.0  33.3  12.1   5.5  35.5   \n",
      "1   2.0          Anthony Davis    LAL  10.0  10.0  30.2  10.8   2.8  34.8   \n",
      "2   3.0           Jayson Tatum    BOS  13.0  13.0  30.2   7.6   5.6  36.1   \n",
      "3   4.0            LaMelo Ball    CHA  11.0  11.0  29.9   5.0   6.3  33.5   \n",
      "4   5.0           Nikola Jokić    DEN  10.0  10.0  29.7  13.7  11.7  38.1   \n",
      "\n",
      "    EFF  ...  SPG  BPG   TO   PF  TEAM_y  POS    HT       WT  EXP  \\\n",
      "0  37.5  ...  0.5  1.4  2.8  3.2     MIL    F  6-11  243 lbs   11   \n",
      "1  34.5  ...  1.2  2.1  2.3  1.6     LAL  F-C  6-10  253 lbs   12   \n",
      "2  30.2  ...  1.5  0.6  2.9  2.6     BOS  F-G   6-8  210 lbs    7   \n",
      "3  24.6  ...  1.4  0.3  4.5  4.0     CHA    G   6-7  180 lbs    4   \n",
      "4  44.2  ...  1.7  1.0  4.1  2.0     DEN    C  6-11  284 lbs    9   \n",
      "\n",
      "         COUNTRY  \n",
      "0         Greece  \n",
      "1  United States  \n",
      "2  United States  \n",
      "3  United States  \n",
      "4         Serbia  \n",
      "\n",
      "[5 rows x 25 columns]\n"
     ]
    }
   ],
   "source": [
    "merged_data = pd.merge(nba_leaders, players_info, on='PLAYER', how='outer')\n",
    "\n",
    "print(merged_data.head())"
   ]
  },
  {
   "cell_type": "markdown",
   "id": "7285c26b",
   "metadata": {},
   "source": [
    "##### 1.3.2.2.3: Perfoming t-test"
   ]
  },
  {
   "cell_type": "code",
   "execution_count": null,
   "id": "c0b8a528",
   "metadata": {},
   "outputs": [],
   "source": [
    "from scipy.stats import ttest_ind\n",
    "# Preprocess\n",
    "merged_data['HT'] = merged_data['HT'].str.replace('-', '.', regex=False)\n",
    "merged_data['HT'] = pd.to_numeric(merged_data['HT'], errors='coerce')  # Convert to numeric, setting non-numeric values to NaN\n",
    "merged_data = merged_data.dropna(subset=['HT']) \n",
    "merged_data['HT'] = merged_data['HT'].astype(float)\n",
    "merged_data['top_50'] = merged_data['PLAYER'].isin(nba_leaders['PLAYER']).astype(int)"
   ]
  },
  {
   "cell_type": "code",
   "execution_count": null,
   "id": "d26ae43b",
   "metadata": {},
   "outputs": [
    {
     "name": "stdout",
     "output_type": "stream",
     "text": [
      "T-Statistic: -2.266000168762958\n",
      "P-Value: 0.02705397134057544\n",
      "mean of top_50_height: 6.440600000000001\n",
      "mean of top_50_height: 6.538972162740899\n"
     ]
    }
   ],
   "source": [
    "top_50_height = merged_data[merged_data['top_50'] == 1]['HT']  # Heights of top 50 players\n",
    "not_top_50_height = merged_data[merged_data['top_50'] == 0]['HT']  # Heights of non-top 50 players\n",
    "\n",
    "# Perform t-test\n",
    "t_stat, p_value = ttest_ind(top_50_height, not_top_50_height, equal_var=False)  \n",
    "\n",
    "# Print results\n",
    "print(f\"T-Statistic: {t_stat}\")\n",
    "print(f\"P-Value: {p_value}\")\n",
    "print(f\"mean of top_50_height: {top_50_height.mean()}\")\n",
    "print(f\"mean of not_top_50_height: {not_top_50_height.mean()}\")"
   ]
  },
  {
   "cell_type": "markdown",
   "id": "560550d1",
   "metadata": {},
   "source": [
    "##### 1.3.2.3.5: Interpreting the results"
   ]
  },
  {
   "cell_type": "markdown",
   "id": "c593e07d",
   "metadata": {},
   "source": [
    "1. **Hypotheses**:\n",
    "   - **Null Hypothesis (H₀):** There is no difference in height between players in the top 50 and those not in the top 50.\n",
    "   - **Alternative Hypothesis (H₁):** There is a difference in height between players in the top 50 and those not in the top 50.\n",
    "\n",
    "2. **Results**:\n",
    "   - **T-Statistic**: `-2.266`\n",
    "   - **P-Value**: `0.0271`\n",
    "   - **Mean Height of Top 50 Players**: `6.44`\n",
    "   - **Mean Height of Non-Top 50 Players**: `6.54`\n",
    "\n",
    "3. **Interpretation**:\n",
    "   - The p-value (\\(p = 0.0271\\)) is **less than 0.05**, indicating that the difference in height between the two groups is statistically significant.\n",
    "   - The negative t-statistic indicates that players in the top 50 are, on average, **shorter** than players not in the top 50.\n",
    "\n",
    "4. **Summary**:\n",
    "   - While the difference in height is statistically significant, the actual difference in mean height is relatively small (approximately `0.10` units). This suggests that height may not be a major factor in determining whether a player is in the top 50."
   ]
  },
  {
   "cell_type": "markdown",
   "id": "a29260bf",
   "metadata": {},
   "source": [
    "#### 1.3.2.3: A/B testing(Identical to t-test)"
   ]
  },
  {
   "cell_type": "markdown",
   "id": "4d5cfe1a",
   "metadata": {},
   "source": [
    "##### 1.3.2.3.1:  Loading"
   ]
  },
  {
   "cell_type": "code",
   "execution_count": 9,
   "id": "b0daa5b6",
   "metadata": {},
   "outputs": [
    {
     "name": "stdout",
     "output_type": "stream",
     "text": [
      "   RANK                 PLAYER TEAM   G  GS   PPG   RPG   APG   MPG   EFF  \\\n",
      "0     1  Giannis Antetokounmpo  MIL  11  11  33.3  12.1   5.5  35.5  37.5   \n",
      "1     2          Anthony Davis  LAL  10  10  30.2  10.8   2.8  34.8  34.5   \n",
      "2     3           Jayson Tatum  BOS  13  13  30.2   7.6   5.6  36.1  30.2   \n",
      "3     4            LaMelo Ball  CHA  11  11  29.9   5.0   6.3  33.5  24.6   \n",
      "4     5           Nikola Jokić  DEN  10  10  29.7  13.7  11.7  38.1  44.2   \n",
      "\n",
      "    FG%   3P%   FT%  OFF  DEF  SPG  BPG   TO   PF  \n",
      "0  61.6  22.2  61.0  2.3  9.8  0.5  1.4  2.8  3.2  \n",
      "1  56.0  40.0  80.0  2.1  8.7  1.2  2.1  2.3  1.6  \n",
      "2  46.7  37.8  81.0  0.5  7.2  1.5  0.6  2.9  2.6  \n",
      "3  44.7  37.5  84.9  1.0  4.0  1.4  0.3  4.5  4.0  \n",
      "4  56.3  56.4  84.3  4.5  9.2  1.7  1.0  4.1  2.0  \n",
      "             PLAYER TEAM  POS    HT       WT  EXP        COUNTRY\n",
      "0  Precious Achiuwa  NYK    F   6-8  243 lbs    4        Nigeria\n",
      "1      Steven Adams  HOU    C  6-11  265 lbs   10    New Zealand\n",
      "2       Bam Adebayo  MIA  C-F   6-9  255 lbs    7  United States\n",
      "3      Ochai Agbaji  TOR    G   6-5  215 lbs    2  United States\n",
      "4      Santi Aldama  MEM  F-C   7-0  215 lbs    3          Spain\n"
     ]
    }
   ],
   "source": [
    "import sqlite3\n",
    "import pandas as pd\n",
    "\n",
    "conn_leaders = sqlite3.connect('nba_leaders.db')\n",
    "nba_leaders = pd.read_sql_query(\"SELECT * FROM players\", conn_leaders)\n",
    "conn_leaders.close()\n",
    "\n",
    "conn_info = sqlite3.connect('players_personal_info.db')\n",
    "players_info = pd.read_sql_query(\"SELECT * FROM players\", conn_info)\n",
    "conn_info.close()\n",
    "\n",
    "print(nba_leaders.head())\n",
    "print(players_info.head())"
   ]
  },
  {
   "cell_type": "markdown",
   "id": "f0ab68cd",
   "metadata": {},
   "source": [
    "##### 1.3.2.3.2: Merge the Tables"
   ]
  },
  {
   "cell_type": "code",
   "execution_count": 10,
   "id": "67f9d00e",
   "metadata": {},
   "outputs": [
    {
     "name": "stdout",
     "output_type": "stream",
     "text": [
      "   RANK                 PLAYER TEAM_x     G    GS   PPG   RPG   APG   MPG  \\\n",
      "0   1.0  Giannis Antetokounmpo    MIL  11.0  11.0  33.3  12.1   5.5  35.5   \n",
      "1   2.0          Anthony Davis    LAL  10.0  10.0  30.2  10.8   2.8  34.8   \n",
      "2   3.0           Jayson Tatum    BOS  13.0  13.0  30.2   7.6   5.6  36.1   \n",
      "3   4.0            LaMelo Ball    CHA  11.0  11.0  29.9   5.0   6.3  33.5   \n",
      "4   5.0           Nikola Jokić    DEN  10.0  10.0  29.7  13.7  11.7  38.1   \n",
      "\n",
      "    EFF  ...  SPG  BPG   TO   PF  TEAM_y  POS    HT       WT  EXP  \\\n",
      "0  37.5  ...  0.5  1.4  2.8  3.2     MIL    F  6-11  243 lbs   11   \n",
      "1  34.5  ...  1.2  2.1  2.3  1.6     LAL  F-C  6-10  253 lbs   12   \n",
      "2  30.2  ...  1.5  0.6  2.9  2.6     BOS  F-G   6-8  210 lbs    7   \n",
      "3  24.6  ...  1.4  0.3  4.5  4.0     CHA    G   6-7  180 lbs    4   \n",
      "4  44.2  ...  1.7  1.0  4.1  2.0     DEN    C  6-11  284 lbs    9   \n",
      "\n",
      "         COUNTRY  \n",
      "0         Greece  \n",
      "1  United States  \n",
      "2  United States  \n",
      "3  United States  \n",
      "4         Serbia  \n",
      "\n",
      "[5 rows x 25 columns]\n"
     ]
    }
   ],
   "source": [
    "merged_data = pd.merge(nba_leaders, players_info, on='PLAYER', how='outer')\n",
    "\n",
    "print(merged_data.head())"
   ]
  },
  {
   "cell_type": "markdown",
   "id": "89935194",
   "metadata": {},
   "source": [
    "##### 1.3.2.3.3: Perfoming A/B-test"
   ]
  },
  {
   "cell_type": "code",
   "execution_count": 11,
   "id": "5d3a8f51",
   "metadata": {},
   "outputs": [],
   "source": [
    "from scipy.stats import ttest_ind\n",
    "# Preprocess\n",
    "merged_data['HT'] = merged_data['HT'].str.replace('-', '.', regex=False)\n",
    "merged_data['HT'] = pd.to_numeric(merged_data['HT'], errors='coerce')  # Convert to numeric, setting non-numeric values to NaN\n",
    "merged_data = merged_data.dropna(subset=['HT']) \n",
    "merged_data['HT'] = merged_data['HT'].astype(float)\n",
    "merged_data['top_50'] = merged_data['PLAYER'].isin(nba_leaders['PLAYER']).astype(int)"
   ]
  },
  {
   "cell_type": "code",
   "execution_count": null,
   "id": "23d3d745",
   "metadata": {},
   "outputs": [
    {
     "name": "stdout",
     "output_type": "stream",
     "text": [
      "T-Statistic: -2.266000168762958\n",
      "P-Value: 0.02705397134057544\n",
      "mean of top_50_height: 6.440600000000001\n",
      "mean of top_50_height: 6.538972162740899\n"
     ]
    }
   ],
   "source": [
    "top_50_height = merged_data[merged_data['top_50'] == 1]['HT']  # Heights of top 50 players\n",
    "not_top_50_height = merged_data[merged_data['top_50'] == 0]['HT']  # Heights of non-top 50 players\n",
    "\n",
    "# Perform t-test\n",
    "t_stat, p_value = ttest_ind(top_50_height, not_top_50_height, equal_var=False)  \n",
    "\n",
    "# Print results\n",
    "print(f\"T-Statistic: {t_stat}\")\n",
    "print(f\"P-Value: {p_value}\")\n",
    "print(f\"mean of top_50_height: {top_50_height.mean()}\")\n",
    "print(f\"mean of not_top_50_height: {not_top_50_height.mean()}\")"
   ]
  },
  {
   "cell_type": "markdown",
   "id": "ad8cf16a",
   "metadata": {},
   "source": [
    "##### 1.3.2.3.4: Interpreting the results"
   ]
  },
  {
   "cell_type": "markdown",
   "id": "8981e535",
   "metadata": {},
   "source": [
    "1. **Hypotheses**:\n",
    "   - **Null Hypothesis (H₀):** There is no difference in height between players in the top 50 and those not in the top 50.\n",
    "   - **Alternative Hypothesis (H₁):** There is a difference in height between players in the top 50 and those not in the top 50.\n",
    "\n",
    "2. **Results**:\n",
    "   - **T-Statistic**: `-2.266`\n",
    "   - **P-Value**: `0.0271`\n",
    "   - **Mean Height of Top 50 Players**: `6.44`\n",
    "   - **Mean Height of Non-Top 50 Players**: `6.54`\n",
    "\n",
    "3. **Interpretation**:\n",
    "   - The p-value (\\(p = 0.0271\\)) is **less than 0.05**, indicating that the difference in height between the two groups is statistically significant.\n",
    "   - The negative t-statistic indicates that players in the top 50 are, on average, **shorter** than players not in the top 50.\n",
    "\n",
    "4. **Summary**:\n",
    "   - While the difference in height is statistically significant, the actual difference in mean height is relatively small (approximately `0.10` units). This suggests that height may not be a major factor in determining whether a player is in the top 50."
   ]
  },
  {
   "cell_type": "markdown",
   "id": "cc41b98c-dd46-455f-b4d8-9ae0e27ff77c",
   "metadata": {},
   "source": [
    "# 2. Basketball for life!"
   ]
  },
  {
   "cell_type": "markdown",
   "id": "0f87b17d-38d8-43e1-b7a6-550a6300c1d4",
   "metadata": {},
   "source": [
    "In this question, we want to affirm our analyses based on a more populated dataset. Seasons statistics has been provided from 1950 to 2022. The dataset is freely avaiable at <a href=\"https://www.kaggle.com/datasets/blitzapurv/nba-players-data-1950-to-2021\">Kaggle</a>. However, the dataset is provided at directory `./data/Q2/` as well in case of unstable internet connections.\n",
    "\n",
    "The specfications of the columns can be view at <a href=\"https://www.kaggle.com/datasets/blitzapurv/nba-players-data-1950-to-2021?select=seasons_stats.csv\">this wepbage</a>."
   ]
  },
  {
   "cell_type": "markdown",
   "id": "0faa4269-704a-4143-9e65-41319669122a",
   "metadata": {},
   "source": [
    "## 2.1 Cleaning Phase "
   ]
  },
  {
   "cell_type": "markdown",
   "id": "7120c582-c2c5-4255-a659-88ae9a452dfd",
   "metadata": {},
   "source": [
    "The season statistics such as field goals, 3-pointer success rates, assists, ... are of crucial importance to our analyses. Hence, drop the records with null values in these fields."
   ]
  },
  {
   "cell_type": "code",
   "execution_count": 104,
   "id": "22a1a82f",
   "metadata": {},
   "outputs": [],
   "source": [
    "import os\n",
    "NoteBookDir = os.getcwd()\n",
    "DataDir1 = os.path.join(NoteBookDir,'data')\n",
    "DataDir2 = os.path.join(DataDir1,'Q2')\n",
    "CSVDataDir1 = os.path.join(DataDir2,'player_data.csv')\n",
    "player_data = pd.read_csv(CSVDataDir1)\n",
    "# print(player_data.info())"
   ]
  },
  {
   "cell_type": "code",
   "execution_count": 105,
   "id": "afc3e227",
   "metadata": {},
   "outputs": [
    {
     "data": {
      "text/html": [
       "<div>\n",
       "<style scoped>\n",
       "    .dataframe tbody tr th:only-of-type {\n",
       "        vertical-align: middle;\n",
       "    }\n",
       "\n",
       "    .dataframe tbody tr th {\n",
       "        vertical-align: top;\n",
       "    }\n",
       "\n",
       "    .dataframe thead th {\n",
       "        text-align: right;\n",
       "    }\n",
       "</style>\n",
       "<table border=\"1\" class=\"dataframe\">\n",
       "  <thead>\n",
       "    <tr style=\"text-align: right;\">\n",
       "      <th></th>\n",
       "      <th>Player</th>\n",
       "      <th>From</th>\n",
       "      <th>To</th>\n",
       "      <th>Pos</th>\n",
       "      <th>Ht</th>\n",
       "      <th>Wt</th>\n",
       "      <th>Birth Date</th>\n",
       "      <th>Colleges</th>\n",
       "    </tr>\n",
       "  </thead>\n",
       "  <tbody>\n",
       "    <tr>\n",
       "      <th>0</th>\n",
       "      <td>Alaa Abdelnaby</td>\n",
       "      <td>1991</td>\n",
       "      <td>1995</td>\n",
       "      <td>F-C</td>\n",
       "      <td>6-10</td>\n",
       "      <td>240.0</td>\n",
       "      <td>June 24 1968</td>\n",
       "      <td>Duke</td>\n",
       "    </tr>\n",
       "    <tr>\n",
       "      <th>1</th>\n",
       "      <td>Zaid Abdul-Aziz</td>\n",
       "      <td>1969</td>\n",
       "      <td>1978</td>\n",
       "      <td>C-F</td>\n",
       "      <td>6-9</td>\n",
       "      <td>235.0</td>\n",
       "      <td>April 7 1946</td>\n",
       "      <td>Iowa State</td>\n",
       "    </tr>\n",
       "    <tr>\n",
       "      <th>2</th>\n",
       "      <td>Kareem Abdul-Jabbar*</td>\n",
       "      <td>1970</td>\n",
       "      <td>1989</td>\n",
       "      <td>C</td>\n",
       "      <td>7-2</td>\n",
       "      <td>225.0</td>\n",
       "      <td>April 16 1947</td>\n",
       "      <td>UCLA</td>\n",
       "    </tr>\n",
       "    <tr>\n",
       "      <th>3</th>\n",
       "      <td>Mahmoud Abdul-Rauf</td>\n",
       "      <td>1991</td>\n",
       "      <td>2001</td>\n",
       "      <td>G</td>\n",
       "      <td>6-1</td>\n",
       "      <td>162.0</td>\n",
       "      <td>March 9 1969</td>\n",
       "      <td>LSU</td>\n",
       "    </tr>\n",
       "    <tr>\n",
       "      <th>4</th>\n",
       "      <td>Tariq Abdul-Wahad</td>\n",
       "      <td>1998</td>\n",
       "      <td>2003</td>\n",
       "      <td>F</td>\n",
       "      <td>6-6</td>\n",
       "      <td>223.0</td>\n",
       "      <td>November 3 1974</td>\n",
       "      <td>Michigan San Jose State</td>\n",
       "    </tr>\n",
       "    <tr>\n",
       "      <th>...</th>\n",
       "      <td>...</td>\n",
       "      <td>...</td>\n",
       "      <td>...</td>\n",
       "      <td>...</td>\n",
       "      <td>...</td>\n",
       "      <td>...</td>\n",
       "      <td>...</td>\n",
       "      <td>...</td>\n",
       "    </tr>\n",
       "    <tr>\n",
       "      <th>4971</th>\n",
       "      <td>Derrick Zimmerman</td>\n",
       "      <td>2006</td>\n",
       "      <td>2006</td>\n",
       "      <td>G</td>\n",
       "      <td>6-3</td>\n",
       "      <td>195.0</td>\n",
       "      <td>December 2 1981</td>\n",
       "      <td>Mississippi State</td>\n",
       "    </tr>\n",
       "    <tr>\n",
       "      <th>4972</th>\n",
       "      <td>Stephen Zimmerman</td>\n",
       "      <td>2017</td>\n",
       "      <td>2017</td>\n",
       "      <td>C</td>\n",
       "      <td>7-0</td>\n",
       "      <td>240.0</td>\n",
       "      <td>September 9 1996</td>\n",
       "      <td>UNLV</td>\n",
       "    </tr>\n",
       "    <tr>\n",
       "      <th>4975</th>\n",
       "      <td>Jim Zoet</td>\n",
       "      <td>1983</td>\n",
       "      <td>1983</td>\n",
       "      <td>C</td>\n",
       "      <td>7-1</td>\n",
       "      <td>240.0</td>\n",
       "      <td>December 20 1953</td>\n",
       "      <td>Kent State University</td>\n",
       "    </tr>\n",
       "    <tr>\n",
       "      <th>4976</th>\n",
       "      <td>Bill Zopf</td>\n",
       "      <td>1971</td>\n",
       "      <td>1971</td>\n",
       "      <td>G</td>\n",
       "      <td>6-1</td>\n",
       "      <td>170.0</td>\n",
       "      <td>June 7 1948</td>\n",
       "      <td>Duquesne</td>\n",
       "    </tr>\n",
       "    <tr>\n",
       "      <th>4978</th>\n",
       "      <td>Matt Zunic</td>\n",
       "      <td>1949</td>\n",
       "      <td>1949</td>\n",
       "      <td>G-F</td>\n",
       "      <td>6-3</td>\n",
       "      <td>195.0</td>\n",
       "      <td>December 19 1919</td>\n",
       "      <td>George Washington</td>\n",
       "    </tr>\n",
       "  </tbody>\n",
       "</table>\n",
       "<p>4606 rows × 8 columns</p>\n",
       "</div>"
      ],
      "text/plain": [
       "                    Player  From    To  Pos    Ht     Wt        Birth Date  \\\n",
       "0           Alaa Abdelnaby  1991  1995  F-C  6-10  240.0      June 24 1968   \n",
       "1          Zaid Abdul-Aziz  1969  1978  C-F   6-9  235.0      April 7 1946   \n",
       "2     Kareem Abdul-Jabbar*  1970  1989    C   7-2  225.0     April 16 1947   \n",
       "3       Mahmoud Abdul-Rauf  1991  2001    G   6-1  162.0      March 9 1969   \n",
       "4        Tariq Abdul-Wahad  1998  2003    F   6-6  223.0   November 3 1974   \n",
       "...                    ...   ...   ...  ...   ...    ...               ...   \n",
       "4971     Derrick Zimmerman  2006  2006    G   6-3  195.0   December 2 1981   \n",
       "4972     Stephen Zimmerman  2017  2017    C   7-0  240.0  September 9 1996   \n",
       "4975              Jim Zoet  1983  1983    C   7-1  240.0  December 20 1953   \n",
       "4976             Bill Zopf  1971  1971    G   6-1  170.0       June 7 1948   \n",
       "4978            Matt Zunic  1949  1949  G-F   6-3  195.0  December 19 1919   \n",
       "\n",
       "                     Colleges  \n",
       "0                        Duke  \n",
       "1                  Iowa State  \n",
       "2                        UCLA  \n",
       "3                         LSU  \n",
       "4     Michigan San Jose State  \n",
       "...                       ...  \n",
       "4971        Mississippi State  \n",
       "4972                     UNLV  \n",
       "4975    Kent State University  \n",
       "4976                 Duquesne  \n",
       "4978        George Washington  \n",
       "\n",
       "[4606 rows x 8 columns]"
      ]
     },
     "execution_count": 105,
     "metadata": {},
     "output_type": "execute_result"
    }
   ],
   "source": [
    "player_data = player_data.dropna(subset={'Wt','Birth Date','Colleges'})\n",
    "player_data"
   ]
  },
  {
   "cell_type": "markdown",
   "id": "7fd05347-1b1e-40ac-bcf7-573d1d6637eb",
   "metadata": {},
   "source": [
    "## 2.2 Extracting Meaningful Signals "
   ]
  },
  {
   "cell_type": "markdown",
   "id": "b3eb4c50-6b54-4f92-8259-25c8daf16c5b",
   "metadata": {},
   "source": [
    "From the dataset, identify the most important statistical factors contributing to a player's overall performance score. Your task is to combine the provided statistics—**field goals**, **2-pointer success rate**, **3-pointer success rate**, **assists**, **blocks**, **steals**, **rebounds**, **minutes played**, and other relevant fields—into a single performance indicator.\n",
    "\n",
    "A simple approach could be to combine the attributes together using a linear model. Feel free to use any methods to adjust the weights. Plot your performance indicator to inspect the distribution visually."
   ]
  },
  {
   "cell_type": "code",
   "execution_count": 106,
   "id": "e4ed2289-de35-4589-b743-cb60d356adf8",
   "metadata": {},
   "outputs": [],
   "source": [
    "CSVDataDir2 = os.path.join(DataDir2,'seasons_stats.csv')\n",
    "seasons_stats = pd.read_csv(CSVDataDir2, encoding = 'latin-1')"
   ]
  },
  {
   "cell_type": "code",
   "execution_count": 107,
   "id": "f9616afe",
   "metadata": {},
   "outputs": [
    {
     "data": {
      "text/html": [
       "<div>\n",
       "<style scoped>\n",
       "    .dataframe tbody tr th:only-of-type {\n",
       "        vertical-align: middle;\n",
       "    }\n",
       "\n",
       "    .dataframe tbody tr th {\n",
       "        vertical-align: top;\n",
       "    }\n",
       "\n",
       "    .dataframe thead th {\n",
       "        text-align: right;\n",
       "    }\n",
       "</style>\n",
       "<table border=\"1\" class=\"dataframe\">\n",
       "  <thead>\n",
       "    <tr style=\"text-align: right;\">\n",
       "      <th></th>\n",
       "      <th>Player</th>\n",
       "      <th>Performance_Score</th>\n",
       "    </tr>\n",
       "  </thead>\n",
       "  <tbody>\n",
       "    <tr>\n",
       "      <th>11152</th>\n",
       "      <td>Hakeem Olajuwon*</td>\n",
       "      <td>0.435348</td>\n",
       "    </tr>\n",
       "    <tr>\n",
       "      <th>9800</th>\n",
       "      <td>Hakeem Olajuwon*</td>\n",
       "      <td>0.434549</td>\n",
       "    </tr>\n",
       "    <tr>\n",
       "      <th>11644</th>\n",
       "      <td>Hakeem Olajuwon*</td>\n",
       "      <td>0.420070</td>\n",
       "    </tr>\n",
       "    <tr>\n",
       "      <th>9622</th>\n",
       "      <td>Patrick Ewing*</td>\n",
       "      <td>0.415010</td>\n",
       "    </tr>\n",
       "    <tr>\n",
       "      <th>11687</th>\n",
       "      <td>David Robinson*</td>\n",
       "      <td>0.412370</td>\n",
       "    </tr>\n",
       "    <tr>\n",
       "      <th>24587</th>\n",
       "      <td>Russell Westbrook</td>\n",
       "      <td>0.408044</td>\n",
       "    </tr>\n",
       "    <tr>\n",
       "      <th>8831</th>\n",
       "      <td>Michael Jordan*</td>\n",
       "      <td>0.407561</td>\n",
       "    </tr>\n",
       "  </tbody>\n",
       "</table>\n",
       "</div>"
      ],
      "text/plain": [
       "                  Player  Performance_Score\n",
       "11152   Hakeem Olajuwon*           0.435348\n",
       "9800    Hakeem Olajuwon*           0.434549\n",
       "11644   Hakeem Olajuwon*           0.420070\n",
       "9622      Patrick Ewing*           0.415010\n",
       "11687    David Robinson*           0.412370\n",
       "24587  Russell Westbrook           0.408044\n",
       "8831     Michael Jordan*           0.407561"
      ]
     },
     "execution_count": 107,
     "metadata": {},
     "output_type": "execute_result"
    },
    {
     "data": {
      "image/png": "[encoded data removed]",
      "text/plain": [
       "<Figure size 1500x300 with 1 Axes>"
      ]
     },
     "metadata": {},
     "output_type": "display_data"
    }
   ],
   "source": [
    "from sklearn.preprocessing import MinMaxScaler\n",
    "# relevant fields and weights\n",
    "fields = [\"FG\", \"2PA\", \"3PA\", \"MP\", \"FT%\", \"TS%\", \"ORB%\", \"DRB%\", \"TRB%\", \"AST\", \"STL\", \"BLK\"]\n",
    "scaler = MinMaxScaler()\n",
    "normalized_stats = scaler.fit_transform(seasons_stats[fields])\n",
    "random_weights = np.random.rand(len(fields))\n",
    "normalized_weights = random_weights / random_weights.sum()\n",
    "performance_Score = np.dot(normalized_stats, normalized_weights)\n",
    "\n",
    "seasons_stats[\"Performance_Score\"] = performance_Score\n",
    "\n",
    "# Plot\n",
    "plt.figure(figsize=(15, 3))\n",
    "plt.hist(performance_Score, bins=30, edgecolor='black')\n",
    "plt.title(\"Distribution of Performance Indicator\", fontsize=16)\n",
    "plt.xlabel(\"Performance Score\", fontsize=14)\n",
    "plt.ylabel(\"Frequency\", fontsize=14)\n",
    "plt.grid(True)\n",
    "# Top players\n",
    "top_players = seasons_stats[[\"Player\", \"Performance_Score\"]].sort_values(by=\"Performance_Score\", ascending=False).head(7)\n",
    "top_players"
   ]
  },
  {
   "cell_type": "markdown",
   "id": "c7f82fe6-81cd-4687-8fe9-c2118d67354d",
   "metadata": {},
   "source": [
    "## 2.3 Hypothesis Tests"
   ]
  },
  {
   "cell_type": "markdown",
   "id": "56c7a035-9f24-451b-a390-2cc775e840b9",
   "metadata": {},
   "source": [
    "Examine the following hypothesis tests using the methods discussed in class, such as ANOVA, t-tests, A-B testing, Pearson and Spearman correlations. Make sure to provide p-values for each experiment and thoroughly justify your conclusions.\n",
    "\n",
    "* Hypothesis 1: Player performance has significantly increased over time.\n",
    "\n",
    "* Hypothesis 2: The average height and weight of NBA players has increased significantly over time.\n",
    "\n",
    "* Hypothesis 3: Players from *Kentucky* college have a higher performance than players from other colleges.\n",
    "\n",
    "* Hypothesis 4: There is a significant correlation between a player's height and their average points per game."
   ]
  },
  {
   "cell_type": "markdown",
   "id": "e4b5e92b",
   "metadata": {},
   "source": [
    "**What kind of testing should we choose:**\n",
    "- **ANOVA** is used when comparing the means of three or more groups.\n",
    "- **T-test** is used to compare the means of two groups.\n",
    "- **A/B Testing** is a specific application of hypothesis testing to compare two variations, typically in marketing or product testing.\n",
    "- **Pearson correlation** is used to assess the linear relationship between two continuous variables.\n",
    "- **Spearman correlation** is used for monotonic relationships and can handle non-normal distributions.\n"
   ]
  },
  {
   "cell_type": "markdown",
   "id": "135c3ae8",
   "metadata": {},
   "source": [
    "### 2.3.1: Player performance has significantly increased over time."
   ]
  },
  {
   "cell_type": "markdown",
   "id": "70d34320",
   "metadata": {},
   "source": [
    "#### 2.3.1.1: ANOVA"
   ]
  },
  {
   "cell_type": "code",
   "execution_count": 58,
   "id": "de7250ba",
   "metadata": {},
   "outputs": [
    {
     "name": "stdout",
     "output_type": "stream",
     "text": [
      "ANOVA F-statistic: 7.128974549805578\n",
      "ANOVA p-value: 3.1753972935816155e-40\n"
     ]
    }
   ],
   "source": [
    "import scipy.stats as stats\n",
    "seasons_stats231 = seasons_stats.dropna(subset=[\"Performance_Score\"])\n",
    "# Group performance scores by year\n",
    "grouped_scores = [group[\"Performance_Score\"].values for _, group in seasons_stats231.groupby(\"Year\")]\n",
    "\n",
    "# Perform one-way ANOVA\n",
    "anova_result = stats.f_oneway(*grouped_scores)\n",
    "\n",
    "print(\"ANOVA F-statistic:\", anova_result.statistic)\n",
    "print(\"ANOVA p-value:\", anova_result.pvalue)"
   ]
  },
  {
   "cell_type": "markdown",
   "id": "4f9ae7a7",
   "metadata": {},
   "source": [
    "**F-statistic**: 7.13  \n",
    "**p-value**: 3.18e-40 (essentially 0)\n",
    "\n",
    "- Interpretation\n",
    "    Since the p-value is extremely low (far below a common alpha level like 0.05), you can **reject the null hypothesis**. This means there is strong evidence that **player performance has significantly changed over time**.\n",
    "    \n",
    "Let's see it below:\n"
   ]
  },
  {
   "cell_type": "code",
   "execution_count": 63,
   "id": "d50f5e67",
   "metadata": {},
   "outputs": [
    {
     "data": {
      "image/png": "[encoded data removed]",
      "text/plain": [
       "<Figure size 1500x500 with 1 Axes>"
      ]
     },
     "metadata": {},
     "output_type": "display_data"
    }
   ],
   "source": [
    "mean_performance_by_year = seasons_stats.groupby(\"Year\")[\"Performance_Score\"].mean()\n",
    "\n",
    "# Create the line plot\n",
    "plt.figure(figsize=(15, 5))\n",
    "ss.lineplot(x=mean_performance_by_year.index, y=mean_performance_by_year.values, marker=\"o\", color=\"blue\")\n",
    "\n",
    "# display\n",
    "plt.title(\"Average Player Performance Over Time\", fontsize=16)\n",
    "plt.xlabel(\"Year\", fontsize=14)\n",
    "plt.ylabel(\"Average Performance Score\", fontsize=14)\n",
    "plt.grid(True, linestyle='--', alpha=0.7)\n",
    "plt.tight_layout()\n",
    "plt.show()\n"
   ]
  },
  {
   "cell_type": "markdown",
   "id": "9a89246b",
   "metadata": {},
   "source": [
    "### 2.3.2: The average height and weight of NBA players has increased significantly over time."
   ]
  },
  {
   "cell_type": "markdown",
   "id": "1bca7b91",
   "metadata": {},
   "source": [
    "#### 2.3.2.1: ANOVA"
   ]
  },
  {
   "cell_type": "markdown",
   "id": "94e6fc53",
   "metadata": {},
   "source": [
    "##### 2.3.2.1.1: Preprocess"
   ]
  },
  {
   "cell_type": "code",
   "execution_count": null,
   "id": "d4e312d4",
   "metadata": {},
   "outputs": [],
   "source": [
    "# Convert to numeric, setting non-numeric values to NaN\n",
    "player_data['Ht'] = player_data['Ht'].str.replace('-', '.', regex=False)\n",
    "player_data['Ht'] = pd.to_numeric(player_data['Ht'], errors='coerce')\n",
    "player_data = player_data.dropna(subset=['Ht']) \n",
    "player_data['Ht'] = player_data['Ht'].astype(float)\n"
   ]
  },
  {
   "cell_type": "code",
   "execution_count": 97,
   "id": "ff36e70d",
   "metadata": {},
   "outputs": [
    {
     "name": "stdout",
     "output_type": "stream",
     "text": [
      "Expanded Data:\n",
      "   Year          Player   Ht     Wt\n",
      "0  1991  Alaa Abdelnaby  6.1  240.0\n",
      "1  1992  Alaa Abdelnaby  6.1  240.0\n",
      "2  1993  Alaa Abdelnaby  6.1  240.0\n",
      "3  1994  Alaa Abdelnaby  6.1  240.0\n",
      "4  1995  Alaa Abdelnaby  6.1  240.0\n",
      "\n",
      "Yearly Averages:\n",
      "   Year  Average_Height  Average_Weight\n",
      "0  1947        6.143913      189.007246\n",
      "1  1948        6.161569      186.990196\n",
      "2  1949        6.247160      190.994083\n",
      "3  1950        6.238651      191.186047\n",
      "4  1951        6.308671      194.566434\n"
     ]
    }
   ],
   "source": [
    "# Create a DataFrame with rows for each year a player was active\n",
    "compressed_data = []\n",
    "for _, row in player_data.iterrows():\n",
    "    for year in range(row['From'], row['To'] + 1):\n",
    "        compressed_data.append({\n",
    "            'Year': year,\n",
    "            'Player': row['Player'],\n",
    "            'Ht': row['Ht'],\n",
    "            'Wt': row['Wt']\n",
    "        })\n",
    "compressed_data = pd.DataFrame(compressed_data)\n",
    "# Group by year and calculate averages for height and weight\n",
    "yearly_averages = compressed_data.groupby('Year').agg({\n",
    "    'Ht': 'mean',\n",
    "    'Wt': 'mean'\n",
    "}).reset_index()\n",
    "yearly_averages.rename(columns={'Ht': 'Average_Height', 'Wt': 'Average_Weight'}, inplace=True)\n",
    "# Display the compressed data and averages\n",
    "print(\"Expanded Data:\")\n",
    "print(compressed_data.head())\n",
    "\n",
    "print(\"\\nYearly Averages:\")\n",
    "print(yearly_averages.head())"
   ]
  },
  {
   "cell_type": "markdown",
   "id": "029d4dff",
   "metadata": {},
   "source": [
    "##### 2.3.2.1.2: Perfoming ANOVA "
   ]
  },
  {
   "cell_type": "code",
   "execution_count": 99,
   "id": "83bcde7f",
   "metadata": {},
   "outputs": [
    {
     "name": "stdout",
     "output_type": "stream",
     "text": [
      "ANOVA for Height - F-statistic: 7.124623746675616 , p-value: 1.6267879471484607e-69\n",
      "ANOVA for Weight - F-statistic: 30.78663754428768 , p-value: 0.0\n"
     ]
    }
   ],
   "source": [
    "height_groups = [group['Ht'].values for _, group in compressed_data.groupby('Year')]\n",
    "weight_groups = [group['Wt'].values for _, group in compressed_data.groupby('Year')]\n",
    "\n",
    "# Perform ANOVA for height and weight\n",
    "anova_height = stats.f_oneway(*height_groups)\n",
    "anova_weight = stats.f_oneway(*weight_groups)\n",
    "\n",
    "# Display results\n",
    "print(\"ANOVA for Height - F-statistic:\", anova_height.statistic, \", p-value:\", anova_height.pvalue)\n",
    "print(\"ANOVA for Weight - F-statistic:\", anova_weight.statistic, \", p-value:\", anova_weight.pvalue)\n"
   ]
  },
  {
   "cell_type": "markdown",
   "id": "8d8ba2f5",
   "metadata": {},
   "source": [
    "##### 2.3.2.1.3: Results"
   ]
  },
  {
   "cell_type": "markdown",
   "id": "fa0912aa",
   "metadata": {},
   "source": [
    "- Height\n",
    "    - **F-statistic**: 7.12  \n",
    "    - **p-value**: 1.63e-69 (extremely small)  \n",
    "    - Interpretation: The **average height of NBA players has significantly changed over time**, as the p-value is far below the significance threshold (e.g., 0.05).\n",
    "\n",
    "---\n",
    "\n",
    "- Weight\n",
    "    - **F-statistic**: 30.79  \n",
    "    - **p-value**: ~0.0 (effectively zero)  \n",
    "    - Interpretation: The **average weight of NBA players has significantly changed over time**, with an extremely small p-value indicating high confidence in this result.\n",
    "\n",
    "---\n",
    "\n",
    "- Conclusion\n",
    "    Both height and weight trends are statistically significant over time. These findings suggest that changes in player height and weight are unlikely to be due to random chance and reflect meaningful shifts over the years.\n",
    "\n",
    "---\n",
    "\n",
    "- Visualizations:"
   ]
  },
  {
   "cell_type": "code",
   "execution_count": null,
   "id": "3d2eacf0",
   "metadata": {},
   "outputs": [
    {
     "data": {
      "image/png": "[encoded data removed]",
      "text/plain": [
       "<Figure size 1200x800 with 2 Axes>"
      ]
     },
     "metadata": {},
     "output_type": "display_data"
    }
   ],
   "source": [
    "fig, axes = plt.subplots(2, 1, figsize=(12, 8), sharex=True)\n",
    "# Height\n",
    "axes[0].plot(yearly_averages[\"Year\"], yearly_averages[\"Average_Height\"], label=\"Average Height (inches)\", marker=\"o\", color=\"blue\")\n",
    "axes[0].set_title(\"Trends in Average Height of NBA Players Over Time\", fontsize=16)\n",
    "axes[0].set_ylabel(\"Average Height (inches)\", fontsize=14)\n",
    "axes[0].grid(True, linestyle='--', alpha=0.7)\n",
    "axes[0].legend()\n",
    "# Weight\n",
    "axes[1].plot(yearly_averages[\"Year\"], yearly_averages[\"Average_Weight\"], label=\"Average Weight (lbs)\", marker=\"o\", color=\"orange\")\n",
    "axes[1].set_title(\"Trends in Average Weight of NBA Players Over Time\", fontsize=16)\n",
    "axes[1].set_xlabel(\"Year\", fontsize=14)\n",
    "axes[1].set_ylabel(\"Average Weight (lbs)\", fontsize=14)\n",
    "axes[1].grid(True, linestyle='--', alpha=0.7)\n",
    "axes[1].legend()\n",
    "# Display\n",
    "plt.tight_layout()\n",
    "plt.show()"
   ]
  },
  {
   "cell_type": "markdown",
   "id": "2f7f129f",
   "metadata": {},
   "source": [
    "### 2.3.3: Players from *Kentucky* college have a higher performance than players from other colleges."
   ]
  },
  {
   "cell_type": "markdown",
   "id": "9d7e898e",
   "metadata": {},
   "source": [
    "#### 2.3.3.1: A/B test"
   ]
  },
  {
   "cell_type": "markdown",
   "id": "f9b6c4a1",
   "metadata": {},
   "source": [
    "##### 2.3.3.1.1: Performing the test"
   ]
  },
  {
   "cell_type": "code",
   "execution_count": 112,
   "id": "d0031b63",
   "metadata": {},
   "outputs": [
    {
     "name": "stdout",
     "output_type": "stream",
     "text": [
      "T-statistic: 4.72494414396048\n",
      "P-value: 2.8994723103436985e-06\n"
     ]
    }
   ],
   "source": [
    "merged_data = pd.merge(seasons_stats, player_data, on='Player', how = \"inner\")\n",
    "merged_data = merged_data.dropna(subset='Performance_Score')\n",
    "kentucky_group = merged_data[merged_data[\"Colleges\"] == \"Kentucky\"][\"Performance_Score\"]\n",
    "other_colleges_group = merged_data[merged_data[\"Colleges\"] != \"Kentucky\"][\"Performance_Score\"]\n",
    "\n",
    "# Perform a two-sample t-test\n",
    "t_stat, p_value = stats.ttest_ind(kentucky_group, other_colleges_group, equal_var=False)\n",
    "\n",
    "# Print the results\n",
    "print(\"T-statistic:\", t_stat)\n",
    "print(\"P-value:\", p_value)"
   ]
  },
  {
   "cell_type": "markdown",
   "id": "1f2bf840",
   "metadata": {},
   "source": [
    "##### 2.3.3.1.3: Results"
   ]
  },
  {
   "cell_type": "markdown",
   "id": "84c1bb73",
   "metadata": {},
   "source": [
    "**T-statistic**: 4.72  \n",
    "**P-value**: 2.90e-06 (essentially 0)\n",
    "\n",
    "- Interpretation\n",
    "\n",
    "    - Since the **p-value is extremely small** (far below the common significance level of 0.05), we **reject the null hypothesis**.\n",
    "    - This indicates that there is **a significant difference in performance** between players from *Kentucky* and players from other colleges.\n",
    "\n",
    "---\n",
    "- Conclusion\n",
    "\n",
    "    - Players from *Kentucky* have a significantly different performance compared to players from other colleges, based on the test.\n"
   ]
  },
  {
   "cell_type": "markdown",
   "id": "c12b65e0",
   "metadata": {},
   "source": [
    "### 2.3.4: There is a significant correlation between a player's height and their average points per game."
   ]
  },
  {
   "cell_type": "markdown",
   "id": "1edb5f7e",
   "metadata": {},
   "source": [
    "#### 2.3.4.1: Preprocess"
   ]
  },
  {
   "cell_type": "code",
   "execution_count": 117,
   "id": "408ef047",
   "metadata": {},
   "outputs": [],
   "source": [
    "# Convert to numeric, setting non-numeric values to NaN\n",
    "player_data['Ht'] = player_data['Ht'].str.replace('-', '.', regex=False)\n",
    "player_data['Ht'] = pd.to_numeric(player_data['Ht'], errors='coerce')\n",
    "player_data = player_data.dropna(subset=['Ht']) \n",
    "player_data['Ht'] = player_data['Ht'].astype(float)\n",
    "# Merge on Player and Average\n",
    "merged_data = pd.merge(seasons_stats, player_data[['Player', 'Ht']], on='Player')\n",
    "merged_data['PTS_per_game'] = merged_data['PTS'] / merged_data['G']"
   ]
  },
  {
   "cell_type": "markdown",
   "id": "dbdda201",
   "metadata": {},
   "source": [
    "#### 2.3.4.2: Pearson"
   ]
  },
  {
   "cell_type": "code",
   "execution_count": 119,
   "id": "7b670da7",
   "metadata": {},
   "outputs": [
    {
     "name": "stdout",
     "output_type": "stream",
     "text": [
      "Pearson correlation coefficient: 0.03886595777437095\n",
      "Pearson p-value: 5.426545767533005e-10\n"
     ]
    }
   ],
   "source": [
    "pearson_corr, pearson_p_value = stats.pearsonr(merged_data['Ht'], merged_data['PTS_per_game'])\n",
    "print(\"Pearson correlation coefficient:\", pearson_corr)\n",
    "print(\"Pearson p-value:\", pearson_p_value)"
   ]
  },
  {
   "cell_type": "markdown",
   "id": "9cdef3d4",
   "metadata": {},
   "source": [
    "#### 2.3.4.3: Spearman"
   ]
  },
  {
   "cell_type": "code",
   "execution_count": 120,
   "id": "fabc3563",
   "metadata": {},
   "outputs": [
    {
     "name": "stdout",
     "output_type": "stream",
     "text": [
      "Spearman correlation coefficient: 0.010149570868765482\n",
      "Spearman p-value: 0.1052007872525715\n"
     ]
    }
   ],
   "source": [
    "spearman_corr, spearman_p_value = stats.spearmanr(merged_data['Ht'], merged_data['PTS_per_game'])\n",
    "print(\"Spearman correlation coefficient:\", spearman_corr)\n",
    "print(\"Spearman p-value:\", spearman_p_value)"
   ]
  },
  {
   "cell_type": "markdown",
   "id": "eda77845",
   "metadata": {},
   "source": [
    "#### 2.3.4.4: Results"
   ]
  },
  {
   "cell_type": "markdown",
   "id": "1b3c690c",
   "metadata": {},
   "source": [
    "**Spearman Correlation**\n",
    "- **Spearman correlation coefficient**: 0.0101 (very close to 0)\n",
    "- **Spearman p-value**: 0.1052\n",
    "\n",
    "**Interpretation**:  \n",
    "The Spearman correlation coefficient is very close to 0, indicating almost no rank correlation between height and points per game. Since the p-value is greater than 0.05, we **fail to reject the null hypothesis**, meaning there is no significant   rank correlation between player height and average points per game.\n",
    "\n",
    "---\n",
    "\n",
    "**Pearson Correlation**\n",
    "- **Pearson correlation coefficient**: 0.0389 (very weak positive correlation)\n",
    "- **Pearson p-value**: 5.43e-10 (very small, much less than 0.05)\n",
    "\n",
    "**Interpretation**:  \n",
    "Although the Pearson correlation coefficient is very small, suggesting a weak positive linear relationship, the **p-value is very small**, indicating that the correlation is statistically significant. However, the weak correlation means the practical relevance is minimal, even though it is statistically significant.\n",
    "\n",
    "---\n",
    "\n",
    "**Conclusion**\n",
    "- The **Pearson correlation** shows a statistically significant but weak positive linear relationship between player height and average points per game.\n",
    "- The **Spearman correlation** suggests no significant rank correlation, indicating no meaningful relationship when considering ranks.\n",
    "\n"
   ]
  },
  {
   "cell_type": "code",
   "execution_count": 142,
   "id": "f35af258",
   "metadata": {},
   "outputs": [
    {
     "name": "stderr",
     "output_type": "stream",
     "text": [
      "c:\\Users\\HAMAHANG\\anaconda3\\Lib\\site-packages\\seaborn\\axisgrid.py:118: UserWarning: The figure layout has changed to tight\n",
      "  self._figure.tight_layout(*args, **kwargs)\n"
     ]
    },
    {
     "data": {
      "text/plain": [
       "<Figure size 600x500 with 0 Axes>"
      ]
     },
     "metadata": {},
     "output_type": "display_data"
    },
    {
     "data": {
      "image/png": "[encoded data removed]",
      "text/plain": [
       "<Figure size 750x500 with 1 Axes>"
      ]
     },
     "metadata": {},
     "output_type": "display_data"
    }
   ],
   "source": [
    "plt.figure(figsize=(6, 5))\n",
    "ss.lmplot(x='Ht', y='PTS_per_game', data=merged_data, aspect=1.5, line_kws={'color': 'red'})\n",
    "plt.title('Player Height vs. Average Points Per Game with Linear Fit', fontsize=16)\n",
    "plt.xlabel('Player Height (inches)', fontsize=14)\n",
    "plt.ylabel('Average Points Per Game', fontsize=14)\n",
    "plt.grid(True)\n",
    "plt.subplots_adjust(left=0.1, right=0.9, top=0.9, bottom=0.1)\n",
    "plt.show()\n"
   ]
  }
 ],
 "metadata": {
  "kernelspec": {
   "display_name": "base",
   "language": "python",
   "name": "python3"
  },
  "language_info": {
   "codemirror_mode": {
    "name": "ipython",
    "version": 3
   },
   "file_extension": ".py",
   "mimetype": "text/x-python",
   "name": "python",
   "nbconvert_exporter": "python",
   "pygments_lexer": "ipython3",
   "version": "3.11.5"
  }
 },
 "nbformat": 4,
 "nbformat_minor": 5
}
